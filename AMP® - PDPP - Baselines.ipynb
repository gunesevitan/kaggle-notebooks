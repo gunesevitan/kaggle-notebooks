{
 "cells": [
  {
   "cell_type": "markdown",
   "id": "f1e0c5b3",
   "metadata": {
    "papermill": {
     "duration": 0.00494,
     "end_time": "2023-04-20T08:08:40.604269",
     "exception": false,
     "start_time": "2023-04-20T08:08:40.599329",
     "status": "completed"
    },
    "tags": []
   },
   "source": [
    "## AMP® - Parkinson's Disease Progression Prediction - Baselines"
   ]
  },
  {
   "cell_type": "markdown",
   "id": "584d90d4",
   "metadata": {
    "papermill": {
     "duration": 0.003446,
     "end_time": "2023-04-20T08:08:40.611692",
     "exception": false,
     "start_time": "2023-04-20T08:08:40.608246",
     "status": "completed"
    },
    "tags": []
   },
   "source": [
    "## 1. Setup"
   ]
  },
  {
   "cell_type": "code",
   "execution_count": 1,
   "id": "71eea539",
   "metadata": {
    "_cell_guid": "b1076dfc-b9ad-4769-8c92-a6c4dae69d19",
    "_uuid": "8f2839f25d086af736a60e9eeb907d3b93b6e0e5",
    "execution": {
     "iopub.execute_input": "2023-04-20T08:08:40.621245Z",
     "iopub.status.busy": "2023-04-20T08:08:40.620700Z",
     "iopub.status.idle": "2023-04-20T08:08:40.652695Z",
     "shell.execute_reply": "2023-04-20T08:08:40.651401Z"
    },
    "papermill": {
     "duration": 0.040404,
     "end_time": "2023-04-20T08:08:40.655742",
     "exception": false,
     "start_time": "2023-04-20T08:08:40.615338",
     "status": "completed"
    },
    "tags": []
   },
   "outputs": [],
   "source": [
    "import sys\n",
    "from pathlib import Path\n",
    "import numpy as np\n",
    "import pandas as pd\n",
    "\n",
    "dataset_directory = Path('/kaggle/input/amp-parkinsons-disease-progression-prediction')\n",
    "sys.path.append(dataset_directory)\n",
    "import amp_pd_peptide"
   ]
  },
  {
   "cell_type": "code",
   "execution_count": 2,
   "id": "cfd2bcb1",
   "metadata": {
    "execution": {
     "iopub.execute_input": "2023-04-20T08:08:40.665725Z",
     "iopub.status.busy": "2023-04-20T08:08:40.665299Z",
     "iopub.status.idle": "2023-04-20T08:08:40.702521Z",
     "shell.execute_reply": "2023-04-20T08:08:40.700773Z"
    },
    "papermill": {
     "duration": 0.046109,
     "end_time": "2023-04-20T08:08:40.706020",
     "exception": false,
     "start_time": "2023-04-20T08:08:40.659911",
     "status": "completed"
    },
    "tags": []
   },
   "outputs": [
    {
     "name": "stdout",
     "output_type": "stream",
     "text": [
      "Train Clinical Data Shape: (2615, 8) - Memory Usage: 0.16 MB\n",
      "Patient Count: 248 - Mean Visit Count: 10.54\n"
     ]
    }
   ],
   "source": [
    "df_train_clinical_data = pd.read_csv(dataset_directory / 'train_clinical_data.csv')\n",
    "print(f'Train Clinical Data Shape: {df_train_clinical_data.shape} - Memory Usage: {df_train_clinical_data.memory_usage().sum() / 1024 ** 2:.2f} MB')\n",
    "\n",
    "patient_count = df_train_clinical_data['patient_id'].nunique()\n",
    "visit_count_mean = df_train_clinical_data.groupby('patient_id')['visit_month'].count().mean()\n",
    "print(f'Patient Count: {patient_count} - Mean Visit Count: {visit_count_mean:.2f}')"
   ]
  },
  {
   "cell_type": "code",
   "execution_count": 3,
   "id": "14d2bb3f",
   "metadata": {
    "execution": {
     "iopub.execute_input": "2023-04-20T08:08:40.716651Z",
     "iopub.status.busy": "2023-04-20T08:08:40.715783Z",
     "iopub.status.idle": "2023-04-20T08:08:40.736493Z",
     "shell.execute_reply": "2023-04-20T08:08:40.734946Z"
    },
    "papermill": {
     "duration": 0.028948,
     "end_time": "2023-04-20T08:08:40.739124",
     "exception": false,
     "start_time": "2023-04-20T08:08:40.710176",
     "status": "completed"
    },
    "tags": []
   },
   "outputs": [
    {
     "name": "stdout",
     "output_type": "stream",
     "text": [
      "Supplemental Clinical Data Shape: (2223, 8) - Memory Usage: 0.14 MB\n",
      "Patient Count: 771 - Mean Visit Count: 2.88\n"
     ]
    }
   ],
   "source": [
    "df_supplemental_clinical_data = pd.read_csv(dataset_directory / 'supplemental_clinical_data.csv')\n",
    "print(f'Supplemental Clinical Data Shape: {df_supplemental_clinical_data.shape} - Memory Usage: {df_supplemental_clinical_data.memory_usage().sum() / 1024 ** 2:.2f} MB')\n",
    "\n",
    "patient_count = df_supplemental_clinical_data['patient_id'].nunique()\n",
    "visit_count_mean = df_supplemental_clinical_data.groupby('patient_id')['visit_month'].count().mean()\n",
    "print(f'Patient Count: {patient_count} - Mean Visit Count: {visit_count_mean:.2f}')"
   ]
  },
  {
   "cell_type": "markdown",
   "id": "f0c1fd3a",
   "metadata": {
    "papermill": {
     "duration": 0.003781,
     "end_time": "2023-04-20T08:08:40.746858",
     "exception": false,
     "start_time": "2023-04-20T08:08:40.743077",
     "status": "completed"
    },
    "tags": []
   },
   "source": [
    "## 2. Evaluation\n",
    "\n",
    "The problem is predicting `updrs_1`, `updrs_2`, `updrs_3` and `updrs_4` values at a given `visit_month` and potential **6**, **12** and **24** month visits after the current `visit_month`.\n",
    "\n",
    "Predictions are evaluated on symmetric mean absolute percentage error (SMAPE) + 1."
   ]
  },
  {
   "cell_type": "code",
   "execution_count": 4,
   "id": "28e33b27",
   "metadata": {
    "execution": {
     "iopub.execute_input": "2023-04-20T08:08:40.757125Z",
     "iopub.status.busy": "2023-04-20T08:08:40.756253Z",
     "iopub.status.idle": "2023-04-20T08:08:40.766257Z",
     "shell.execute_reply": "2023-04-20T08:08:40.765348Z"
    },
    "papermill": {
     "duration": 0.017979,
     "end_time": "2023-04-20T08:08:40.768746",
     "exception": false,
     "start_time": "2023-04-20T08:08:40.750767",
     "status": "completed"
    },
    "tags": []
   },
   "outputs": [],
   "source": [
    "def symmetric_mean_absolute_percentage_error(y_true, y_pred):\n",
    "\n",
    "    \"\"\"\n",
    "    Calculate symmetric mean absolute percentage error from given ground-truth and predictions\n",
    "    \n",
    "    Parameters\n",
    "    ----------\n",
    "    y_true: array-like of shape (n_samples)\n",
    "        Array of ground-truth values\n",
    "        \n",
    "    y_pred: array-like of shape (n_samples)\n",
    "        Array of prediction values\n",
    "        \n",
    "    Returns\n",
    "    -------\n",
    "    smape: float\n",
    "        Symmetric mean absolute percentage error\n",
    "    \"\"\"\n",
    "\n",
    "    smape = 100 / len(y_true) * np.sum(2 * np.abs(y_pred - y_true) / (np.abs(y_true) + np.abs(y_pred)))\n",
    "\n",
    "    return smape\n",
    "\n",
    "\n",
    "def score(df, target_columns, prediction_columns):\n",
    "    \n",
    "    \"\"\"\n",
    "    Concatenate targets and prediction into a single array and calculate SMAPE + 1\n",
    "    \n",
    "    Parameters\n",
    "    ----------\n",
    "    target_columns: list of shape (4)\n",
    "        Array of target column names\n",
    "        \n",
    "    prediction_columns: list of shape (4)\n",
    "        Array of prediction column names\n",
    "        \n",
    "    Returns\n",
    "    -------\n",
    "    score: float\n",
    "        Symmetric mean absolute percentage error\n",
    "    \"\"\"\n",
    "    \n",
    "    y_true = []\n",
    "    y_pred = []\n",
    "    \n",
    "    for target_column, prediction_column in zip(target_columns, prediction_columns):\n",
    "        target_idx = df[target_column].notna()\n",
    "        y_true.append(df.loc[target_idx, target_column].values + 1)\n",
    "        y_pred.append(df.loc[target_idx, prediction_column].values + 1)\n",
    "        \n",
    "    y_true = np.concatenate(y_true)\n",
    "    y_pred = np.concatenate(y_pred)\n",
    "        \n",
    "    score = symmetric_mean_absolute_percentage_error(\n",
    "        y_true=y_true,\n",
    "        y_pred=y_pred\n",
    "    )\n",
    "    \n",
    "    return score\n"
   ]
  },
  {
   "cell_type": "markdown",
   "id": "c69f3c94",
   "metadata": {
    "papermill": {
     "duration": 0.003718,
     "end_time": "2023-04-20T08:08:40.776471",
     "exception": false,
     "start_time": "2023-04-20T08:08:40.772753",
     "status": "completed"
    },
    "tags": []
   },
   "source": [
    "## 3. Baselines\n",
    "\n",
    "Median values at each visit month is a strong baseline since this kind of forecasting problems are hard. `visit_month` median values of `updrs_1` are calculated on clinical data and median values of `updrs_2`, `updrs_3`, `updrs_4` are calculated on clinical and supplemental data.\n",
    "\n",
    "When clinical and supplemental data are concatenated, different `visit_month` values (**5**) exist on the baselines table. Unseen `visit_month` values also exist in hidden test set which will be handled accordingly.\n",
    "\n",
    "Default median values of visit months have a flaw. Median updrs values might decrease as `visit_month` increases since dataset is not large enough and noisy. A baseline like that might overfit to training set and generalize poorly. Replacing median values with expanding window max values increases validation and leaderboard scores."
   ]
  },
  {
   "cell_type": "code",
   "execution_count": 5,
   "id": "0a9a7fc9",
   "metadata": {
    "execution": {
     "iopub.execute_input": "2023-04-20T08:08:40.786493Z",
     "iopub.status.busy": "2023-04-20T08:08:40.785800Z",
     "iopub.status.idle": "2023-04-20T08:08:40.834982Z",
     "shell.execute_reply": "2023-04-20T08:08:40.833638Z"
    },
    "papermill": {
     "duration": 0.057446,
     "end_time": "2023-04-20T08:08:40.837711",
     "exception": false,
     "start_time": "2023-04-20T08:08:40.780265",
     "status": "completed"
    },
    "tags": []
   },
   "outputs": [
    {
     "data": {
      "text/html": [
       "<div>\n",
       "<style scoped>\n",
       "    .dataframe tbody tr th:only-of-type {\n",
       "        vertical-align: middle;\n",
       "    }\n",
       "\n",
       "    .dataframe tbody tr th {\n",
       "        vertical-align: top;\n",
       "    }\n",
       "\n",
       "    .dataframe thead th {\n",
       "        text-align: right;\n",
       "    }\n",
       "</style>\n",
       "<table border=\"1\" class=\"dataframe\">\n",
       "  <thead>\n",
       "    <tr style=\"text-align: right;\">\n",
       "      <th></th>\n",
       "      <th>updrs_1</th>\n",
       "      <th>updrs_2</th>\n",
       "      <th>updrs_3</th>\n",
       "      <th>updrs_4</th>\n",
       "    </tr>\n",
       "    <tr>\n",
       "      <th>visit_month</th>\n",
       "      <th></th>\n",
       "      <th></th>\n",
       "      <th></th>\n",
       "      <th></th>\n",
       "    </tr>\n",
       "  </thead>\n",
       "  <tbody>\n",
       "    <tr>\n",
       "      <th>0</th>\n",
       "      <td>4.5</td>\n",
       "      <td>4.0</td>\n",
       "      <td>18.0</td>\n",
       "      <td>0.0</td>\n",
       "    </tr>\n",
       "    <tr>\n",
       "      <th>3</th>\n",
       "      <td>4.5</td>\n",
       "      <td>5.0</td>\n",
       "      <td>19.0</td>\n",
       "      <td>0.0</td>\n",
       "    </tr>\n",
       "    <tr>\n",
       "      <th>6</th>\n",
       "      <td>6.0</td>\n",
       "      <td>6.0</td>\n",
       "      <td>21.0</td>\n",
       "      <td>0.0</td>\n",
       "    </tr>\n",
       "    <tr>\n",
       "      <th>9</th>\n",
       "      <td>6.0</td>\n",
       "      <td>6.0</td>\n",
       "      <td>21.0</td>\n",
       "      <td>0.0</td>\n",
       "    </tr>\n",
       "    <tr>\n",
       "      <th>12</th>\n",
       "      <td>6.0</td>\n",
       "      <td>6.0</td>\n",
       "      <td>21.0</td>\n",
       "      <td>0.0</td>\n",
       "    </tr>\n",
       "    <tr>\n",
       "      <th>18</th>\n",
       "      <td>6.0</td>\n",
       "      <td>6.0</td>\n",
       "      <td>21.0</td>\n",
       "      <td>0.0</td>\n",
       "    </tr>\n",
       "    <tr>\n",
       "      <th>24</th>\n",
       "      <td>6.0</td>\n",
       "      <td>6.0</td>\n",
       "      <td>21.0</td>\n",
       "      <td>0.0</td>\n",
       "    </tr>\n",
       "    <tr>\n",
       "      <th>30</th>\n",
       "      <td>7.0</td>\n",
       "      <td>6.0</td>\n",
       "      <td>22.0</td>\n",
       "      <td>0.0</td>\n",
       "    </tr>\n",
       "    <tr>\n",
       "      <th>36</th>\n",
       "      <td>7.0</td>\n",
       "      <td>6.0</td>\n",
       "      <td>22.0</td>\n",
       "      <td>0.0</td>\n",
       "    </tr>\n",
       "    <tr>\n",
       "      <th>42</th>\n",
       "      <td>7.0</td>\n",
       "      <td>7.0</td>\n",
       "      <td>23.0</td>\n",
       "      <td>0.0</td>\n",
       "    </tr>\n",
       "    <tr>\n",
       "      <th>48</th>\n",
       "      <td>7.0</td>\n",
       "      <td>7.0</td>\n",
       "      <td>23.0</td>\n",
       "      <td>0.0</td>\n",
       "    </tr>\n",
       "    <tr>\n",
       "      <th>54</th>\n",
       "      <td>7.0</td>\n",
       "      <td>9.0</td>\n",
       "      <td>26.0</td>\n",
       "      <td>0.0</td>\n",
       "    </tr>\n",
       "    <tr>\n",
       "      <th>60</th>\n",
       "      <td>7.0</td>\n",
       "      <td>9.0</td>\n",
       "      <td>26.0</td>\n",
       "      <td>0.0</td>\n",
       "    </tr>\n",
       "    <tr>\n",
       "      <th>72</th>\n",
       "      <td>7.0</td>\n",
       "      <td>9.0</td>\n",
       "      <td>29.0</td>\n",
       "      <td>1.0</td>\n",
       "    </tr>\n",
       "    <tr>\n",
       "      <th>84</th>\n",
       "      <td>7.0</td>\n",
       "      <td>9.0</td>\n",
       "      <td>29.0</td>\n",
       "      <td>3.0</td>\n",
       "    </tr>\n",
       "    <tr>\n",
       "      <th>96</th>\n",
       "      <td>7.0</td>\n",
       "      <td>9.0</td>\n",
       "      <td>29.0</td>\n",
       "      <td>4.0</td>\n",
       "    </tr>\n",
       "    <tr>\n",
       "      <th>108</th>\n",
       "      <td>7.0</td>\n",
       "      <td>9.0</td>\n",
       "      <td>34.5</td>\n",
       "      <td>4.0</td>\n",
       "    </tr>\n",
       "  </tbody>\n",
       "</table>\n",
       "</div>"
      ],
      "text/plain": [
       "             updrs_1  updrs_2  updrs_3  updrs_4\n",
       "visit_month                                    \n",
       "0                4.5      4.0     18.0      0.0\n",
       "3                4.5      5.0     19.0      0.0\n",
       "6                6.0      6.0     21.0      0.0\n",
       "9                6.0      6.0     21.0      0.0\n",
       "12               6.0      6.0     21.0      0.0\n",
       "18               6.0      6.0     21.0      0.0\n",
       "24               6.0      6.0     21.0      0.0\n",
       "30               7.0      6.0     22.0      0.0\n",
       "36               7.0      6.0     22.0      0.0\n",
       "42               7.0      7.0     23.0      0.0\n",
       "48               7.0      7.0     23.0      0.0\n",
       "54               7.0      9.0     26.0      0.0\n",
       "60               7.0      9.0     26.0      0.0\n",
       "72               7.0      9.0     29.0      1.0\n",
       "84               7.0      9.0     29.0      3.0\n",
       "96               7.0      9.0     29.0      4.0\n",
       "108              7.0      9.0     34.5      4.0"
      ]
     },
     "execution_count": 5,
     "metadata": {},
     "output_type": "execute_result"
    }
   ],
   "source": [
    "target_columns_clinical_data = ['updrs_1']\n",
    "target_columns_clinical_and_supplemental_data = ['updrs_2', 'updrs_3', 'updrs_4']\n",
    "\n",
    "target_visit_month_medians_clinical_data = df_train_clinical_data.groupby('visit_month')[target_columns_clinical_data].median()\n",
    "target_visit_month_medians_clinical_and_supplemental_data = pd.concat((\n",
    "    df_train_clinical_data,\n",
    "    df_supplemental_clinical_data\n",
    "), axis=0).groupby('visit_month')[target_columns_clinical_and_supplemental_data].median()\n",
    "\n",
    "# Drop 5th month visit that is coming from the supplemental clinical data\n",
    "target_visit_month_medians_clinical_and_supplemental_data = target_visit_month_medians_clinical_and_supplemental_data.drop(5)\n",
    "\n",
    "# Concatenate visit_month medians of targets\n",
    "target_visit_month_medians = pd.concat((\n",
    "    target_visit_month_medians_clinical_data,\n",
    "    target_visit_month_medians_clinical_and_supplemental_data\n",
    "), axis=1, ignore_index=False)\n",
    "\n",
    "# Replace expanding window max of updrs values with current updrs values\n",
    "target_visit_month_medians = target_visit_month_medians.expanding(min_periods=1).max()\n",
    "target_visit_month_medians"
   ]
  },
  {
   "cell_type": "markdown",
   "id": "aca42c2c",
   "metadata": {
    "papermill": {
     "duration": 0.003762,
     "end_time": "2023-04-20T08:08:40.845701",
     "exception": false,
     "start_time": "2023-04-20T08:08:40.841939",
     "status": "completed"
    },
    "tags": []
   },
   "source": [
    "## 4. Validation\n",
    "\n",
    "* Medians of `visit_month` groups calculated on train clinical data\n",
    "  * `updrs_1` Validation: **55.63**\n",
    "  * `updrs_2` Validation: **70.51**\n",
    "  * `updrs_3` Validation: **70.94**\n",
    "  * `updrs_4` Validation: **48.00**\n",
    "  * Global Validation: **62.71**\n",
    "  * Public LB Score: **57.8** (unseen visit months filled with global target medians)\n",
    "  \n",
    "* Medians of `visit_month` groups calculated on train + supplemental clinical data\n",
    "  * `updrs_1` Validation: **56.16**\n",
    "  * `updrs_2` Validation: **70.53**\n",
    "  * `updrs_3` Validation: **70.16**\n",
    "  * `updrs_4` Validation: **48.00**\n",
    "  * Global Validation: **62.65**\n",
    "  * Public LB Score: **57.2** (unseen visit months filled with global target medians)\n",
    "  \n",
    "* Medians of `visit_month` groups calculated on train + supplemental clinical data replaced with expanding window max\n",
    "  * `updrs_1` Validation: **56.29**\n",
    "  * `updrs_2` Validation: **70.79**\n",
    "  * `updrs_3` Validation: **69.19**\n",
    "  * `updrs_4` Validation: **48.01**\n",
    "  * Global Validation: **62.49**\n",
    "  * Public LB Score: **56.4** (unseen visit months filled with global target medians)\n",
    "  \n",
    "* Medians of `visit_month` groups calculated on train for `updrs_1` and train + supplemental clinical data for `updrs_2`, `updrs_3`, `updrs_4` \n",
    "  * `updrs_1` Validation: **55.74**\n",
    "  * `updrs_2` Validation: **70.79**\n",
    "  * `updrs_3` Validation: **69.19**\n",
    "  * `updrs_4` Validation: **48.01**\n",
    "  * Global Validation: **62.34**\n",
    "  * Public LB Score: **56.3** (unseen visit months filled with closest visit month median)"
   ]
  },
  {
   "cell_type": "code",
   "execution_count": 6,
   "id": "36cbcc0f",
   "metadata": {
    "execution": {
     "iopub.execute_input": "2023-04-20T08:08:40.856281Z",
     "iopub.status.busy": "2023-04-20T08:08:40.855120Z",
     "iopub.status.idle": "2023-04-20T08:08:40.888441Z",
     "shell.execute_reply": "2023-04-20T08:08:40.886948Z"
    },
    "papermill": {
     "duration": 0.042271,
     "end_time": "2023-04-20T08:08:40.891927",
     "exception": false,
     "start_time": "2023-04-20T08:08:40.849656",
     "status": "completed"
    },
    "tags": []
   },
   "outputs": [
    {
     "name": "stdout",
     "output_type": "stream",
     "text": [
      "Target: updrs_1 Dataset Shape: (2614, 8)\n",
      "Validation SMAPE: 55.7414\n",
      "\n",
      "Target: updrs_2 Dataset Shape: (2613, 9)\n",
      "Validation SMAPE: 70.7972\n",
      "\n",
      "Target: updrs_3 Dataset Shape: (2590, 10)\n",
      "Validation SMAPE: 69.1957\n",
      "\n",
      "Target: updrs_4 Dataset Shape: (1577, 11)\n",
      "Validation SMAPE: 48.0103\n",
      "\n",
      "Global Validation SMAPE: 62.3409\n"
     ]
    }
   ],
   "source": [
    "target_columns = ['updrs_1', 'updrs_2', 'updrs_3', 'updrs_4']\n",
    "\n",
    "for target_column in target_columns:\n",
    "        \n",
    "    target_idx = df_train_clinical_data[target_column].notna()\n",
    "    df_train = df_train_clinical_data.loc[target_idx]\n",
    "    print(f'Target: {target_column} Dataset Shape: {df_train.shape}')\n",
    "        \n",
    "    df_train_clinical_data.loc[target_idx, f'{target_column}_predictions'] = df_train_clinical_data.loc[target_idx, 'visit_month'].map(target_visit_month_medians[target_column])\n",
    "    val_score = score(\n",
    "        df=df_train_clinical_data.loc[target_idx],\n",
    "        target_columns=[target_column],\n",
    "        prediction_columns=[f'{target_column}_predictions']\n",
    "    )\n",
    "    print(f'Validation SMAPE: {val_score:.4f}\\n')\n",
    "    \n",
    "global_val_score = score(\n",
    "    df=df_train_clinical_data,\n",
    "    target_columns=target_columns,\n",
    "    prediction_columns=[f'{target_column}_predictions' for target_column in target_columns]\n",
    ")\n",
    "print(f'Global Validation SMAPE: {global_val_score:.4f}')"
   ]
  },
  {
   "cell_type": "markdown",
   "id": "3f49ae52",
   "metadata": {
    "papermill": {
     "duration": 0.004012,
     "end_time": "2023-04-20T08:08:40.900413",
     "exception": false,
     "start_time": "2023-04-20T08:08:40.896401",
     "status": "completed"
    },
    "tags": []
   },
   "source": [
    "## 5. Submission\n",
    "\n",
    "Since hidden test has unseen `visit_month` values, there will be some missing predictions after mapping the baselines. In order to deal with those cases, closest `visit_month` baseline values are used for filling missing predictions after the map operation."
   ]
  },
  {
   "cell_type": "code",
   "execution_count": 7,
   "id": "1a5852e5",
   "metadata": {
    "execution": {
     "iopub.execute_input": "2023-04-20T08:08:40.911107Z",
     "iopub.status.busy": "2023-04-20T08:08:40.910394Z",
     "iopub.status.idle": "2023-04-20T08:08:40.991198Z",
     "shell.execute_reply": "2023-04-20T08:08:40.990041Z"
    },
    "papermill": {
     "duration": 0.089352,
     "end_time": "2023-04-20T08:08:40.994047",
     "exception": false,
     "start_time": "2023-04-20T08:08:40.904695",
     "status": "completed"
    },
    "tags": []
   },
   "outputs": [
    {
     "name": "stdout",
     "output_type": "stream",
     "text": [
      "This version of the API is not optimized and should not be used to estimate the runtime of your code on the hidden test set.\n"
     ]
    }
   ],
   "source": [
    "env = amp_pd_peptide.make_env()\n",
    "test_iterator = env.iter_test() \n",
    "\n",
    "for (df_test, df_test_peptides, df_test_proteins, df_submission) in test_iterator:\n",
    "    \n",
    "    df_submission['patient_id'] = df_submission.apply('prediction_id').str.split('_', expand=True)[0].astype(int)\n",
    "    df_submission['current_visit_month'] = df_submission.apply('prediction_id').str.split('_', expand=True)[1].astype(int)\n",
    "    df_submission['visit_month_offset'] = df_submission.apply('prediction_id').str.split('_', expand=True)[5].astype(int)\n",
    "    df_submission['prediction_visit_month'] = df_submission['current_visit_month'] + df_submission['visit_month_offset'].astype(int)\n",
    "    df_submission['updrs'] = df_submission.apply('prediction_id').str.split('_', expand=True)[3].astype(int)\n",
    "\n",
    "    for updrs in range(1, 5):\n",
    "        updrs_idx = df_submission['updrs'] == updrs\n",
    "        df_submission.loc[updrs_idx, 'rating'] = df_submission.loc[updrs_idx, 'prediction_visit_month'].map(target_visit_month_medians[f'updrs_{updrs}'])\n",
    "        \n",
    "        missing_idx = df_submission['rating'].isnull()\n",
    "        # Iterate over missing prediction rows after mapping the baselines\n",
    "        for idx, row in df_submission[updrs_idx & missing_idx].iterrows():\n",
    "            # Find the closest visit_month value from the baselines table\n",
    "            target_visit_month_median_idx = np.argmin(np.abs(target_visit_month_medians.index - row['prediction_visit_month']))\n",
    "            # Write the closest visit_month value to the unseen visit_month\n",
    "            df_submission.loc[idx, 'rating'] = target_visit_month_medians.iloc[target_visit_month_median_idx, updrs - 1]\n",
    "    \n",
    "    df_submission = df_submission.loc[:, ['prediction_id', 'rating']]\n",
    "    env.predict(df_submission)\n"
   ]
  }
 ],
 "metadata": {
  "kernelspec": {
   "display_name": "Python 3",
   "language": "python",
   "name": "python3"
  },
  "language_info": {
   "codemirror_mode": {
    "name": "ipython",
    "version": 3
   },
   "file_extension": ".py",
   "mimetype": "text/x-python",
   "name": "python",
   "nbconvert_exporter": "python",
   "pygments_lexer": "ipython3",
   "version": "3.7.12"
  },
  "papermill": {
   "default_parameters": {},
   "duration": 11.920466,
   "end_time": "2023-04-20T08:08:41.720999",
   "environment_variables": {},
   "exception": null,
   "input_path": "__notebook__.ipynb",
   "output_path": "__notebook__.ipynb",
   "parameters": {},
   "start_time": "2023-04-20T08:08:29.800533",
   "version": "2.4.0"
  }
 },
 "nbformat": 4,
 "nbformat_minor": 5
}
