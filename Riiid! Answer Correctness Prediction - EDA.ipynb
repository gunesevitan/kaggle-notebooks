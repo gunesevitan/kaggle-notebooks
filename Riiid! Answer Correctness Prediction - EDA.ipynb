{
 "cells": [
  {
   "cell_type": "code",
   "execution_count": 1,
   "metadata": {
    "_kg_hide-input": true,
    "_kg_hide-output": true,
    "execution": {
     "iopub.execute_input": "2020-11-29T14:34:42.046719Z",
     "iopub.status.busy": "2020-11-29T14:34:42.045803Z",
     "iopub.status.idle": "2020-11-29T14:34:53.072513Z",
     "shell.execute_reply": "2020-11-29T14:34:53.073113Z"
    },
    "papermill": {
     "duration": 11.071479,
     "end_time": "2020-11-29T14:34:53.073333",
     "exception": false,
     "start_time": "2020-11-29T14:34:42.001854",
     "status": "completed"
    },
    "tags": []
   },
   "outputs": [
    {
     "name": "stdout",
     "output_type": "stream",
     "text": [
      "Processing /kaggle/input/riiid-answer-correctness-prediction-utilities/site-packages/datatable-0.11.0-cp37-cp37m-manylinux2010_x86_64.whl\r\n",
      "Installing collected packages: datatable\r\n",
      "Successfully installed datatable-0.11.0\r\n",
      "\u001b[33mWARNING: You are using pip version 20.2.3; however, version 20.2.4 is available.\r\n",
      "You should consider upgrading via the '/opt/conda/bin/python3.7 -m pip install --upgrade pip' command.\u001b[0m\r\n"
     ]
    }
   ],
   "source": [
    "!pip install ../input/riiid-answer-correctness-prediction-utilities/site-packages/datatable-0.11.0-cp37-cp37m-manylinux2010_x86_64.whl"
   ]
  },
  {
   "cell_type": "code",
   "execution_count": 2,
   "metadata": {
    "_cell_guid": "b1076dfc-b9ad-4769-8c92-a6c4dae69d19",
    "_kg_hide-input": true,
    "_uuid": "8f2839f25d086af736a60e9eeb907d3b93b6e0e5",
    "execution": {
     "iopub.execute_input": "2020-11-29T14:34:53.162241Z",
     "iopub.status.busy": "2020-11-29T14:34:53.161412Z",
     "iopub.status.idle": "2020-11-29T14:34:55.612141Z",
     "shell.execute_reply": "2020-11-29T14:34:55.611050Z"
    },
    "papermill": {
     "duration": 2.49891,
     "end_time": "2020-11-29T14:34:55.612359",
     "exception": false,
     "start_time": "2020-11-29T14:34:53.113449",
     "status": "completed"
    },
    "tags": []
   },
   "outputs": [
    {
     "data": {
      "text/html": [
       "<style type='text/css'>\n",
       ".datatable table.frame { margin-bottom: 0; }\n",
       ".datatable table.frame thead { border-bottom: none; }\n",
       ".datatable table.frame tr.coltypes td {  color: #FFFFFF;  line-height: 6px;  padding: 0 0.5em;}\n",
       ".datatable .bool    { background: #DDDD99; }\n",
       ".datatable .object  { background: #565656; }\n",
       ".datatable .int     { background: #5D9E5D; }\n",
       ".datatable .float   { background: #4040CC; }\n",
       ".datatable .str     { background: #CC4040; }\n",
       ".datatable .row_index {  background: var(--jp-border-color3);  border-right: 1px solid var(--jp-border-color0);  color: var(--jp-ui-font-color3);  font-size: 9px;}\n",
       ".datatable .frame tr.coltypes .row_index {  background: var(--jp-border-color0);}\n",
       ".datatable th:nth-child(2) { padding-left: 12px; }\n",
       ".datatable .hellipsis {  color: var(--jp-cell-editor-border-color);}\n",
       ".datatable .vellipsis {  background: var(--jp-layout-color0);  color: var(--jp-cell-editor-border-color);}\n",
       ".datatable .na {  color: var(--jp-cell-editor-border-color);  font-size: 80%;}\n",
       ".datatable .footer { font-size: 9px; }\n",
       ".datatable .frame_dimensions {  background: var(--jp-border-color3);  border-top: 1px solid var(--jp-border-color0);  color: var(--jp-ui-font-color3);  display: inline-block;  opacity: 0.6;  padding: 1px 10px 1px 5px;}\n",
       "</style>\n"
      ],
      "text/plain": [
       "<IPython.core.display.HTML object>"
      ]
     },
     "metadata": {},
     "output_type": "display_data"
    }
   ],
   "source": [
    "import warnings\n",
    "warnings.filterwarnings('ignore')\n",
    "\n",
    "from tqdm import tqdm\n",
    "from datetime import datetime\n",
    "\n",
    "import numpy as np\n",
    "import pandas as pd\n",
    "pd.set_option('display.max_rows', 500)\n",
    "pd.set_option('display.max_columns', 500)\n",
    "pd.set_option('display.width', 1000)\n",
    "import datatable as dt\n",
    "\n",
    "from scipy.stats import skew, kurtosis\n",
    "\n",
    "import matplotlib as mpl\n",
    "mpl.rcParams['agg.path.chunksize'] = 10000\n",
    "import matplotlib.pyplot as plt\n",
    "import seaborn as sns\n",
    "\n",
    "from numba import jit\n",
    "from sklearn.metrics import roc_auc_score"
   ]
  },
  {
   "cell_type": "markdown",
   "metadata": {
    "papermill": {
     "duration": 0.036986,
     "end_time": "2020-11-29T14:34:55.691774",
     "exception": false,
     "start_time": "2020-11-29T14:34:55.654788",
     "status": "completed"
    },
    "tags": []
   },
   "source": [
    "## 1. Introduction\n",
    "\n",
    "This competition's objective is predicting whether the students are able to answer their next questions correctly or not. Dataset consist student's historic performance, the performance of other students on the same question, metadata about the question itself, and more. There are more than **100 million** rows in training set so it is not possible to read `train.csv` into memory without downcasting data types of the columns. It is better to use `numpy.ndarray` instead of `pandas.DataFrame` since memory consumption is 3 times larger in dataframes, but dataframes will be used in this notebook because they are very convenient."
   ]
  },
  {
   "cell_type": "markdown",
   "metadata": {
    "papermill": {
     "duration": 0.036696,
     "end_time": "2020-11-29T14:34:55.765693",
     "exception": false,
     "start_time": "2020-11-29T14:34:55.728997",
     "status": "completed"
    },
    "tags": []
   },
   "source": [
    "### 1.1 Training Set\n",
    "\n",
    "`train.csv` is read into memory with `datatable.fread` for two reasons. First, `pandas.read_csv` takes more than 10 times to load the data compared to `datatable.fread`, and second, `pandas.read_csv` leaks memory. For large datasets like this, memory leak is not negligible. After `train.csv` is read with `datatable.fread`, it is converted to `pandas DataFrame`.\n",
    "\n",
    "* `row_id`: Unique ID of the row\n",
    "* `timestamp`: Time between users current interaction and the first event completion from that user\n",
    "* `user_id`: Unique ID of the user\n",
    "* `content_id`: Unique ID of the user interaction (question or lecture)\n",
    "* `content_type_id`: Type of the content (question = 0 and lecture = 1)\n",
    "* `task_container_id`: Unique ID of the batch of questions or lectures (monotonically increasing for each user)\n",
    "* `user_answer`: Users answer to the question (-1, 0, 1, 2, 3 ) \n",
    "* `answered_correctly`: User answered the question correctly or not (-1, 0, 1)\n",
    "* `prior_question_elapsed_time`: Average time a user spent to answer each question on previous question bundle (ignoring any lectures in between)\n",
    "* `prior_question_had_explanation`: Whether or not the user saw an explanation after answering the previous question bundle (ignoring any lectures in between)\n",
    "\n",
    "There are **101,230,332** rows and **10** columns in training set. All of the columns had to be downcasted for using memory efficiently. `prior_question_had_explanation` is a binary feature, but it has missing values. Even though it has only 0 and 1 integer values, pandas forces an array of integers with any missing values to become floats. Using float type for a binary feature can be avoided by filling the missing values and casting it to an integer type. After that final touch, training set memory consumption is reduced to 2.7 GB."
   ]
  },
  {
   "cell_type": "code",
   "execution_count": 3,
   "metadata": {
    "_cell_guid": "79c7e3d0-c299-4dcb-8224-4455121ee9b0",
    "_uuid": "d629ff2d2480ee46fbb7e2d37f6b5fab8052498a",
    "execution": {
     "iopub.execute_input": "2020-11-29T14:34:55.853274Z",
     "iopub.status.busy": "2020-11-29T14:34:55.852134Z",
     "iopub.status.idle": "2020-11-29T14:36:25.395522Z",
     "shell.execute_reply": "2020-11-29T14:36:25.396405Z"
    },
    "papermill": {
     "duration": 89.593311,
     "end_time": "2020-11-29T14:36:25.396647",
     "exception": false,
     "start_time": "2020-11-29T14:34:55.803336",
     "status": "completed"
    },
    "tags": []
   },
   "outputs": [
    {
     "name": "stdout",
     "output_type": "stream",
     "text": [
      "Training Set Shape = (101230332, 10)\n",
      "Training Set Memory Usage = 2703.00 MB\n"
     ]
    }
   ],
   "source": [
    "TRAIN_DTYPES = {\n",
    "    'row_id': np.uint32,\n",
    "    'timestamp': np.uint64,\n",
    "    'user_id': np.uint32,\n",
    "    'content_id': np.uint16,\n",
    "    'content_type_id': np.uint8,\n",
    "    'task_container_id': np.uint16,\n",
    "    'user_answer': np.int8,\n",
    "    'answered_correctly': np.int8,\n",
    "    'prior_question_elapsed_time': np.float32,\n",
    "    'prior_question_had_explanation': 'boolean'\n",
    "}\n",
    "\n",
    "df_train = dt.fread('../input/riiid-test-answer-prediction/train.csv').to_pandas()\n",
    "\n",
    "for column, dtype in TRAIN_DTYPES.items():\n",
    "    df_train[column] = df_train[column].astype(dtype) \n",
    "    \n",
    "df_train['prior_question_had_explanation'] = df_train['prior_question_had_explanation'].astype(np.float16).fillna(-1).astype(np.int8)\n",
    "\n",
    "print(f'Training Set Shape = {df_train.shape}')\n",
    "print(f'Training Set Memory Usage = {df_train.memory_usage().sum() >> 20:.2f} MB')"
   ]
  },
  {
   "cell_type": "markdown",
   "metadata": {
    "papermill": {
     "duration": 0.038179,
     "end_time": "2020-11-29T14:36:25.473849",
     "exception": false,
     "start_time": "2020-11-29T14:36:25.435670",
     "status": "completed"
    },
    "tags": []
   },
   "source": [
    "### 1.2 Questions\n",
    "\n",
    "`questions.csv` is the metadata of the questions that are asked to users. Unique identifier of the questions is `content_id` in training set, but it should be joined to questions (`content_type_id == 0`). Even though, questions metadata consume very few memory, it should be downcasted, because it will be joined to training set.\n",
    "\n",
    "* `question_id`: Unique ID of the question (0 - 13522)\n",
    "* `bundle_id`: Unique ID of the bundle (0 - 13522)\n",
    "* `correct_answer`: Correct answer of the question (0, 1, 2, 3)\n",
    "* `part`: Category code of the question (1, 2, 3, 4, 5, 6, 7)\n",
    "* `tags`: One or more detailed tag codes for the question\n",
    "\n",
    "There are **13523** unique questions and **9765** unique bundles. Questions are multiple choice with 4 choices and they are asked in 7 different parts in tests."
   ]
  },
  {
   "cell_type": "code",
   "execution_count": 4,
   "metadata": {
    "execution": {
     "iopub.execute_input": "2020-11-29T14:36:25.561489Z",
     "iopub.status.busy": "2020-11-29T14:36:25.560533Z",
     "iopub.status.idle": "2020-11-29T14:36:25.594803Z",
     "shell.execute_reply": "2020-11-29T14:36:25.594123Z"
    },
    "papermill": {
     "duration": 0.083419,
     "end_time": "2020-11-29T14:36:25.594963",
     "exception": false,
     "start_time": "2020-11-29T14:36:25.511544",
     "status": "completed"
    },
    "tags": []
   },
   "outputs": [
    {
     "name": "stdout",
     "output_type": "stream",
     "text": [
      "Questions Shape = (13523, 5) - Unique Questions = 13523 - Unique Bundles = 9765\n",
      "Questions Memory Usage = 0.00 MB\n"
     ]
    }
   ],
   "source": [
    "QUESTIONS_DTYPES = {\n",
    "    'question_id': np.uint16,\n",
    "    'bundle_id': np.uint16,\n",
    "    'correct_answer': np.uint8,\n",
    "    'part': np.uint8,\n",
    "}\n",
    "\n",
    "df_questions = pd.read_csv('../input/riiid-test-answer-prediction/questions.csv', dtype=QUESTIONS_DTYPES)\n",
    "\n",
    "print(f'Questions Shape = {df_questions.shape} - Unique Questions = {df_questions[\"question_id\"].nunique()} - Unique Bundles = {df_questions[\"bundle_id\"].nunique()}')\n",
    "print(f'Questions Memory Usage = {df_questions.memory_usage().sum() >> 20:.2f} MB')"
   ]
  },
  {
   "cell_type": "markdown",
   "metadata": {
    "papermill": {
     "duration": 0.037996,
     "end_time": "2020-11-29T14:36:25.671322",
     "exception": false,
     "start_time": "2020-11-29T14:36:25.633326",
     "status": "completed"
    },
    "tags": []
   },
   "source": [
    "### 1.3 Lectures\n",
    "\n",
    "`lectures.csv` is the metadata of the lectures watched by users as they progress in their education. Unique identifier of the lectures is `content_id` in training set, but it should be joined to lectures (`content_type_id == 1`). Even though, lectures metadata consume very few memory, it should be downcasted, because it will be joined to training set.\n",
    "\n",
    "* `lecture_id`: Unique ID of the question (89 - 32736)\n",
    "* `part`: Category code of the lecture (1, 2, 3, 4, 5, 6, 7)\n",
    "* `tag`: A single tag code of the lecture\n",
    "* `type_of`: Brief description of the core purpose of the lecture (concept, solving question, intention, starter)\n",
    "\n",
    "There are **418** unique lectures and those lectures can be grouped into 4 major categories based on their types, and they are prepared for 7 parts of the tests."
   ]
  },
  {
   "cell_type": "code",
   "execution_count": 5,
   "metadata": {
    "execution": {
     "iopub.execute_input": "2020-11-29T14:36:25.758209Z",
     "iopub.status.busy": "2020-11-29T14:36:25.757346Z",
     "iopub.status.idle": "2020-11-29T14:36:25.770022Z",
     "shell.execute_reply": "2020-11-29T14:36:25.769016Z"
    },
    "papermill": {
     "duration": 0.059604,
     "end_time": "2020-11-29T14:36:25.770187",
     "exception": false,
     "start_time": "2020-11-29T14:36:25.710583",
     "status": "completed"
    },
    "tags": []
   },
   "outputs": [
    {
     "name": "stdout",
     "output_type": "stream",
     "text": [
      "Lectures Shape = (418, 4) - Unique Lectures = 418\n",
      "Lectures Memory Usage = 0.00 MB\n"
     ]
    }
   ],
   "source": [
    "LECTURES_DTYPES = {\n",
    "    'lecture_id': np.uint16,\n",
    "    'tag': np.uint16,\n",
    "    'part': np.uint8\n",
    "}\n",
    "\n",
    "df_lectures = pd.read_csv('../input/riiid-test-answer-prediction/lectures.csv', dtype=LECTURES_DTYPES)\n",
    "df_lectures['type_of'] = np.uint8(df_lectures['type_of'].map({'concept': 0, 'solving question': 1, 'intention': 2, 'starter': 3}))\n",
    "\n",
    "print(f'Lectures Shape = {df_lectures.shape} - Unique Lectures = {df_lectures[\"lecture_id\"].nunique()}')\n",
    "print(f'Lectures Memory Usage = {df_lectures.memory_usage().sum() >> 20:.2f} MB')"
   ]
  },
  {
   "cell_type": "markdown",
   "metadata": {
    "papermill": {
     "duration": 0.039386,
     "end_time": "2020-11-29T14:36:25.850185",
     "exception": false,
     "start_time": "2020-11-29T14:36:25.810799",
     "status": "completed"
    },
    "tags": []
   },
   "source": [
    "### 1.4 Test Set and Submissions\n",
    "\n",
    "This is a time-series code competition, so real test set data is recieved and predictions are made with Kaggle's time-series API. `example_test.csv` is a placeholder and the real test set is hidden. The purpose of a placeholder test set is, showing the structure of real test set and testing whether the submissions are in correct format or not. There will be roughly 2.5 million questions in the real test set."
   ]
  },
  {
   "cell_type": "code",
   "execution_count": 6,
   "metadata": {
    "execution": {
     "iopub.execute_input": "2020-11-29T14:36:25.935724Z",
     "iopub.status.busy": "2020-11-29T14:36:25.934869Z",
     "iopub.status.idle": "2020-11-29T14:36:25.948080Z",
     "shell.execute_reply": "2020-11-29T14:36:25.947448Z"
    },
    "papermill": {
     "duration": 0.058769,
     "end_time": "2020-11-29T14:36:25.948215",
     "exception": false,
     "start_time": "2020-11-29T14:36:25.889446",
     "status": "completed"
    },
    "tags": []
   },
   "outputs": [
    {
     "name": "stdout",
     "output_type": "stream",
     "text": [
      "Example Test Set Shape = (104, 11)\n",
      "Example Test Set Memory Usage = 0.00 MB\n"
     ]
    }
   ],
   "source": [
    "df_example_test = pd.read_csv('../input/riiid-test-answer-prediction/example_test.csv')\n",
    "\n",
    "print(f'Example Test Set Shape = {df_example_test.shape}')\n",
    "print(f'Example Test Set Memory Usage = {df_example_test.memory_usage().sum() >> 20:.2f} MB')"
   ]
  },
  {
   "cell_type": "markdown",
   "metadata": {
    "papermill": {
     "duration": 0.039693,
     "end_time": "2020-11-29T14:36:26.028814",
     "exception": false,
     "start_time": "2020-11-29T14:36:25.989121",
     "status": "completed"
    },
    "tags": []
   },
   "source": [
    "Entire hidden test set is not available in run-time as well. In hidden test set, there are information of previous groups, so in order to prevent data leak, submissions must be done with one group at a time in an order. This can only be done with Kaggle's time-series API.\n",
    "\n",
    "API can be started from `riiideducation` module in competition directory. After importing the module, environment can be created by calling `make_env` method. This loads methods to generate real test set, and it can be called once in a notebook session."
   ]
  },
  {
   "cell_type": "code",
   "execution_count": 7,
   "metadata": {
    "execution": {
     "iopub.execute_input": "2020-11-29T14:36:26.115397Z",
     "iopub.status.busy": "2020-11-29T14:36:26.114477Z",
     "iopub.status.idle": "2020-11-29T14:36:26.148462Z",
     "shell.execute_reply": "2020-11-29T14:36:26.147831Z"
    },
    "papermill": {
     "duration": 0.079916,
     "end_time": "2020-11-29T14:36:26.148599",
     "exception": false,
     "start_time": "2020-11-29T14:36:26.068683",
     "status": "completed"
    },
    "tags": []
   },
   "outputs": [
    {
     "data": {
      "text/plain": [
       "<riiideducation.competition.make_env.<locals>.Competition at 0x7f8805493b10>"
      ]
     },
     "execution_count": 7,
     "metadata": {},
     "output_type": "execute_result"
    }
   ],
   "source": [
    "import riiideducation\n",
    "\n",
    "env = riiideducation.make_env()\n",
    "env"
   ]
  },
  {
   "cell_type": "markdown",
   "metadata": {
    "papermill": {
     "duration": 0.039689,
     "end_time": "2020-11-29T14:36:26.228605",
     "exception": false,
     "start_time": "2020-11-29T14:36:26.188916",
     "status": "completed"
    },
    "tags": []
   },
   "source": [
    "`iter_test` method creates a generator which yields data of a single group in every iteration. Every group contains interactions from many different users but no more than one `task_container_id` of questions from any single user.\n",
    "\n",
    "The API loads up to 1 GB of the test set data in memory after initialization so it is recommended to clean up the memory before making that call. The API also consumes roughly 15 minutes of runtime for loading and serving the data."
   ]
  },
  {
   "cell_type": "code",
   "execution_count": 8,
   "metadata": {
    "execution": {
     "iopub.execute_input": "2020-11-29T14:36:26.317455Z",
     "iopub.status.busy": "2020-11-29T14:36:26.316331Z",
     "iopub.status.idle": "2020-11-29T14:36:26.320865Z",
     "shell.execute_reply": "2020-11-29T14:36:26.320115Z"
    },
    "papermill": {
     "duration": 0.052139,
     "end_time": "2020-11-29T14:36:26.321016",
     "exception": false,
     "start_time": "2020-11-29T14:36:26.268877",
     "status": "completed"
    },
    "tags": []
   },
   "outputs": [
    {
     "data": {
      "text/plain": [
       "<generator at 0x7f87f72de730>"
      ]
     },
     "execution_count": 8,
     "metadata": {},
     "output_type": "execute_result"
    }
   ],
   "source": [
    "iter_test = env.iter_test()\n",
    "iter_test"
   ]
  },
  {
   "cell_type": "markdown",
   "metadata": {
    "papermill": {
     "duration": 0.040507,
     "end_time": "2020-11-29T14:36:26.402231",
     "exception": false,
     "start_time": "2020-11-29T14:36:26.361724",
     "status": "completed"
    },
    "tags": []
   },
   "source": [
    "The API provides user interactions groups in the order in which they occurred when the generator is iterated. Each group will contain interactions from many different users, but no more than one `task_container_id` of questions from any single user, and each group has between **1** and **1000** users.\n",
    "\n",
    "In every iteration, generator yields two dataframes. First one is the partial test set, and the second one is the submission dataframe that has row ids and target probabilities of the group. Both of those dataframes have `group_num` as index. This is the point when preprocessing should be done on partial test sets.\n",
    "\n",
    "There are two additional columns in partial test sets. They are `prior_group_answers_correct` and `prior_group_responses`. Those features are only available on first rows of each group and they are missing in other rows. They contain target information of the previous group, so that's the reason why predictions must be made in an order via API."
   ]
  },
  {
   "cell_type": "code",
   "execution_count": 9,
   "metadata": {
    "execution": {
     "iopub.execute_input": "2020-11-29T14:36:26.493160Z",
     "iopub.status.busy": "2020-11-29T14:36:26.492293Z",
     "iopub.status.idle": "2020-11-29T14:36:26.524827Z",
     "shell.execute_reply": "2020-11-29T14:36:26.524199Z"
    },
    "papermill": {
     "duration": 0.081937,
     "end_time": "2020-11-29T14:36:26.524993",
     "exception": false,
     "start_time": "2020-11-29T14:36:26.443056",
     "status": "completed"
    },
    "tags": []
   },
   "outputs": [
    {
     "name": "stdout",
     "output_type": "stream",
     "text": [
      "Test Set Group\n",
      "--------------\n",
      "\n",
      "           row_id    timestamp     user_id  content_id  content_type_id  task_container_id  prior_question_elapsed_time  prior_question_had_explanation prior_group_answers_correct prior_group_responses\n",
      "group_num                                                                                                                                                                                                \n",
      "0               0            0   275030867        5729                0                  0                          NaN                            <NA>                          []                    []\n",
      "0               1  13309898705   554169193       12010                0               4427                      19000.0                            True                         NaN                   NaN\n",
      "0               2   4213672059  1720860329         457                0                240                      17000.0                            True                         NaN                   NaN\n",
      "0               3  62798072960   288641214       13262                0                266                      23000.0                            True                         NaN                   NaN\n",
      "0               4  10585422061  1728340777        6119                0                162                      72400.0                            True                         NaN                   NaN\n",
      "0               5  18020362258  1364159702       12023                0               4424                      18000.0                            True                         NaN                   NaN\n",
      "0               6   2325432079  1521618396         574                0               1367                      18000.0                            True                         NaN                   NaN\n",
      "0               7  39456940781  1317245193       12043                0               5314                      17000.0                            True                         NaN                   NaN\n",
      "0               8   3460555189  1700555100        7910                0                532                      21000.0                            True                         NaN                   NaN\n",
      "0               9   2214770464   998511398        7908                0                393                      21000.0                            True                         NaN                   NaN\n",
      "0              10    516803182  1422853669        1143                0                 85                      15000.0                            True                         NaN                   NaN\n",
      "0              11   2153839851  1096784725       11033                0                315                      34250.0                            True                         NaN                   NaN\n",
      "0              12   2153839851  1096784725       11032                0                315                      34250.0                            True                         NaN                   NaN\n",
      "0              13   2153839851  1096784725       11034                0                315                      34250.0                            True                         NaN                   NaN\n",
      "0              14   2153839851  1096784725       11031                0                315                      34250.0                            True                         NaN                   NaN\n",
      "0              15   1218852591   385471210        9538                0                378                      11000.0                            True                         NaN                   NaN\n",
      "0              16  32722340115  1202386221        1002                0                136                      16000.0                            True                         NaN                   NaN\n",
      "0              17   2059097926  2018567473       12148                0                589                      17000.0                            True                         NaN                   NaN\n",
      "\n",
      "\n",
      "Submission\n",
      "----------\n",
      "\n",
      "           row_id  answered_correctly\n",
      "group_num                            \n",
      "0               0                 0.5\n",
      "0               1                 0.5\n",
      "0               2                 0.5\n",
      "0               3                 0.5\n",
      "0               4                 0.5\n",
      "0               5                 0.5\n",
      "0               6                 0.5\n",
      "0               7                 0.5\n",
      "0               8                 0.5\n",
      "0               9                 0.5\n",
      "0              10                 0.5\n",
      "0              11                 0.5\n",
      "0              12                 0.5\n",
      "0              13                 0.5\n",
      "0              14                 0.5\n",
      "0              15                 0.5\n",
      "0              16                 0.5\n",
      "0              17                 0.5\n"
     ]
    }
   ],
   "source": [
    "df_group, df_group_submission = next(iter_test)\n",
    "\n",
    "print(f'Test Set Group\\n{\"-\" * 14}\\n\\n{df_group}\\n\\n')\n",
    "print(f'Submission\\n{\"-\" * 10}\\n\\n{df_group_submission}')"
   ]
  },
  {
   "cell_type": "markdown",
   "metadata": {
    "papermill": {
     "duration": 0.041776,
     "end_time": "2020-11-29T14:36:26.608617",
     "exception": false,
     "start_time": "2020-11-29T14:36:26.566841",
     "status": "completed"
    },
    "tags": []
   },
   "source": [
    "In order to prevent leakage, Kaggle API enforces to predict the current group before moving on to the next one. If the next group is tried to get generated, it will throw an error and generator doesn't return anything.\n",
    "\n",
    "All of the questions (`content_type_id == 0`) must be predicted in the given submission format and passed to the API's `predict` method in order to move to the next group. That's how groups can be predicted while iterating over the generator. When the notebook is submitted, approximately 2.5 million questions are predicted and scored on public leaderboard.\n",
    "\n",
    "In the cell below, every group's target probability is predicted 0.5. This will yield a 0.5 roc auc score on public and private leaderboard."
   ]
  },
  {
   "cell_type": "code",
   "execution_count": 10,
   "metadata": {
    "execution": {
     "iopub.execute_input": "2020-11-29T14:36:26.701984Z",
     "iopub.status.busy": "2020-11-29T14:36:26.701093Z",
     "iopub.status.idle": "2020-11-29T14:36:27.310630Z",
     "shell.execute_reply": "2020-11-29T14:36:27.309836Z"
    },
    "papermill": {
     "duration": 0.660355,
     "end_time": "2020-11-29T14:36:27.310753",
     "exception": false,
     "start_time": "2020-11-29T14:36:26.650398",
     "status": "completed"
    },
    "tags": []
   },
   "outputs": [],
   "source": [
    "df_group['answered_correctly'] = 0.5\n",
    "env.predict(df_group.loc[df_group['content_type_id'] == 0, ['row_id', 'answered_correctly']])\n",
    "\n",
    "for df_group, df_group_submission in iter_test:\n",
    "    df_group['answered_correctly'] = 0.5\n",
    "    env.predict(df_group.loc[df_group['content_type_id'] == 0, ['row_id', 'answered_correctly']])"
   ]
  },
  {
   "cell_type": "markdown",
   "metadata": {
    "papermill": {
     "duration": 0.041193,
     "end_time": "2020-11-29T14:36:27.393614",
     "exception": false,
     "start_time": "2020-11-29T14:36:27.352421",
     "status": "completed"
    },
    "tags": []
   },
   "source": [
    "## 2. Objective and Metric\n",
    "\n",
    "It is a binary classification problem and predictions are evaluated with AUC (Area Under the ROC Curve) metric. It basically measures the area underneath the entire ROC curve. `sklearn.metrics.roc_auc_score` can be used for evaluation but it is very slow. A faster version of it, is shared [here](https://www.kaggle.com/c/microsoft-malware-prediction/discussion/76013) by [@CPMP](https://www.kaggle.com/cpmpml).\n",
    "\n",
    "Faster version is compiled with just in time (JIT) compiler. Instead of interpreting bytecode every time a method is invoked, bytecode is compiled into the machine code instructions of the running machine, and this compiled object code is invoked. For testing purposes, two different implementations calculated roc auc score on ground truth labels, and jit version is almost 5 times faster than sklearn version. "
   ]
  },
  {
   "cell_type": "code",
   "execution_count": 11,
   "metadata": {
    "execution": {
     "iopub.execute_input": "2020-11-29T14:36:27.494467Z",
     "iopub.status.busy": "2020-11-29T14:36:27.493674Z",
     "iopub.status.idle": "2020-11-29T14:37:05.586625Z",
     "shell.execute_reply": "2020-11-29T14:37:05.587285Z"
    },
    "papermill": {
     "duration": 38.152094,
     "end_time": "2020-11-29T14:37:05.587450",
     "exception": false,
     "start_time": "2020-11-29T14:36:27.435356",
     "status": "completed"
    },
    "tags": []
   },
   "outputs": [
    {
     "name": "stdout",
     "output_type": "stream",
     "text": [
      "Score: 1.0 - fast_roc_auc_score finished in 6.7 seconds.\n",
      "Score: 1.0 - sklearn.metrics.roc_auc_score finished in 31.33 seconds.\n"
     ]
    }
   ],
   "source": [
    "@jit\n",
    "def fast_roc_auc_score(y_true, y_prob):\n",
    "    \n",
    "    y_true = np.asarray(y_true)\n",
    "    y_true = y_true[np.argsort(y_prob)]\n",
    "    \n",
    "    n_false = 0\n",
    "    auc = 0\n",
    "    n = len(y_true)\n",
    "    \n",
    "    for i in range(n):\n",
    "        y_i = y_true[i]\n",
    "        n_false += (1 - y_i)\n",
    "        auc += y_i * n_false\n",
    "    auc /= (n_false * (n - n_false))\n",
    "    return auc\n",
    "\n",
    "questions = df_train['answered_correctly'] != -1\n",
    "\n",
    "start = datetime.now()\n",
    "fast_roc_auc_score = fast_roc_auc_score(df_train.loc[questions, 'answered_correctly'], df_train.loc[questions, 'answered_correctly'])\n",
    "fast_roc_auc_time = (datetime.now() - start).total_seconds()\n",
    "print(f'Score: {fast_roc_auc_score:.6} - fast_roc_auc_score finished in {fast_roc_auc_time:.2} seconds.')\n",
    "\n",
    "start = datetime.now()\n",
    "sklearn_roc_auc_score = roc_auc_score(df_train.loc[questions, 'answered_correctly'], df_train.loc[questions, 'answered_correctly'])\n",
    "roc_auc_score_time = (datetime.now() - start).total_seconds()\n",
    "print(f'Score: {sklearn_roc_auc_score:.6} - sklearn.metrics.roc_auc_score finished in {roc_auc_score_time:.4} seconds.')\n",
    "\n",
    "del questions"
   ]
  },
  {
   "cell_type": "markdown",
   "metadata": {
    "papermill": {
     "duration": 0.042187,
     "end_time": "2020-11-29T14:37:05.672266",
     "exception": false,
     "start_time": "2020-11-29T14:37:05.630079",
     "status": "completed"
    },
    "tags": []
   },
   "source": [
    "## 3. Target\n",
    "\n",
    "In training set, target feature is named `answered_correctly` and it is binary (0 for incorrect answer and 1 for correct answer). It can be -1 as well but it's not another unique value. It means the target is null because the user is watching a lecture at that timestep, not answering any questions. It is evident that target is quite balanced and users are giving correct answers frequently."
   ]
  },
  {
   "cell_type": "code",
   "execution_count": 12,
   "metadata": {
    "_kg_hide-input": true,
    "execution": {
     "iopub.execute_input": "2020-11-29T14:37:05.770695Z",
     "iopub.status.busy": "2020-11-29T14:37:05.769929Z",
     "iopub.status.idle": "2020-11-29T14:37:09.599573Z",
     "shell.execute_reply": "2020-11-29T14:37:09.598814Z"
    },
    "papermill": {
     "duration": 3.884242,
     "end_time": "2020-11-29T14:37:09.599707",
     "exception": false,
     "start_time": "2020-11-29T14:37:05.715465",
     "status": "completed"
    },
    "tags": []
   },
   "outputs": [
    {
     "data": {
      "image/png": "[encoded data removed]",
      "text/plain": [
       "<Figure size 1600x400 with 1 Axes>"
      ]
     },
     "metadata": {
      "needs_background": "light"
     },
     "output_type": "display_data"
    }
   ],
   "source": [
    "fig = plt.figure(figsize=(16, 4), dpi=100)\n",
    "    \n",
    "ax = sns.barplot(x=df_train['answered_correctly'].value_counts().index, y=df_train['answered_correctly'].value_counts().values)\n",
    "\n",
    "ax.set_xlabel('')\n",
    "ax.set_ylabel('')\n",
    "ax.set_xticklabels([f'{target} ({value_count:,})' for value_count, target in zip(sorted(df_train['answered_correctly'].value_counts().values), ['Not a Question', 'Incorrect', 'Correct'])])\n",
    "ax.tick_params(axis='x', labelsize=15, pad=10)\n",
    "ax.tick_params(axis='y', labelsize=15, pad=10)\n",
    "ax.set_title(f'Target Distribution in Training Set', size=15, pad=15)\n",
    "\n",
    "plt.show()"
   ]
  },
  {
   "cell_type": "markdown",
   "metadata": {
    "papermill": {
     "duration": 0.043998,
     "end_time": "2020-11-29T14:37:09.689422",
     "exception": false,
     "start_time": "2020-11-29T14:37:09.645424",
     "status": "completed"
    },
    "tags": []
   },
   "source": [
    "## 4. Questions"
   ]
  },
  {
   "cell_type": "markdown",
   "metadata": {
    "papermill": {
     "duration": 0.044295,
     "end_time": "2020-11-29T14:37:09.778479",
     "exception": false,
     "start_time": "2020-11-29T14:37:09.734184",
     "status": "completed"
    },
    "tags": []
   },
   "source": [
    "### 4.1. Questions, Bundles, and Correct Answers\n",
    "\n",
    "There are **13523** unique questions and **9765** unique bundles. Number of unique questions in a bundle changes from 1 to 5, but the most common number is 1 (8151 out of 9765 bundles).\n",
    "\n",
    "Correct answers of the questions are also given in `questions.csv`. Multiple choice question correct answers are usually located in the center (1 or 2) in most of the tests, but it is the opposite in this one. Majority of the correct answers are either 0 or 3, but bias isn't large enough for users to have psychological effects."
   ]
  },
  {
   "cell_type": "code",
   "execution_count": 13,
   "metadata": {
    "_kg_hide-input": true,
    "execution": {
     "iopub.execute_input": "2020-11-29T14:37:09.878067Z",
     "iopub.status.busy": "2020-11-29T14:37:09.875995Z",
     "iopub.status.idle": "2020-11-29T14:37:10.048321Z",
     "shell.execute_reply": "2020-11-29T14:37:10.047510Z"
    },
    "papermill": {
     "duration": 0.225236,
     "end_time": "2020-11-29T14:37:10.048465",
     "exception": false,
     "start_time": "2020-11-29T14:37:09.823229",
     "status": "completed"
    },
    "tags": []
   },
   "outputs": [
    {
     "data": {
      "image/png": "[encoded data removed]",
      "text/plain": [
       "<Figure size 1600x400 with 1 Axes>"
      ]
     },
     "metadata": {
      "needs_background": "light"
     },
     "output_type": "display_data"
    }
   ],
   "source": [
    "fig = plt.figure(figsize=(16, 4), dpi=100)\n",
    "    \n",
    "ax = sns.countplot(df_questions['correct_answer'])\n",
    "\n",
    "ax.set_xlabel('')\n",
    "ax.set_ylabel('')\n",
    "ax.set_xticklabels([f'{value} ({count:,})' for value, count in df_questions['correct_answer'].value_counts().sort_index().to_dict().items()])\n",
    "ax.tick_params(axis='x', labelsize=15, pad=10)\n",
    "ax.tick_params(axis='y', labelsize=15, pad=10)\n",
    "ax.set_title(f'Correct Answer Distribution in Questions', size=15, pad=15)\n",
    "\n",
    "plt.show()"
   ]
  },
  {
   "cell_type": "markdown",
   "metadata": {
    "papermill": {
     "duration": 0.045123,
     "end_time": "2020-11-29T14:37:10.139721",
     "exception": false,
     "start_time": "2020-11-29T14:37:10.094598",
     "status": "completed"
    },
    "tags": []
   },
   "source": [
    "### 4.2. Parts and Sections\n",
    "\n",
    "There is a feature named `part` in `questions.csv`. It has values from 1 to 7 which corresponds to 7 parts in TOEIC test. Those parts can be seen from [here](https://www.iibc-global.org/english/toeic/test/lr/about/format.html). Parts from 1 to 4 are the listening section and parts from 5 to 7 are the reading section. Those sections are not given in the dataset so they have to be created manually. Label 1 is assigned to listening section and label 2 is assigned to reading section, and `section` feature is downcasted because it will be joined to training set.\n",
    "\n",
    "It can be seen that 41.7% (5640) of the questions are from the listening section and 58.3% (7883) of the questions are from the reading section. Part distribution is somewhat balanced except part 5 which is defined as **\"Select the best answer of the four choices to complete the sentence, and mark your answer on the answer sheet.\"** on the given url above, and it has the most number of unique questions."
   ]
  },
  {
   "cell_type": "code",
   "execution_count": 14,
   "metadata": {
    "execution": {
     "iopub.execute_input": "2020-11-29T14:37:10.240399Z",
     "iopub.status.busy": "2020-11-29T14:37:10.239243Z",
     "iopub.status.idle": "2020-11-29T14:37:10.246318Z",
     "shell.execute_reply": "2020-11-29T14:37:10.245643Z"
    },
    "papermill": {
     "duration": 0.061334,
     "end_time": "2020-11-29T14:37:10.246445",
     "exception": false,
     "start_time": "2020-11-29T14:37:10.185111",
     "status": "completed"
    },
    "tags": []
   },
   "outputs": [],
   "source": [
    "df_questions.loc[df_questions['part'] <= 4, 'section'] = 1\n",
    "df_questions.loc[df_questions['part'] > 4, 'section'] = 2\n",
    "df_questions['section'] = df_questions['section'].astype(np.uint8)"
   ]
  },
  {
   "cell_type": "code",
   "execution_count": 15,
   "metadata": {
    "_kg_hide-input": true,
    "execution": {
     "iopub.execute_input": "2020-11-29T14:37:10.359570Z",
     "iopub.status.busy": "2020-11-29T14:37:10.352649Z",
     "iopub.status.idle": "2020-11-29T14:37:10.696743Z",
     "shell.execute_reply": "2020-11-29T14:37:10.696084Z"
    },
    "papermill": {
     "duration": 0.404456,
     "end_time": "2020-11-29T14:37:10.696881",
     "exception": false,
     "start_time": "2020-11-29T14:37:10.292425",
     "status": "completed"
    },
    "tags": []
   },
   "outputs": [
    {
     "data": {
      "image/png": "[encoded data removed]",
      "text/plain": [
       "<Figure size 2304x576 with 2 Axes>"
      ]
     },
     "metadata": {
      "needs_background": "light"
     },
     "output_type": "display_data"
    }
   ],
   "source": [
    "fig, axes = plt.subplots(figsize=(32, 8), ncols=2)\n",
    "    \n",
    "sns.countplot(df_questions['section'], ax=axes[0])\n",
    "sns.countplot(df_questions['part'], ax=axes[1])\n",
    "\n",
    "for i in range(2):\n",
    "    axes[i].set_xlabel('')\n",
    "    axes[i].set_ylabel('')\n",
    "    axes[i].tick_params(axis='x', labelsize=22, pad=15)\n",
    "    axes[i].tick_params(axis='y', labelsize=22, pad=15)\n",
    "    \n",
    "axes[0].set_xticklabels([f'{value} ({count:,})' for value, count in df_questions['section'].value_counts().sort_index().to_dict().items()])\n",
    "axes[1].set_xticklabels([f'{value} ({count:,})' for value, count in df_questions['part'].value_counts().sort_index().to_dict().items()])\n",
    "axes[0].set_title(f'Section Distribution in Questions', size=25, pad=25)\n",
    "axes[1].set_title(f'Part Distribution in Questions', size=25, pad=25)\n",
    "\n",
    "plt.show()"
   ]
  },
  {
   "cell_type": "markdown",
   "metadata": {
    "papermill": {
     "duration": 0.047548,
     "end_time": "2020-11-29T14:37:10.793070",
     "exception": false,
     "start_time": "2020-11-29T14:37:10.745522",
     "status": "completed"
    },
    "tags": []
   },
   "source": [
    "When correct answer counts in part groups are visualized, it can be seen that there is no single 3rd option correct answer in part 2. Part 2 and 5 are causing the correct answer imbalance. Correct answers are balanced in other parts except part 2 and 5. This suggests some questions in part 5 may have 3 multiple choices like questions in entire part 2. "
   ]
  },
  {
   "cell_type": "code",
   "execution_count": 16,
   "metadata": {
    "_kg_hide-input": true,
    "execution": {
     "iopub.execute_input": "2020-11-29T14:37:10.907424Z",
     "iopub.status.busy": "2020-11-29T14:37:10.906545Z",
     "iopub.status.idle": "2020-11-29T14:37:11.670251Z",
     "shell.execute_reply": "2020-11-29T14:37:11.669588Z"
    },
    "papermill": {
     "duration": 0.829855,
     "end_time": "2020-11-29T14:37:11.670380",
     "exception": false,
     "start_time": "2020-11-29T14:37:10.840525",
     "status": "completed"
    },
    "tags": []
   },
   "outputs": [
    {
     "data": {
      "image/png": "[encoded data removed]",
      "text/plain": [
       "<Figure size 3200x600 with 1 Axes>"
      ]
     },
     "metadata": {
      "needs_background": "light"
     },
     "output_type": "display_data"
    },
    {
     "data": {
      "image/png": "[encoded data removed]",
      "text/plain": [
       "<Figure size 3200x600 with 1 Axes>"
      ]
     },
     "metadata": {
      "needs_background": "light"
     },
     "output_type": "display_data"
    }
   ],
   "source": [
    "correct_answers_by_parts = df_questions.groupby(['part', 'correct_answer'])['correct_answer'].count().rename('count').reset_index()\n",
    "\n",
    "fig = plt.figure(figsize=(32, 6), dpi=100)\n",
    "\n",
    "sns.barplot(x='part',\n",
    "            y='count',\n",
    "            hue='correct_answer',\n",
    "            data=correct_answers_by_parts)\n",
    "\n",
    "plt.xlabel('Part', size=25, labelpad=15)\n",
    "plt.ylabel('Count', size=25, labelpad=15)\n",
    "plt.tick_params(axis='x', labelsize=22)\n",
    "plt.tick_params(axis='y', labelsize=22)\n",
    "plt.legend(prop={'size': 20})\n",
    "plt.title('Correct Answer Distribution in Part Groups', size=25, pad=15)\n",
    "\n",
    "plt.show()\n",
    "\n",
    "del correct_answers_by_parts\n",
    "\n",
    "correct_answers_by_sections = df_questions.groupby(['section', 'correct_answer'])['correct_answer'].count().rename('count').reset_index()\n",
    "\n",
    "fig = plt.figure(figsize=(32, 6), dpi=100)\n",
    "\n",
    "sns.barplot(x='section',\n",
    "            y='count',\n",
    "            hue='correct_answer',\n",
    "            data=correct_answers_by_sections)\n",
    "\n",
    "plt.xlabel('Section', size=25, labelpad=15)\n",
    "plt.ylabel('Count', size=25, labelpad=15)\n",
    "plt.tick_params(axis='x', labelsize=22)\n",
    "plt.tick_params(axis='y', labelsize=22)\n",
    "plt.legend(prop={'size': 20})\n",
    "plt.title('Correct Answer Distribution in Section Groups', size=25, pad=15)\n",
    "\n",
    "plt.show()\n",
    "\n",
    "del correct_answers_by_sections"
   ]
  },
  {
   "cell_type": "markdown",
   "metadata": {
    "papermill": {
     "duration": 0.05088,
     "end_time": "2020-11-29T14:37:11.771913",
     "exception": false,
     "start_time": "2020-11-29T14:37:11.721033",
     "status": "completed"
    },
    "tags": []
   },
   "source": [
    "### 4.3. Tags\n",
    "\n",
    "One last feature is left in `questions.csv` and that is `tags`. It is the tag codes of the questions delimited by spaces. This feature should not be joined to training set because data type of the column is object since there are spaces between integers. An object column of 101 million rows would consume too much memory. According to organizers, these codes are sufficient for clustering the questions together. Instead of the tag codes, clusters should be joined to training set."
   ]
  },
  {
   "cell_type": "code",
   "execution_count": 17,
   "metadata": {
    "_kg_hide-input": true,
    "execution": {
     "iopub.execute_input": "2020-11-29T14:37:11.880493Z",
     "iopub.status.busy": "2020-11-29T14:37:11.879420Z",
     "iopub.status.idle": "2020-11-29T14:37:11.898165Z",
     "shell.execute_reply": "2020-11-29T14:37:11.897384Z"
    },
    "papermill": {
     "duration": 0.075495,
     "end_time": "2020-11-29T14:37:11.898314",
     "exception": false,
     "start_time": "2020-11-29T14:37:11.822819",
     "status": "completed"
    },
    "tags": []
   },
   "outputs": [
    {
     "data": {
      "text/html": [
       "<div>\n",
       "<style scoped>\n",
       "    .dataframe tbody tr th:only-of-type {\n",
       "        vertical-align: middle;\n",
       "    }\n",
       "\n",
       "    .dataframe tbody tr th {\n",
       "        vertical-align: top;\n",
       "    }\n",
       "\n",
       "    .dataframe thead th {\n",
       "        text-align: right;\n",
       "    }\n",
       "</style>\n",
       "<table border=\"1\" class=\"dataframe\">\n",
       "  <thead>\n",
       "    <tr style=\"text-align: right;\">\n",
       "      <th></th>\n",
       "      <th>question_id</th>\n",
       "      <th>tags</th>\n",
       "    </tr>\n",
       "  </thead>\n",
       "  <tbody>\n",
       "    <tr>\n",
       "      <th>0</th>\n",
       "      <td>0</td>\n",
       "      <td>51 131 162 38</td>\n",
       "    </tr>\n",
       "    <tr>\n",
       "      <th>1</th>\n",
       "      <td>1</td>\n",
       "      <td>131 36 81</td>\n",
       "    </tr>\n",
       "    <tr>\n",
       "      <th>2</th>\n",
       "      <td>2</td>\n",
       "      <td>131 101 162 92</td>\n",
       "    </tr>\n",
       "    <tr>\n",
       "      <th>3</th>\n",
       "      <td>3</td>\n",
       "      <td>131 149 162 29</td>\n",
       "    </tr>\n",
       "    <tr>\n",
       "      <th>4</th>\n",
       "      <td>4</td>\n",
       "      <td>131 5 162 38</td>\n",
       "    </tr>\n",
       "    <tr>\n",
       "      <th>...</th>\n",
       "      <td>...</td>\n",
       "      <td>...</td>\n",
       "    </tr>\n",
       "    <tr>\n",
       "      <th>13518</th>\n",
       "      <td>13518</td>\n",
       "      <td>14</td>\n",
       "    </tr>\n",
       "    <tr>\n",
       "      <th>13519</th>\n",
       "      <td>13519</td>\n",
       "      <td>8</td>\n",
       "    </tr>\n",
       "    <tr>\n",
       "      <th>13520</th>\n",
       "      <td>13520</td>\n",
       "      <td>73</td>\n",
       "    </tr>\n",
       "    <tr>\n",
       "      <th>13521</th>\n",
       "      <td>13521</td>\n",
       "      <td>125</td>\n",
       "    </tr>\n",
       "    <tr>\n",
       "      <th>13522</th>\n",
       "      <td>13522</td>\n",
       "      <td>55</td>\n",
       "    </tr>\n",
       "  </tbody>\n",
       "</table>\n",
       "<p>13523 rows × 2 columns</p>\n",
       "</div>"
      ],
      "text/plain": [
       "       question_id            tags\n",
       "0                0   51 131 162 38\n",
       "1                1       131 36 81\n",
       "2                2  131 101 162 92\n",
       "3                3  131 149 162 29\n",
       "4                4    131 5 162 38\n",
       "...            ...             ...\n",
       "13518        13518              14\n",
       "13519        13519               8\n",
       "13520        13520              73\n",
       "13521        13521             125\n",
       "13522        13522              55\n",
       "\n",
       "[13523 rows x 2 columns]"
      ]
     },
     "execution_count": 17,
     "metadata": {},
     "output_type": "execute_result"
    }
   ],
   "source": [
    "df_questions[['question_id', 'tags']]"
   ]
  },
  {
   "cell_type": "markdown",
   "metadata": {
    "papermill": {
     "duration": 0.052021,
     "end_time": "2020-11-29T14:37:12.002824",
     "exception": false,
     "start_time": "2020-11-29T14:37:11.950803",
     "status": "completed"
    },
    "tags": []
   },
   "source": [
    "## 5. Lectures"
   ]
  },
  {
   "cell_type": "markdown",
   "metadata": {
    "papermill": {
     "duration": 0.051334,
     "end_time": "2020-11-29T14:37:12.106610",
     "exception": false,
     "start_time": "2020-11-29T14:37:12.055276",
     "status": "completed"
    },
    "tags": []
   },
   "source": [
    "### 5.1. Lectures and Tag\n",
    "\n",
    "There are **418** unique lectures users were watching before answering the questions. Unlike `questions.csv`, `tag` column is not an object type and it's not delimited by spaces in `lectures.csv`. Every lecture has only one tag which corresponds to same tags of the questions, so a lecture can have only one tag while a question can have multiple tags. There are 151 unique tags in both questions and lectures."
   ]
  },
  {
   "cell_type": "code",
   "execution_count": 18,
   "metadata": {
    "_kg_hide-input": true,
    "execution": {
     "iopub.execute_input": "2020-11-29T14:37:12.221508Z",
     "iopub.status.busy": "2020-11-29T14:37:12.220334Z",
     "iopub.status.idle": "2020-11-29T14:37:12.225181Z",
     "shell.execute_reply": "2020-11-29T14:37:12.224561Z"
    },
    "papermill": {
     "duration": 0.067382,
     "end_time": "2020-11-29T14:37:12.225323",
     "exception": false,
     "start_time": "2020-11-29T14:37:12.157941",
     "status": "completed"
    },
    "tags": []
   },
   "outputs": [
    {
     "data": {
      "text/html": [
       "<div>\n",
       "<style scoped>\n",
       "    .dataframe tbody tr th:only-of-type {\n",
       "        vertical-align: middle;\n",
       "    }\n",
       "\n",
       "    .dataframe tbody tr th {\n",
       "        vertical-align: top;\n",
       "    }\n",
       "\n",
       "    .dataframe thead th {\n",
       "        text-align: right;\n",
       "    }\n",
       "</style>\n",
       "<table border=\"1\" class=\"dataframe\">\n",
       "  <thead>\n",
       "    <tr style=\"text-align: right;\">\n",
       "      <th></th>\n",
       "      <th>lecture_id</th>\n",
       "      <th>tag</th>\n",
       "    </tr>\n",
       "  </thead>\n",
       "  <tbody>\n",
       "    <tr>\n",
       "      <th>0</th>\n",
       "      <td>89</td>\n",
       "      <td>159</td>\n",
       "    </tr>\n",
       "    <tr>\n",
       "      <th>1</th>\n",
       "      <td>100</td>\n",
       "      <td>70</td>\n",
       "    </tr>\n",
       "    <tr>\n",
       "      <th>2</th>\n",
       "      <td>185</td>\n",
       "      <td>45</td>\n",
       "    </tr>\n",
       "    <tr>\n",
       "      <th>3</th>\n",
       "      <td>192</td>\n",
       "      <td>79</td>\n",
       "    </tr>\n",
       "    <tr>\n",
       "      <th>4</th>\n",
       "      <td>317</td>\n",
       "      <td>156</td>\n",
       "    </tr>\n",
       "    <tr>\n",
       "      <th>5</th>\n",
       "      <td>335</td>\n",
       "      <td>114</td>\n",
       "    </tr>\n",
       "    <tr>\n",
       "      <th>6</th>\n",
       "      <td>484</td>\n",
       "      <td>179</td>\n",
       "    </tr>\n",
       "    <tr>\n",
       "      <th>7</th>\n",
       "      <td>641</td>\n",
       "      <td>134</td>\n",
       "    </tr>\n",
       "    <tr>\n",
       "      <th>8</th>\n",
       "      <td>761</td>\n",
       "      <td>93</td>\n",
       "    </tr>\n",
       "    <tr>\n",
       "      <th>9</th>\n",
       "      <td>814</td>\n",
       "      <td>80</td>\n",
       "    </tr>\n",
       "  </tbody>\n",
       "</table>\n",
       "</div>"
      ],
      "text/plain": [
       "   lecture_id  tag\n",
       "0          89  159\n",
       "1         100   70\n",
       "2         185   45\n",
       "3         192   79\n",
       "4         317  156\n",
       "5         335  114\n",
       "6         484  179\n",
       "7         641  134\n",
       "8         761   93\n",
       "9         814   80"
      ]
     },
     "execution_count": 18,
     "metadata": {},
     "output_type": "execute_result"
    }
   ],
   "source": [
    "df_lectures[['lecture_id', 'tag']].head(10)"
   ]
  },
  {
   "cell_type": "markdown",
   "metadata": {
    "papermill": {
     "duration": 0.052063,
     "end_time": "2020-11-29T14:37:12.330351",
     "exception": false,
     "start_time": "2020-11-29T14:37:12.278288",
     "status": "completed"
    },
    "tags": []
   },
   "source": [
    "### 5.2. Types, Parts, and Sections\n",
    "\n",
    "There is a feature named `type_of` in `lectures.csv` which is self-explanatory. 97% of the lectures are either 0 (concept) or 1 (solving question), and 3% of the lectures are either 2 (intention) or 3 (starter). Based on their labels, concept lectures are probably explaining the concepts behind the subject and question solving lectures are about solving sample questions. On the other hand, intention and starter lectures are introduction courses coming before concept and question solving lectures. Users should be able to answer questions correctly after watching concept and question solving lectures for an unseen subject.\n",
    "\n",
    "Part distribution is unbalanced compared to part distribution in questions. High number of part 5 lectures is the only thing matching between two distributions. Finally, since this file will be joined to training set, it should have `section` feature as well, just like questions."
   ]
  },
  {
   "cell_type": "code",
   "execution_count": 19,
   "metadata": {
    "execution": {
     "iopub.execute_input": "2020-11-29T14:37:12.446847Z",
     "iopub.status.busy": "2020-11-29T14:37:12.445776Z",
     "iopub.status.idle": "2020-11-29T14:37:12.449235Z",
     "shell.execute_reply": "2020-11-29T14:37:12.448532Z"
    },
    "papermill": {
     "duration": 0.066888,
     "end_time": "2020-11-29T14:37:12.449368",
     "exception": false,
     "start_time": "2020-11-29T14:37:12.382480",
     "status": "completed"
    },
    "tags": []
   },
   "outputs": [],
   "source": [
    "df_lectures.loc[df_lectures['part'] <= 4, 'section'] = 1\n",
    "df_lectures.loc[df_lectures['part'] > 4, 'section'] = 2\n",
    "df_lectures['section'] = df_lectures['section'].astype(np.uint8)"
   ]
  },
  {
   "cell_type": "code",
   "execution_count": 20,
   "metadata": {
    "_kg_hide-input": true,
    "execution": {
     "iopub.execute_input": "2020-11-29T14:37:12.568374Z",
     "iopub.status.busy": "2020-11-29T14:37:12.563156Z",
     "iopub.status.idle": "2020-11-29T14:37:12.918311Z",
     "shell.execute_reply": "2020-11-29T14:37:12.917703Z"
    },
    "papermill": {
     "duration": 0.416626,
     "end_time": "2020-11-29T14:37:12.918439",
     "exception": false,
     "start_time": "2020-11-29T14:37:12.501813",
     "status": "completed"
    },
    "tags": []
   },
   "outputs": [
    {
     "data": {
      "image/png": "[encoded data removed]",
      "text/plain": [
       "<Figure size 2304x576 with 2 Axes>"
      ]
     },
     "metadata": {
      "needs_background": "light"
     },
     "output_type": "display_data"
    }
   ],
   "source": [
    "fig, axes = plt.subplots(figsize=(32, 8), ncols=2)\n",
    "    \n",
    "sns.countplot(df_lectures['type_of'], ax=axes[0])\n",
    "sns.countplot(df_lectures['part'], ax=axes[1])\n",
    "\n",
    "for i in range(2):\n",
    "    axes[i].set_xlabel('')\n",
    "    axes[i].set_ylabel('')\n",
    "    axes[i].tick_params(axis='x', labelsize=22, pad=15)\n",
    "    axes[i].tick_params(axis='y', labelsize=22, pad=15)\n",
    "    \n",
    "axes[0].set_xticklabels([f'{value} ({count:,})' for value, count in df_lectures['type_of'].value_counts().sort_index().to_dict().items()])\n",
    "axes[1].set_xticklabels([f'{value} ({count:,})' for value, count in df_lectures['part'].value_counts().sort_index().to_dict().items()])\n",
    "axes[0].set_title(f'Type Distribution in Lectures', size=25, pad=25)\n",
    "axes[1].set_title(f'Part Distribution in Lectures', size=25, pad=25)\n",
    "\n",
    "plt.show()"
   ]
  },
  {
   "cell_type": "markdown",
   "metadata": {
    "papermill": {
     "duration": 0.053664,
     "end_time": "2020-11-29T14:37:13.028150",
     "exception": false,
     "start_time": "2020-11-29T14:37:12.974486",
     "status": "completed"
    },
    "tags": []
   },
   "source": [
    "## 6. Time Features\n",
    "\n",
    "There are two time features, and their names are `timestamp` and `prior_question_elapsed_time`. Both of them are in milliseconds (0.001 seconds equals to 1 milliseconds). There is another feature named `task_container_id` and it monotonically increases for each user, so it should be analyzed together with previously mentioned time features. Those features can be confusing at first glance, but they are detailedly explained in this section."
   ]
  },
  {
   "cell_type": "markdown",
   "metadata": {
    "papermill": {
     "duration": 0.053814,
     "end_time": "2020-11-29T14:37:13.136294",
     "exception": false,
     "start_time": "2020-11-29T14:37:13.082480",
     "status": "completed"
    },
    "tags": []
   },
   "source": [
    "### 6.1. Timestamp\n",
    "\n",
    "`timestamp` is the total milliseconds between user's current activity and first activity completed by that user. This value is entered when the current activity is **completed** by the user, so this feature is on user level. Every user have their own `timestamp` starting from 0 to their completed last activity. This means even if the users have spent any time on another activity after their last completed activity, that activity won't be entered if it is not completed.\n",
    "\n",
    "For every user, `timestamp` starts from 0 and ends at their last completed activity. That's why 0 is the most common value in `timestamp` histogram. However, number of 0 values doesn't match the number of unique users, because some of the questions are given to users in a batch. In those cases, all questions in the same batch will share the same `timestamp` of the last completed activity. For instance, user 368624 had recieved 4 question batch in each activity, and `timestamp` value is shared on those activities. `task_container_id` column is there for distinguishing whether the consecutive questions are in a batch, or not. Questions that are given in a batch have the same `task_container_id`, and it can be seen from the sample below."
   ]
  },
  {
   "cell_type": "code",
   "execution_count": 21,
   "metadata": {
    "_kg_hide-input": true,
    "execution": {
     "iopub.execute_input": "2020-11-29T14:37:13.253879Z",
     "iopub.status.busy": "2020-11-29T14:37:13.253100Z",
     "iopub.status.idle": "2020-11-29T14:37:31.040121Z",
     "shell.execute_reply": "2020-11-29T14:37:31.039320Z"
    },
    "papermill": {
     "duration": 17.850009,
     "end_time": "2020-11-29T14:37:31.040253",
     "exception": false,
     "start_time": "2020-11-29T14:37:13.190244",
     "status": "completed"
    },
    "tags": []
   },
   "outputs": [
    {
     "name": "stdout",
     "output_type": "stream",
     "text": [
      "There are 393,656 users in training set\n",
      "There are 396,417 0 timestamps in training set\n",
      "393,656 users first timestamp is 0\n",
      "89 users last timestamp is 0\n"
     ]
    },
    {
     "data": {
      "text/html": [
       "<style  type=\"text/css\" >\n",
       "#T_694a8372_3250_11eb_ae23_0242ac130202row0_col1,#T_694a8372_3250_11eb_ae23_0242ac130202row0_col5,#T_694a8372_3250_11eb_ae23_0242ac130202row1_col1,#T_694a8372_3250_11eb_ae23_0242ac130202row1_col5,#T_694a8372_3250_11eb_ae23_0242ac130202row2_col1,#T_694a8372_3250_11eb_ae23_0242ac130202row2_col5,#T_694a8372_3250_11eb_ae23_0242ac130202row3_col1,#T_694a8372_3250_11eb_ae23_0242ac130202row3_col5{\n",
       "            background-color:  #440154;\n",
       "            color:  #f1f1f1;\n",
       "        }#T_694a8372_3250_11eb_ae23_0242ac130202row4_col1,#T_694a8372_3250_11eb_ae23_0242ac130202row5_col1,#T_694a8372_3250_11eb_ae23_0242ac130202row6_col1,#T_694a8372_3250_11eb_ae23_0242ac130202row7_col1{\n",
       "            background-color:  #26818e;\n",
       "            color:  #000000;\n",
       "        }#T_694a8372_3250_11eb_ae23_0242ac130202row4_col5,#T_694a8372_3250_11eb_ae23_0242ac130202row5_col5,#T_694a8372_3250_11eb_ae23_0242ac130202row6_col5,#T_694a8372_3250_11eb_ae23_0242ac130202row7_col5{\n",
       "            background-color:  #21918c;\n",
       "            color:  #000000;\n",
       "        }#T_694a8372_3250_11eb_ae23_0242ac130202row8_col1,#T_694a8372_3250_11eb_ae23_0242ac130202row8_col5,#T_694a8372_3250_11eb_ae23_0242ac130202row9_col1,#T_694a8372_3250_11eb_ae23_0242ac130202row9_col5,#T_694a8372_3250_11eb_ae23_0242ac130202row10_col1,#T_694a8372_3250_11eb_ae23_0242ac130202row10_col5,#T_694a8372_3250_11eb_ae23_0242ac130202row11_col1,#T_694a8372_3250_11eb_ae23_0242ac130202row11_col5{\n",
       "            background-color:  #fde725;\n",
       "            color:  #000000;\n",
       "        }</style><table id=\"T_694a8372_3250_11eb_ae23_0242ac130202\" ><thead>    <tr>        <th class=\"blank level0\" ></th>        <th class=\"col_heading level0 col0\" >row_id</th>        <th class=\"col_heading level0 col1\" >timestamp</th>        <th class=\"col_heading level0 col2\" >user_id</th>        <th class=\"col_heading level0 col3\" >content_id</th>        <th class=\"col_heading level0 col4\" >content_type_id</th>        <th class=\"col_heading level0 col5\" >task_container_id</th>        <th class=\"col_heading level0 col6\" >user_answer</th>        <th class=\"col_heading level0 col7\" >answered_correctly</th>        <th class=\"col_heading level0 col8\" >prior_question_elapsed_time</th>        <th class=\"col_heading level0 col9\" >prior_question_had_explanation</th>    </tr></thead><tbody>\n",
       "                <tr>\n",
       "                        <th id=\"T_694a8372_3250_11eb_ae23_0242ac130202level0_row0\" class=\"row_heading level0 row0\" >22522</th>\n",
       "                        <td id=\"T_694a8372_3250_11eb_ae23_0242ac130202row0_col0\" class=\"data row0 col0\" >22522</td>\n",
       "                        <td id=\"T_694a8372_3250_11eb_ae23_0242ac130202row0_col1\" class=\"data row0 col1\" >0</td>\n",
       "                        <td id=\"T_694a8372_3250_11eb_ae23_0242ac130202row0_col2\" class=\"data row0 col2\" >368624</td>\n",
       "                        <td id=\"T_694a8372_3250_11eb_ae23_0242ac130202row0_col3\" class=\"data row0 col3\" >6820</td>\n",
       "                        <td id=\"T_694a8372_3250_11eb_ae23_0242ac130202row0_col4\" class=\"data row0 col4\" >0</td>\n",
       "                        <td id=\"T_694a8372_3250_11eb_ae23_0242ac130202row0_col5\" class=\"data row0 col5\" >0</td>\n",
       "                        <td id=\"T_694a8372_3250_11eb_ae23_0242ac130202row0_col6\" class=\"data row0 col6\" >2</td>\n",
       "                        <td id=\"T_694a8372_3250_11eb_ae23_0242ac130202row0_col7\" class=\"data row0 col7\" >0</td>\n",
       "                        <td id=\"T_694a8372_3250_11eb_ae23_0242ac130202row0_col8\" class=\"data row0 col8\" >47250.000000</td>\n",
       "                        <td id=\"T_694a8372_3250_11eb_ae23_0242ac130202row0_col9\" class=\"data row0 col9\" >0</td>\n",
       "            </tr>\n",
       "            <tr>\n",
       "                        <th id=\"T_694a8372_3250_11eb_ae23_0242ac130202level0_row1\" class=\"row_heading level0 row1\" >22523</th>\n",
       "                        <td id=\"T_694a8372_3250_11eb_ae23_0242ac130202row1_col0\" class=\"data row1 col0\" >22523</td>\n",
       "                        <td id=\"T_694a8372_3250_11eb_ae23_0242ac130202row1_col1\" class=\"data row1 col1\" >0</td>\n",
       "                        <td id=\"T_694a8372_3250_11eb_ae23_0242ac130202row1_col2\" class=\"data row1 col2\" >368624</td>\n",
       "                        <td id=\"T_694a8372_3250_11eb_ae23_0242ac130202row1_col3\" class=\"data row1 col3\" >6818</td>\n",
       "                        <td id=\"T_694a8372_3250_11eb_ae23_0242ac130202row1_col4\" class=\"data row1 col4\" >0</td>\n",
       "                        <td id=\"T_694a8372_3250_11eb_ae23_0242ac130202row1_col5\" class=\"data row1 col5\" >0</td>\n",
       "                        <td id=\"T_694a8372_3250_11eb_ae23_0242ac130202row1_col6\" class=\"data row1 col6\" >3</td>\n",
       "                        <td id=\"T_694a8372_3250_11eb_ae23_0242ac130202row1_col7\" class=\"data row1 col7\" >0</td>\n",
       "                        <td id=\"T_694a8372_3250_11eb_ae23_0242ac130202row1_col8\" class=\"data row1 col8\" >47250.000000</td>\n",
       "                        <td id=\"T_694a8372_3250_11eb_ae23_0242ac130202row1_col9\" class=\"data row1 col9\" >0</td>\n",
       "            </tr>\n",
       "            <tr>\n",
       "                        <th id=\"T_694a8372_3250_11eb_ae23_0242ac130202level0_row2\" class=\"row_heading level0 row2\" >22524</th>\n",
       "                        <td id=\"T_694a8372_3250_11eb_ae23_0242ac130202row2_col0\" class=\"data row2 col0\" >22524</td>\n",
       "                        <td id=\"T_694a8372_3250_11eb_ae23_0242ac130202row2_col1\" class=\"data row2 col1\" >0</td>\n",
       "                        <td id=\"T_694a8372_3250_11eb_ae23_0242ac130202row2_col2\" class=\"data row2 col2\" >368624</td>\n",
       "                        <td id=\"T_694a8372_3250_11eb_ae23_0242ac130202row2_col3\" class=\"data row2 col3\" >6817</td>\n",
       "                        <td id=\"T_694a8372_3250_11eb_ae23_0242ac130202row2_col4\" class=\"data row2 col4\" >0</td>\n",
       "                        <td id=\"T_694a8372_3250_11eb_ae23_0242ac130202row2_col5\" class=\"data row2 col5\" >0</td>\n",
       "                        <td id=\"T_694a8372_3250_11eb_ae23_0242ac130202row2_col6\" class=\"data row2 col6\" >1</td>\n",
       "                        <td id=\"T_694a8372_3250_11eb_ae23_0242ac130202row2_col7\" class=\"data row2 col7\" >1</td>\n",
       "                        <td id=\"T_694a8372_3250_11eb_ae23_0242ac130202row2_col8\" class=\"data row2 col8\" >47250.000000</td>\n",
       "                        <td id=\"T_694a8372_3250_11eb_ae23_0242ac130202row2_col9\" class=\"data row2 col9\" >0</td>\n",
       "            </tr>\n",
       "            <tr>\n",
       "                        <th id=\"T_694a8372_3250_11eb_ae23_0242ac130202level0_row3\" class=\"row_heading level0 row3\" >22525</th>\n",
       "                        <td id=\"T_694a8372_3250_11eb_ae23_0242ac130202row3_col0\" class=\"data row3 col0\" >22525</td>\n",
       "                        <td id=\"T_694a8372_3250_11eb_ae23_0242ac130202row3_col1\" class=\"data row3 col1\" >0</td>\n",
       "                        <td id=\"T_694a8372_3250_11eb_ae23_0242ac130202row3_col2\" class=\"data row3 col2\" >368624</td>\n",
       "                        <td id=\"T_694a8372_3250_11eb_ae23_0242ac130202row3_col3\" class=\"data row3 col3\" >6819</td>\n",
       "                        <td id=\"T_694a8372_3250_11eb_ae23_0242ac130202row3_col4\" class=\"data row3 col4\" >0</td>\n",
       "                        <td id=\"T_694a8372_3250_11eb_ae23_0242ac130202row3_col5\" class=\"data row3 col5\" >0</td>\n",
       "                        <td id=\"T_694a8372_3250_11eb_ae23_0242ac130202row3_col6\" class=\"data row3 col6\" >2</td>\n",
       "                        <td id=\"T_694a8372_3250_11eb_ae23_0242ac130202row3_col7\" class=\"data row3 col7\" >1</td>\n",
       "                        <td id=\"T_694a8372_3250_11eb_ae23_0242ac130202row3_col8\" class=\"data row3 col8\" >47250.000000</td>\n",
       "                        <td id=\"T_694a8372_3250_11eb_ae23_0242ac130202row3_col9\" class=\"data row3 col9\" >0</td>\n",
       "            </tr>\n",
       "            <tr>\n",
       "                        <th id=\"T_694a8372_3250_11eb_ae23_0242ac130202level0_row4\" class=\"row_heading level0 row4\" >22526</th>\n",
       "                        <td id=\"T_694a8372_3250_11eb_ae23_0242ac130202row4_col0\" class=\"data row4 col0\" >22526</td>\n",
       "                        <td id=\"T_694a8372_3250_11eb_ae23_0242ac130202row4_col1\" class=\"data row4 col1\" >191445</td>\n",
       "                        <td id=\"T_694a8372_3250_11eb_ae23_0242ac130202row4_col2\" class=\"data row4 col2\" >368624</td>\n",
       "                        <td id=\"T_694a8372_3250_11eb_ae23_0242ac130202row4_col3\" class=\"data row4 col3\" >6611</td>\n",
       "                        <td id=\"T_694a8372_3250_11eb_ae23_0242ac130202row4_col4\" class=\"data row4 col4\" >0</td>\n",
       "                        <td id=\"T_694a8372_3250_11eb_ae23_0242ac130202row4_col5\" class=\"data row4 col5\" >1</td>\n",
       "                        <td id=\"T_694a8372_3250_11eb_ae23_0242ac130202row4_col6\" class=\"data row4 col6\" >2</td>\n",
       "                        <td id=\"T_694a8372_3250_11eb_ae23_0242ac130202row4_col7\" class=\"data row4 col7\" >0</td>\n",
       "                        <td id=\"T_694a8372_3250_11eb_ae23_0242ac130202row4_col8\" class=\"data row4 col8\" >47250.000000</td>\n",
       "                        <td id=\"T_694a8372_3250_11eb_ae23_0242ac130202row4_col9\" class=\"data row4 col9\" >0</td>\n",
       "            </tr>\n",
       "            <tr>\n",
       "                        <th id=\"T_694a8372_3250_11eb_ae23_0242ac130202level0_row5\" class=\"row_heading level0 row5\" >22527</th>\n",
       "                        <td id=\"T_694a8372_3250_11eb_ae23_0242ac130202row5_col0\" class=\"data row5 col0\" >22527</td>\n",
       "                        <td id=\"T_694a8372_3250_11eb_ae23_0242ac130202row5_col1\" class=\"data row5 col1\" >191445</td>\n",
       "                        <td id=\"T_694a8372_3250_11eb_ae23_0242ac130202row5_col2\" class=\"data row5 col2\" >368624</td>\n",
       "                        <td id=\"T_694a8372_3250_11eb_ae23_0242ac130202row5_col3\" class=\"data row5 col3\" >6612</td>\n",
       "                        <td id=\"T_694a8372_3250_11eb_ae23_0242ac130202row5_col4\" class=\"data row5 col4\" >0</td>\n",
       "                        <td id=\"T_694a8372_3250_11eb_ae23_0242ac130202row5_col5\" class=\"data row5 col5\" >1</td>\n",
       "                        <td id=\"T_694a8372_3250_11eb_ae23_0242ac130202row5_col6\" class=\"data row5 col6\" >0</td>\n",
       "                        <td id=\"T_694a8372_3250_11eb_ae23_0242ac130202row5_col7\" class=\"data row5 col7\" >1</td>\n",
       "                        <td id=\"T_694a8372_3250_11eb_ae23_0242ac130202row5_col8\" class=\"data row5 col8\" >47250.000000</td>\n",
       "                        <td id=\"T_694a8372_3250_11eb_ae23_0242ac130202row5_col9\" class=\"data row5 col9\" >0</td>\n",
       "            </tr>\n",
       "            <tr>\n",
       "                        <th id=\"T_694a8372_3250_11eb_ae23_0242ac130202level0_row6\" class=\"row_heading level0 row6\" >22528</th>\n",
       "                        <td id=\"T_694a8372_3250_11eb_ae23_0242ac130202row6_col0\" class=\"data row6 col0\" >22528</td>\n",
       "                        <td id=\"T_694a8372_3250_11eb_ae23_0242ac130202row6_col1\" class=\"data row6 col1\" >191445</td>\n",
       "                        <td id=\"T_694a8372_3250_11eb_ae23_0242ac130202row6_col2\" class=\"data row6 col2\" >368624</td>\n",
       "                        <td id=\"T_694a8372_3250_11eb_ae23_0242ac130202row6_col3\" class=\"data row6 col3\" >6609</td>\n",
       "                        <td id=\"T_694a8372_3250_11eb_ae23_0242ac130202row6_col4\" class=\"data row6 col4\" >0</td>\n",
       "                        <td id=\"T_694a8372_3250_11eb_ae23_0242ac130202row6_col5\" class=\"data row6 col5\" >1</td>\n",
       "                        <td id=\"T_694a8372_3250_11eb_ae23_0242ac130202row6_col6\" class=\"data row6 col6\" >2</td>\n",
       "                        <td id=\"T_694a8372_3250_11eb_ae23_0242ac130202row6_col7\" class=\"data row6 col7\" >1</td>\n",
       "                        <td id=\"T_694a8372_3250_11eb_ae23_0242ac130202row6_col8\" class=\"data row6 col8\" >47250.000000</td>\n",
       "                        <td id=\"T_694a8372_3250_11eb_ae23_0242ac130202row6_col9\" class=\"data row6 col9\" >0</td>\n",
       "            </tr>\n",
       "            <tr>\n",
       "                        <th id=\"T_694a8372_3250_11eb_ae23_0242ac130202level0_row7\" class=\"row_heading level0 row7\" >22529</th>\n",
       "                        <td id=\"T_694a8372_3250_11eb_ae23_0242ac130202row7_col0\" class=\"data row7 col0\" >22529</td>\n",
       "                        <td id=\"T_694a8372_3250_11eb_ae23_0242ac130202row7_col1\" class=\"data row7 col1\" >191445</td>\n",
       "                        <td id=\"T_694a8372_3250_11eb_ae23_0242ac130202row7_col2\" class=\"data row7 col2\" >368624</td>\n",
       "                        <td id=\"T_694a8372_3250_11eb_ae23_0242ac130202row7_col3\" class=\"data row7 col3\" >6610</td>\n",
       "                        <td id=\"T_694a8372_3250_11eb_ae23_0242ac130202row7_col4\" class=\"data row7 col4\" >0</td>\n",
       "                        <td id=\"T_694a8372_3250_11eb_ae23_0242ac130202row7_col5\" class=\"data row7 col5\" >1</td>\n",
       "                        <td id=\"T_694a8372_3250_11eb_ae23_0242ac130202row7_col6\" class=\"data row7 col6\" >1</td>\n",
       "                        <td id=\"T_694a8372_3250_11eb_ae23_0242ac130202row7_col7\" class=\"data row7 col7\" >1</td>\n",
       "                        <td id=\"T_694a8372_3250_11eb_ae23_0242ac130202row7_col8\" class=\"data row7 col8\" >47250.000000</td>\n",
       "                        <td id=\"T_694a8372_3250_11eb_ae23_0242ac130202row7_col9\" class=\"data row7 col9\" >0</td>\n",
       "            </tr>\n",
       "            <tr>\n",
       "                        <th id=\"T_694a8372_3250_11eb_ae23_0242ac130202level0_row8\" class=\"row_heading level0 row8\" >22530</th>\n",
       "                        <td id=\"T_694a8372_3250_11eb_ae23_0242ac130202row8_col0\" class=\"data row8 col0\" >22530</td>\n",
       "                        <td id=\"T_694a8372_3250_11eb_ae23_0242ac130202row8_col1\" class=\"data row8 col1\" >439194</td>\n",
       "                        <td id=\"T_694a8372_3250_11eb_ae23_0242ac130202row8_col2\" class=\"data row8 col2\" >368624</td>\n",
       "                        <td id=\"T_694a8372_3250_11eb_ae23_0242ac130202row8_col3\" class=\"data row8 col3\" >6597</td>\n",
       "                        <td id=\"T_694a8372_3250_11eb_ae23_0242ac130202row8_col4\" class=\"data row8 col4\" >0</td>\n",
       "                        <td id=\"T_694a8372_3250_11eb_ae23_0242ac130202row8_col5\" class=\"data row8 col5\" >2</td>\n",
       "                        <td id=\"T_694a8372_3250_11eb_ae23_0242ac130202row8_col6\" class=\"data row8 col6\" >1</td>\n",
       "                        <td id=\"T_694a8372_3250_11eb_ae23_0242ac130202row8_col7\" class=\"data row8 col7\" >0</td>\n",
       "                        <td id=\"T_694a8372_3250_11eb_ae23_0242ac130202row8_col8\" class=\"data row8 col8\" >46250.000000</td>\n",
       "                        <td id=\"T_694a8372_3250_11eb_ae23_0242ac130202row8_col9\" class=\"data row8 col9\" >0</td>\n",
       "            </tr>\n",
       "            <tr>\n",
       "                        <th id=\"T_694a8372_3250_11eb_ae23_0242ac130202level0_row9\" class=\"row_heading level0 row9\" >22531</th>\n",
       "                        <td id=\"T_694a8372_3250_11eb_ae23_0242ac130202row9_col0\" class=\"data row9 col0\" >22531</td>\n",
       "                        <td id=\"T_694a8372_3250_11eb_ae23_0242ac130202row9_col1\" class=\"data row9 col1\" >439194</td>\n",
       "                        <td id=\"T_694a8372_3250_11eb_ae23_0242ac130202row9_col2\" class=\"data row9 col2\" >368624</td>\n",
       "                        <td id=\"T_694a8372_3250_11eb_ae23_0242ac130202row9_col3\" class=\"data row9 col3\" >6600</td>\n",
       "                        <td id=\"T_694a8372_3250_11eb_ae23_0242ac130202row9_col4\" class=\"data row9 col4\" >0</td>\n",
       "                        <td id=\"T_694a8372_3250_11eb_ae23_0242ac130202row9_col5\" class=\"data row9 col5\" >2</td>\n",
       "                        <td id=\"T_694a8372_3250_11eb_ae23_0242ac130202row9_col6\" class=\"data row9 col6\" >2</td>\n",
       "                        <td id=\"T_694a8372_3250_11eb_ae23_0242ac130202row9_col7\" class=\"data row9 col7\" >1</td>\n",
       "                        <td id=\"T_694a8372_3250_11eb_ae23_0242ac130202row9_col8\" class=\"data row9 col8\" >46250.000000</td>\n",
       "                        <td id=\"T_694a8372_3250_11eb_ae23_0242ac130202row9_col9\" class=\"data row9 col9\" >0</td>\n",
       "            </tr>\n",
       "            <tr>\n",
       "                        <th id=\"T_694a8372_3250_11eb_ae23_0242ac130202level0_row10\" class=\"row_heading level0 row10\" >22532</th>\n",
       "                        <td id=\"T_694a8372_3250_11eb_ae23_0242ac130202row10_col0\" class=\"data row10 col0\" >22532</td>\n",
       "                        <td id=\"T_694a8372_3250_11eb_ae23_0242ac130202row10_col1\" class=\"data row10 col1\" >439194</td>\n",
       "                        <td id=\"T_694a8372_3250_11eb_ae23_0242ac130202row10_col2\" class=\"data row10 col2\" >368624</td>\n",
       "                        <td id=\"T_694a8372_3250_11eb_ae23_0242ac130202row10_col3\" class=\"data row10 col3\" >6598</td>\n",
       "                        <td id=\"T_694a8372_3250_11eb_ae23_0242ac130202row10_col4\" class=\"data row10 col4\" >0</td>\n",
       "                        <td id=\"T_694a8372_3250_11eb_ae23_0242ac130202row10_col5\" class=\"data row10 col5\" >2</td>\n",
       "                        <td id=\"T_694a8372_3250_11eb_ae23_0242ac130202row10_col6\" class=\"data row10 col6\" >1</td>\n",
       "                        <td id=\"T_694a8372_3250_11eb_ae23_0242ac130202row10_col7\" class=\"data row10 col7\" >0</td>\n",
       "                        <td id=\"T_694a8372_3250_11eb_ae23_0242ac130202row10_col8\" class=\"data row10 col8\" >46250.000000</td>\n",
       "                        <td id=\"T_694a8372_3250_11eb_ae23_0242ac130202row10_col9\" class=\"data row10 col9\" >0</td>\n",
       "            </tr>\n",
       "            <tr>\n",
       "                        <th id=\"T_694a8372_3250_11eb_ae23_0242ac130202level0_row11\" class=\"row_heading level0 row11\" >22533</th>\n",
       "                        <td id=\"T_694a8372_3250_11eb_ae23_0242ac130202row11_col0\" class=\"data row11 col0\" >22533</td>\n",
       "                        <td id=\"T_694a8372_3250_11eb_ae23_0242ac130202row11_col1\" class=\"data row11 col1\" >439194</td>\n",
       "                        <td id=\"T_694a8372_3250_11eb_ae23_0242ac130202row11_col2\" class=\"data row11 col2\" >368624</td>\n",
       "                        <td id=\"T_694a8372_3250_11eb_ae23_0242ac130202row11_col3\" class=\"data row11 col3\" >6599</td>\n",
       "                        <td id=\"T_694a8372_3250_11eb_ae23_0242ac130202row11_col4\" class=\"data row11 col4\" >0</td>\n",
       "                        <td id=\"T_694a8372_3250_11eb_ae23_0242ac130202row11_col5\" class=\"data row11 col5\" >2</td>\n",
       "                        <td id=\"T_694a8372_3250_11eb_ae23_0242ac130202row11_col6\" class=\"data row11 col6\" >3</td>\n",
       "                        <td id=\"T_694a8372_3250_11eb_ae23_0242ac130202row11_col7\" class=\"data row11 col7\" >1</td>\n",
       "                        <td id=\"T_694a8372_3250_11eb_ae23_0242ac130202row11_col8\" class=\"data row11 col8\" >46250.000000</td>\n",
       "                        <td id=\"T_694a8372_3250_11eb_ae23_0242ac130202row11_col9\" class=\"data row11 col9\" >0</td>\n",
       "            </tr>\n",
       "    </tbody></table>"
      ],
      "text/plain": [
       "<pandas.io.formats.style.Styler at 0x7f87d7b52ad0>"
      ]
     },
     "execution_count": 21,
     "metadata": {},
     "output_type": "execute_result"
    }
   ],
   "source": [
    "first_timestamps = df_train.groupby('user_id')['timestamp'].first()\n",
    "last_timestamps = df_train.groupby('user_id')['timestamp'].nth(-1)\n",
    "\n",
    "print(f'There are {df_train[\"user_id\"].nunique():,} users in training set')\n",
    "print(f'There are {df_train[df_train[\"timestamp\"] == 0].shape[0]:,} 0 timestamps in training set')\n",
    "print(f'{first_timestamps[first_timestamps == 0].shape[0]:,} users first timestamp is 0')\n",
    "print(f'{last_timestamps[last_timestamps == 0].shape[0]:,} users last timestamp is 0')\n",
    "\n",
    "del first_timestamps, last_timestamps\n",
    "\n",
    "df_train[df_train['user_id'] == 368624].head(12).style.background_gradient(subset=['task_container_id', 'timestamp'], cmap='viridis')"
   ]
  },
  {
   "cell_type": "markdown",
   "metadata": {
    "papermill": {
     "duration": 0.055099,
     "end_time": "2020-11-29T14:37:31.151344",
     "exception": false,
     "start_time": "2020-11-29T14:37:31.096245",
     "status": "completed"
    },
    "tags": []
   },
   "source": [
    "`timestamp` follows a skewed right distribution with lots of zeros because it is the only value that every user have in their first activities. Other nth activities of users can be any number because `timestamp` is in milliseconds, thus, cardinality is very high.\n",
    "\n",
    "Statistical measures of this variable are on a very large scale that they should be analyzed as days. Mean of `timestamp` is 89.2 days and median is 30.95 days. Difference between those two measures shows how big extreme values are. Some users waited very long time between their activities. The max value in `timestamp` is 7,703,643,654.326523 milliseconds which is equal to 1011.87 days and 2.77 years."
   ]
  },
  {
   "cell_type": "code",
   "execution_count": 22,
   "metadata": {
    "_kg_hide-input": true,
    "execution": {
     "iopub.execute_input": "2020-11-29T14:37:31.278004Z",
     "iopub.status.busy": "2020-11-29T14:37:31.277167Z",
     "iopub.status.idle": "2020-11-29T14:37:41.418783Z",
     "shell.execute_reply": "2020-11-29T14:37:41.418118Z"
    },
    "papermill": {
     "duration": 10.212283,
     "end_time": "2020-11-29T14:37:41.418946",
     "exception": false,
     "start_time": "2020-11-29T14:37:31.206663",
     "status": "completed"
    },
    "tags": []
   },
   "outputs": [
    {
     "name": "stdout",
     "output_type": "stream",
     "text": [
      "timestamp\n",
      "---------\n",
      "Train Mean: 7,703,643,654.326523 - Median: 2,674,233,764.5 - Std: 11,592,655,308.525589 - Var 1.3438965577472339e+20\n",
      "Train Min: 0 - Max: 87,425,772,049 - Skew 2.388 - Kurt 6.436 \n"
     ]
    },
    {
     "data": {
      "image/png": "[encoded data removed]",
      "text/plain": [
       "<Figure size 1296x432 with 1 Axes>"
      ]
     },
     "metadata": {
      "needs_background": "light"
     },
     "output_type": "display_data"
    }
   ],
   "source": [
    "train_mean = df_train['timestamp'].mean()\n",
    "train_median = df_train['timestamp'].median()\n",
    "train_std = df_train['timestamp'].std()\n",
    "train_min = df_train['timestamp'].min()\n",
    "train_max = df_train['timestamp'].max()\n",
    "train_skew = skew(df_train['timestamp'])\n",
    "train_kurt = kurtosis(df_train['timestamp'])\n",
    "train_var = np.var(df_train['timestamp'])\n",
    "\n",
    "print(f'timestamp\\n{\"-\" * 9}')\n",
    "print(f'Train Mean: {train_mean:,} - Median: {train_median:,} - Std: {train_std:,} - Var {train_var:,}')\n",
    "print(f'Train Min: {train_min:,} - Max: {train_max:,} - Skew {train_skew:.4} - Kurt {train_kurt:.4} ')\n",
    "\n",
    "figure = plt.figure(figsize=(18, 6))\n",
    "\n",
    "plt.hist(df_train['timestamp'], bins=200)\n",
    "plt.xlabel('timestamp', size=18, labelpad=15)\n",
    "plt.ylabel('')\n",
    "plt.tick_params(axis='x', labelsize=18, pad=15)\n",
    "plt.tick_params(axis='y', labelsize=18, pad=15)\n",
    "plt.title('timestamp Histogram in Training Set', size=20, pad=15)\n",
    "\n",
    "plt.show()\n",
    "\n",
    "del train_mean, train_median, train_std, train_min, train_max, train_skew, train_kurt, train_var"
   ]
  },
  {
   "cell_type": "markdown",
   "metadata": {
    "papermill": {
     "duration": 0.05911,
     "end_time": "2020-11-29T14:37:41.537720",
     "exception": false,
     "start_time": "2020-11-29T14:37:41.478610",
     "status": "completed"
    },
    "tags": []
   },
   "source": [
    "### 6.2. Prior Question Elapsed Time\n",
    "\n",
    "`prior_question_elapsed_time` is the average time in milliseconds a user spent to answer each question on the previous batch. Unlike `timestamp`, this value is the **average** time, so it doesn't monotonically increase and it has low cardinality compared to `timestamp` It is also entered when the current activity is completed by the user **if the completed activity is a question**. Lectures between questions are ignored. This feature is on user level as well, but there is one more important thing to consider.\n",
    "\n",
    "In order to find the total amount of time spent on a batch, `prior_question_elapsed_time` values should be summed in `[user_id, task_container_id]` groups because it is the average time spent on **each** question from the previous batch. Based on the sample below, user 368624 spent 47250 milliseconds on each question in task container 0 and task container 1. Those batches have 4 questions in them so total amount of time spent on those batches are 189000 milliseconds."
   ]
  },
  {
   "cell_type": "code",
   "execution_count": 23,
   "metadata": {
    "_kg_hide-input": true,
    "execution": {
     "iopub.execute_input": "2020-11-29T14:37:41.666789Z",
     "iopub.status.busy": "2020-11-29T14:37:41.665962Z",
     "iopub.status.idle": "2020-11-29T14:37:41.795312Z",
     "shell.execute_reply": "2020-11-29T14:37:41.794713Z"
    },
    "papermill": {
     "duration": 0.195255,
     "end_time": "2020-11-29T14:37:41.795452",
     "exception": false,
     "start_time": "2020-11-29T14:37:41.600197",
     "status": "completed"
    },
    "tags": []
   },
   "outputs": [
    {
     "data": {
      "text/html": [
       "<style  type=\"text/css\" >\n",
       "#T_6fb40f3a_3250_11eb_ae23_0242ac130202row0_col5,#T_6fb40f3a_3250_11eb_ae23_0242ac130202row1_col5,#T_6fb40f3a_3250_11eb_ae23_0242ac130202row2_col5,#T_6fb40f3a_3250_11eb_ae23_0242ac130202row3_col5,#T_6fb40f3a_3250_11eb_ae23_0242ac130202row8_col8,#T_6fb40f3a_3250_11eb_ae23_0242ac130202row9_col8,#T_6fb40f3a_3250_11eb_ae23_0242ac130202row10_col8,#T_6fb40f3a_3250_11eb_ae23_0242ac130202row11_col8{\n",
       "            background-color:  #440154;\n",
       "            color:  #f1f1f1;\n",
       "        }#T_6fb40f3a_3250_11eb_ae23_0242ac130202row0_col8,#T_6fb40f3a_3250_11eb_ae23_0242ac130202row1_col8,#T_6fb40f3a_3250_11eb_ae23_0242ac130202row2_col8,#T_6fb40f3a_3250_11eb_ae23_0242ac130202row3_col8,#T_6fb40f3a_3250_11eb_ae23_0242ac130202row4_col8,#T_6fb40f3a_3250_11eb_ae23_0242ac130202row5_col8,#T_6fb40f3a_3250_11eb_ae23_0242ac130202row6_col8,#T_6fb40f3a_3250_11eb_ae23_0242ac130202row7_col8,#T_6fb40f3a_3250_11eb_ae23_0242ac130202row8_col5,#T_6fb40f3a_3250_11eb_ae23_0242ac130202row9_col5,#T_6fb40f3a_3250_11eb_ae23_0242ac130202row10_col5,#T_6fb40f3a_3250_11eb_ae23_0242ac130202row11_col5{\n",
       "            background-color:  #fde725;\n",
       "            color:  #000000;\n",
       "        }#T_6fb40f3a_3250_11eb_ae23_0242ac130202row4_col5,#T_6fb40f3a_3250_11eb_ae23_0242ac130202row5_col5,#T_6fb40f3a_3250_11eb_ae23_0242ac130202row6_col5,#T_6fb40f3a_3250_11eb_ae23_0242ac130202row7_col5{\n",
       "            background-color:  #21918c;\n",
       "            color:  #000000;\n",
       "        }</style><table id=\"T_6fb40f3a_3250_11eb_ae23_0242ac130202\" ><thead>    <tr>        <th class=\"blank level0\" ></th>        <th class=\"col_heading level0 col0\" >row_id</th>        <th class=\"col_heading level0 col1\" >timestamp</th>        <th class=\"col_heading level0 col2\" >user_id</th>        <th class=\"col_heading level0 col3\" >content_id</th>        <th class=\"col_heading level0 col4\" >content_type_id</th>        <th class=\"col_heading level0 col5\" >task_container_id</th>        <th class=\"col_heading level0 col6\" >user_answer</th>        <th class=\"col_heading level0 col7\" >answered_correctly</th>        <th class=\"col_heading level0 col8\" >prior_question_elapsed_time</th>        <th class=\"col_heading level0 col9\" >prior_question_had_explanation</th>    </tr></thead><tbody>\n",
       "                <tr>\n",
       "                        <th id=\"T_6fb40f3a_3250_11eb_ae23_0242ac130202level0_row0\" class=\"row_heading level0 row0\" >22522</th>\n",
       "                        <td id=\"T_6fb40f3a_3250_11eb_ae23_0242ac130202row0_col0\" class=\"data row0 col0\" >22522</td>\n",
       "                        <td id=\"T_6fb40f3a_3250_11eb_ae23_0242ac130202row0_col1\" class=\"data row0 col1\" >0</td>\n",
       "                        <td id=\"T_6fb40f3a_3250_11eb_ae23_0242ac130202row0_col2\" class=\"data row0 col2\" >368624</td>\n",
       "                        <td id=\"T_6fb40f3a_3250_11eb_ae23_0242ac130202row0_col3\" class=\"data row0 col3\" >6820</td>\n",
       "                        <td id=\"T_6fb40f3a_3250_11eb_ae23_0242ac130202row0_col4\" class=\"data row0 col4\" >0</td>\n",
       "                        <td id=\"T_6fb40f3a_3250_11eb_ae23_0242ac130202row0_col5\" class=\"data row0 col5\" >0</td>\n",
       "                        <td id=\"T_6fb40f3a_3250_11eb_ae23_0242ac130202row0_col6\" class=\"data row0 col6\" >2</td>\n",
       "                        <td id=\"T_6fb40f3a_3250_11eb_ae23_0242ac130202row0_col7\" class=\"data row0 col7\" >0</td>\n",
       "                        <td id=\"T_6fb40f3a_3250_11eb_ae23_0242ac130202row0_col8\" class=\"data row0 col8\" >47250.000000</td>\n",
       "                        <td id=\"T_6fb40f3a_3250_11eb_ae23_0242ac130202row0_col9\" class=\"data row0 col9\" >0</td>\n",
       "            </tr>\n",
       "            <tr>\n",
       "                        <th id=\"T_6fb40f3a_3250_11eb_ae23_0242ac130202level0_row1\" class=\"row_heading level0 row1\" >22523</th>\n",
       "                        <td id=\"T_6fb40f3a_3250_11eb_ae23_0242ac130202row1_col0\" class=\"data row1 col0\" >22523</td>\n",
       "                        <td id=\"T_6fb40f3a_3250_11eb_ae23_0242ac130202row1_col1\" class=\"data row1 col1\" >0</td>\n",
       "                        <td id=\"T_6fb40f3a_3250_11eb_ae23_0242ac130202row1_col2\" class=\"data row1 col2\" >368624</td>\n",
       "                        <td id=\"T_6fb40f3a_3250_11eb_ae23_0242ac130202row1_col3\" class=\"data row1 col3\" >6818</td>\n",
       "                        <td id=\"T_6fb40f3a_3250_11eb_ae23_0242ac130202row1_col4\" class=\"data row1 col4\" >0</td>\n",
       "                        <td id=\"T_6fb40f3a_3250_11eb_ae23_0242ac130202row1_col5\" class=\"data row1 col5\" >0</td>\n",
       "                        <td id=\"T_6fb40f3a_3250_11eb_ae23_0242ac130202row1_col6\" class=\"data row1 col6\" >3</td>\n",
       "                        <td id=\"T_6fb40f3a_3250_11eb_ae23_0242ac130202row1_col7\" class=\"data row1 col7\" >0</td>\n",
       "                        <td id=\"T_6fb40f3a_3250_11eb_ae23_0242ac130202row1_col8\" class=\"data row1 col8\" >47250.000000</td>\n",
       "                        <td id=\"T_6fb40f3a_3250_11eb_ae23_0242ac130202row1_col9\" class=\"data row1 col9\" >0</td>\n",
       "            </tr>\n",
       "            <tr>\n",
       "                        <th id=\"T_6fb40f3a_3250_11eb_ae23_0242ac130202level0_row2\" class=\"row_heading level0 row2\" >22524</th>\n",
       "                        <td id=\"T_6fb40f3a_3250_11eb_ae23_0242ac130202row2_col0\" class=\"data row2 col0\" >22524</td>\n",
       "                        <td id=\"T_6fb40f3a_3250_11eb_ae23_0242ac130202row2_col1\" class=\"data row2 col1\" >0</td>\n",
       "                        <td id=\"T_6fb40f3a_3250_11eb_ae23_0242ac130202row2_col2\" class=\"data row2 col2\" >368624</td>\n",
       "                        <td id=\"T_6fb40f3a_3250_11eb_ae23_0242ac130202row2_col3\" class=\"data row2 col3\" >6817</td>\n",
       "                        <td id=\"T_6fb40f3a_3250_11eb_ae23_0242ac130202row2_col4\" class=\"data row2 col4\" >0</td>\n",
       "                        <td id=\"T_6fb40f3a_3250_11eb_ae23_0242ac130202row2_col5\" class=\"data row2 col5\" >0</td>\n",
       "                        <td id=\"T_6fb40f3a_3250_11eb_ae23_0242ac130202row2_col6\" class=\"data row2 col6\" >1</td>\n",
       "                        <td id=\"T_6fb40f3a_3250_11eb_ae23_0242ac130202row2_col7\" class=\"data row2 col7\" >1</td>\n",
       "                        <td id=\"T_6fb40f3a_3250_11eb_ae23_0242ac130202row2_col8\" class=\"data row2 col8\" >47250.000000</td>\n",
       "                        <td id=\"T_6fb40f3a_3250_11eb_ae23_0242ac130202row2_col9\" class=\"data row2 col9\" >0</td>\n",
       "            </tr>\n",
       "            <tr>\n",
       "                        <th id=\"T_6fb40f3a_3250_11eb_ae23_0242ac130202level0_row3\" class=\"row_heading level0 row3\" >22525</th>\n",
       "                        <td id=\"T_6fb40f3a_3250_11eb_ae23_0242ac130202row3_col0\" class=\"data row3 col0\" >22525</td>\n",
       "                        <td id=\"T_6fb40f3a_3250_11eb_ae23_0242ac130202row3_col1\" class=\"data row3 col1\" >0</td>\n",
       "                        <td id=\"T_6fb40f3a_3250_11eb_ae23_0242ac130202row3_col2\" class=\"data row3 col2\" >368624</td>\n",
       "                        <td id=\"T_6fb40f3a_3250_11eb_ae23_0242ac130202row3_col3\" class=\"data row3 col3\" >6819</td>\n",
       "                        <td id=\"T_6fb40f3a_3250_11eb_ae23_0242ac130202row3_col4\" class=\"data row3 col4\" >0</td>\n",
       "                        <td id=\"T_6fb40f3a_3250_11eb_ae23_0242ac130202row3_col5\" class=\"data row3 col5\" >0</td>\n",
       "                        <td id=\"T_6fb40f3a_3250_11eb_ae23_0242ac130202row3_col6\" class=\"data row3 col6\" >2</td>\n",
       "                        <td id=\"T_6fb40f3a_3250_11eb_ae23_0242ac130202row3_col7\" class=\"data row3 col7\" >1</td>\n",
       "                        <td id=\"T_6fb40f3a_3250_11eb_ae23_0242ac130202row3_col8\" class=\"data row3 col8\" >47250.000000</td>\n",
       "                        <td id=\"T_6fb40f3a_3250_11eb_ae23_0242ac130202row3_col9\" class=\"data row3 col9\" >0</td>\n",
       "            </tr>\n",
       "            <tr>\n",
       "                        <th id=\"T_6fb40f3a_3250_11eb_ae23_0242ac130202level0_row4\" class=\"row_heading level0 row4\" >22526</th>\n",
       "                        <td id=\"T_6fb40f3a_3250_11eb_ae23_0242ac130202row4_col0\" class=\"data row4 col0\" >22526</td>\n",
       "                        <td id=\"T_6fb40f3a_3250_11eb_ae23_0242ac130202row4_col1\" class=\"data row4 col1\" >191445</td>\n",
       "                        <td id=\"T_6fb40f3a_3250_11eb_ae23_0242ac130202row4_col2\" class=\"data row4 col2\" >368624</td>\n",
       "                        <td id=\"T_6fb40f3a_3250_11eb_ae23_0242ac130202row4_col3\" class=\"data row4 col3\" >6611</td>\n",
       "                        <td id=\"T_6fb40f3a_3250_11eb_ae23_0242ac130202row4_col4\" class=\"data row4 col4\" >0</td>\n",
       "                        <td id=\"T_6fb40f3a_3250_11eb_ae23_0242ac130202row4_col5\" class=\"data row4 col5\" >1</td>\n",
       "                        <td id=\"T_6fb40f3a_3250_11eb_ae23_0242ac130202row4_col6\" class=\"data row4 col6\" >2</td>\n",
       "                        <td id=\"T_6fb40f3a_3250_11eb_ae23_0242ac130202row4_col7\" class=\"data row4 col7\" >0</td>\n",
       "                        <td id=\"T_6fb40f3a_3250_11eb_ae23_0242ac130202row4_col8\" class=\"data row4 col8\" >47250.000000</td>\n",
       "                        <td id=\"T_6fb40f3a_3250_11eb_ae23_0242ac130202row4_col9\" class=\"data row4 col9\" >0</td>\n",
       "            </tr>\n",
       "            <tr>\n",
       "                        <th id=\"T_6fb40f3a_3250_11eb_ae23_0242ac130202level0_row5\" class=\"row_heading level0 row5\" >22527</th>\n",
       "                        <td id=\"T_6fb40f3a_3250_11eb_ae23_0242ac130202row5_col0\" class=\"data row5 col0\" >22527</td>\n",
       "                        <td id=\"T_6fb40f3a_3250_11eb_ae23_0242ac130202row5_col1\" class=\"data row5 col1\" >191445</td>\n",
       "                        <td id=\"T_6fb40f3a_3250_11eb_ae23_0242ac130202row5_col2\" class=\"data row5 col2\" >368624</td>\n",
       "                        <td id=\"T_6fb40f3a_3250_11eb_ae23_0242ac130202row5_col3\" class=\"data row5 col3\" >6612</td>\n",
       "                        <td id=\"T_6fb40f3a_3250_11eb_ae23_0242ac130202row5_col4\" class=\"data row5 col4\" >0</td>\n",
       "                        <td id=\"T_6fb40f3a_3250_11eb_ae23_0242ac130202row5_col5\" class=\"data row5 col5\" >1</td>\n",
       "                        <td id=\"T_6fb40f3a_3250_11eb_ae23_0242ac130202row5_col6\" class=\"data row5 col6\" >0</td>\n",
       "                        <td id=\"T_6fb40f3a_3250_11eb_ae23_0242ac130202row5_col7\" class=\"data row5 col7\" >1</td>\n",
       "                        <td id=\"T_6fb40f3a_3250_11eb_ae23_0242ac130202row5_col8\" class=\"data row5 col8\" >47250.000000</td>\n",
       "                        <td id=\"T_6fb40f3a_3250_11eb_ae23_0242ac130202row5_col9\" class=\"data row5 col9\" >0</td>\n",
       "            </tr>\n",
       "            <tr>\n",
       "                        <th id=\"T_6fb40f3a_3250_11eb_ae23_0242ac130202level0_row6\" class=\"row_heading level0 row6\" >22528</th>\n",
       "                        <td id=\"T_6fb40f3a_3250_11eb_ae23_0242ac130202row6_col0\" class=\"data row6 col0\" >22528</td>\n",
       "                        <td id=\"T_6fb40f3a_3250_11eb_ae23_0242ac130202row6_col1\" class=\"data row6 col1\" >191445</td>\n",
       "                        <td id=\"T_6fb40f3a_3250_11eb_ae23_0242ac130202row6_col2\" class=\"data row6 col2\" >368624</td>\n",
       "                        <td id=\"T_6fb40f3a_3250_11eb_ae23_0242ac130202row6_col3\" class=\"data row6 col3\" >6609</td>\n",
       "                        <td id=\"T_6fb40f3a_3250_11eb_ae23_0242ac130202row6_col4\" class=\"data row6 col4\" >0</td>\n",
       "                        <td id=\"T_6fb40f3a_3250_11eb_ae23_0242ac130202row6_col5\" class=\"data row6 col5\" >1</td>\n",
       "                        <td id=\"T_6fb40f3a_3250_11eb_ae23_0242ac130202row6_col6\" class=\"data row6 col6\" >2</td>\n",
       "                        <td id=\"T_6fb40f3a_3250_11eb_ae23_0242ac130202row6_col7\" class=\"data row6 col7\" >1</td>\n",
       "                        <td id=\"T_6fb40f3a_3250_11eb_ae23_0242ac130202row6_col8\" class=\"data row6 col8\" >47250.000000</td>\n",
       "                        <td id=\"T_6fb40f3a_3250_11eb_ae23_0242ac130202row6_col9\" class=\"data row6 col9\" >0</td>\n",
       "            </tr>\n",
       "            <tr>\n",
       "                        <th id=\"T_6fb40f3a_3250_11eb_ae23_0242ac130202level0_row7\" class=\"row_heading level0 row7\" >22529</th>\n",
       "                        <td id=\"T_6fb40f3a_3250_11eb_ae23_0242ac130202row7_col0\" class=\"data row7 col0\" >22529</td>\n",
       "                        <td id=\"T_6fb40f3a_3250_11eb_ae23_0242ac130202row7_col1\" class=\"data row7 col1\" >191445</td>\n",
       "                        <td id=\"T_6fb40f3a_3250_11eb_ae23_0242ac130202row7_col2\" class=\"data row7 col2\" >368624</td>\n",
       "                        <td id=\"T_6fb40f3a_3250_11eb_ae23_0242ac130202row7_col3\" class=\"data row7 col3\" >6610</td>\n",
       "                        <td id=\"T_6fb40f3a_3250_11eb_ae23_0242ac130202row7_col4\" class=\"data row7 col4\" >0</td>\n",
       "                        <td id=\"T_6fb40f3a_3250_11eb_ae23_0242ac130202row7_col5\" class=\"data row7 col5\" >1</td>\n",
       "                        <td id=\"T_6fb40f3a_3250_11eb_ae23_0242ac130202row7_col6\" class=\"data row7 col6\" >1</td>\n",
       "                        <td id=\"T_6fb40f3a_3250_11eb_ae23_0242ac130202row7_col7\" class=\"data row7 col7\" >1</td>\n",
       "                        <td id=\"T_6fb40f3a_3250_11eb_ae23_0242ac130202row7_col8\" class=\"data row7 col8\" >47250.000000</td>\n",
       "                        <td id=\"T_6fb40f3a_3250_11eb_ae23_0242ac130202row7_col9\" class=\"data row7 col9\" >0</td>\n",
       "            </tr>\n",
       "            <tr>\n",
       "                        <th id=\"T_6fb40f3a_3250_11eb_ae23_0242ac130202level0_row8\" class=\"row_heading level0 row8\" >22530</th>\n",
       "                        <td id=\"T_6fb40f3a_3250_11eb_ae23_0242ac130202row8_col0\" class=\"data row8 col0\" >22530</td>\n",
       "                        <td id=\"T_6fb40f3a_3250_11eb_ae23_0242ac130202row8_col1\" class=\"data row8 col1\" >439194</td>\n",
       "                        <td id=\"T_6fb40f3a_3250_11eb_ae23_0242ac130202row8_col2\" class=\"data row8 col2\" >368624</td>\n",
       "                        <td id=\"T_6fb40f3a_3250_11eb_ae23_0242ac130202row8_col3\" class=\"data row8 col3\" >6597</td>\n",
       "                        <td id=\"T_6fb40f3a_3250_11eb_ae23_0242ac130202row8_col4\" class=\"data row8 col4\" >0</td>\n",
       "                        <td id=\"T_6fb40f3a_3250_11eb_ae23_0242ac130202row8_col5\" class=\"data row8 col5\" >2</td>\n",
       "                        <td id=\"T_6fb40f3a_3250_11eb_ae23_0242ac130202row8_col6\" class=\"data row8 col6\" >1</td>\n",
       "                        <td id=\"T_6fb40f3a_3250_11eb_ae23_0242ac130202row8_col7\" class=\"data row8 col7\" >0</td>\n",
       "                        <td id=\"T_6fb40f3a_3250_11eb_ae23_0242ac130202row8_col8\" class=\"data row8 col8\" >46250.000000</td>\n",
       "                        <td id=\"T_6fb40f3a_3250_11eb_ae23_0242ac130202row8_col9\" class=\"data row8 col9\" >0</td>\n",
       "            </tr>\n",
       "            <tr>\n",
       "                        <th id=\"T_6fb40f3a_3250_11eb_ae23_0242ac130202level0_row9\" class=\"row_heading level0 row9\" >22531</th>\n",
       "                        <td id=\"T_6fb40f3a_3250_11eb_ae23_0242ac130202row9_col0\" class=\"data row9 col0\" >22531</td>\n",
       "                        <td id=\"T_6fb40f3a_3250_11eb_ae23_0242ac130202row9_col1\" class=\"data row9 col1\" >439194</td>\n",
       "                        <td id=\"T_6fb40f3a_3250_11eb_ae23_0242ac130202row9_col2\" class=\"data row9 col2\" >368624</td>\n",
       "                        <td id=\"T_6fb40f3a_3250_11eb_ae23_0242ac130202row9_col3\" class=\"data row9 col3\" >6600</td>\n",
       "                        <td id=\"T_6fb40f3a_3250_11eb_ae23_0242ac130202row9_col4\" class=\"data row9 col4\" >0</td>\n",
       "                        <td id=\"T_6fb40f3a_3250_11eb_ae23_0242ac130202row9_col5\" class=\"data row9 col5\" >2</td>\n",
       "                        <td id=\"T_6fb40f3a_3250_11eb_ae23_0242ac130202row9_col6\" class=\"data row9 col6\" >2</td>\n",
       "                        <td id=\"T_6fb40f3a_3250_11eb_ae23_0242ac130202row9_col7\" class=\"data row9 col7\" >1</td>\n",
       "                        <td id=\"T_6fb40f3a_3250_11eb_ae23_0242ac130202row9_col8\" class=\"data row9 col8\" >46250.000000</td>\n",
       "                        <td id=\"T_6fb40f3a_3250_11eb_ae23_0242ac130202row9_col9\" class=\"data row9 col9\" >0</td>\n",
       "            </tr>\n",
       "            <tr>\n",
       "                        <th id=\"T_6fb40f3a_3250_11eb_ae23_0242ac130202level0_row10\" class=\"row_heading level0 row10\" >22532</th>\n",
       "                        <td id=\"T_6fb40f3a_3250_11eb_ae23_0242ac130202row10_col0\" class=\"data row10 col0\" >22532</td>\n",
       "                        <td id=\"T_6fb40f3a_3250_11eb_ae23_0242ac130202row10_col1\" class=\"data row10 col1\" >439194</td>\n",
       "                        <td id=\"T_6fb40f3a_3250_11eb_ae23_0242ac130202row10_col2\" class=\"data row10 col2\" >368624</td>\n",
       "                        <td id=\"T_6fb40f3a_3250_11eb_ae23_0242ac130202row10_col3\" class=\"data row10 col3\" >6598</td>\n",
       "                        <td id=\"T_6fb40f3a_3250_11eb_ae23_0242ac130202row10_col4\" class=\"data row10 col4\" >0</td>\n",
       "                        <td id=\"T_6fb40f3a_3250_11eb_ae23_0242ac130202row10_col5\" class=\"data row10 col5\" >2</td>\n",
       "                        <td id=\"T_6fb40f3a_3250_11eb_ae23_0242ac130202row10_col6\" class=\"data row10 col6\" >1</td>\n",
       "                        <td id=\"T_6fb40f3a_3250_11eb_ae23_0242ac130202row10_col7\" class=\"data row10 col7\" >0</td>\n",
       "                        <td id=\"T_6fb40f3a_3250_11eb_ae23_0242ac130202row10_col8\" class=\"data row10 col8\" >46250.000000</td>\n",
       "                        <td id=\"T_6fb40f3a_3250_11eb_ae23_0242ac130202row10_col9\" class=\"data row10 col9\" >0</td>\n",
       "            </tr>\n",
       "            <tr>\n",
       "                        <th id=\"T_6fb40f3a_3250_11eb_ae23_0242ac130202level0_row11\" class=\"row_heading level0 row11\" >22533</th>\n",
       "                        <td id=\"T_6fb40f3a_3250_11eb_ae23_0242ac130202row11_col0\" class=\"data row11 col0\" >22533</td>\n",
       "                        <td id=\"T_6fb40f3a_3250_11eb_ae23_0242ac130202row11_col1\" class=\"data row11 col1\" >439194</td>\n",
       "                        <td id=\"T_6fb40f3a_3250_11eb_ae23_0242ac130202row11_col2\" class=\"data row11 col2\" >368624</td>\n",
       "                        <td id=\"T_6fb40f3a_3250_11eb_ae23_0242ac130202row11_col3\" class=\"data row11 col3\" >6599</td>\n",
       "                        <td id=\"T_6fb40f3a_3250_11eb_ae23_0242ac130202row11_col4\" class=\"data row11 col4\" >0</td>\n",
       "                        <td id=\"T_6fb40f3a_3250_11eb_ae23_0242ac130202row11_col5\" class=\"data row11 col5\" >2</td>\n",
       "                        <td id=\"T_6fb40f3a_3250_11eb_ae23_0242ac130202row11_col6\" class=\"data row11 col6\" >3</td>\n",
       "                        <td id=\"T_6fb40f3a_3250_11eb_ae23_0242ac130202row11_col7\" class=\"data row11 col7\" >1</td>\n",
       "                        <td id=\"T_6fb40f3a_3250_11eb_ae23_0242ac130202row11_col8\" class=\"data row11 col8\" >46250.000000</td>\n",
       "                        <td id=\"T_6fb40f3a_3250_11eb_ae23_0242ac130202row11_col9\" class=\"data row11 col9\" >0</td>\n",
       "            </tr>\n",
       "    </tbody></table>"
      ],
      "text/plain": [
       "<pandas.io.formats.style.Styler at 0x7f87d7bd4ad0>"
      ]
     },
     "execution_count": 23,
     "metadata": {},
     "output_type": "execute_result"
    }
   ],
   "source": [
    "df_train[df_train['user_id'] == 368624].head(12).style.background_gradient(subset=['task_container_id', 'prior_question_elapsed_time'], cmap='viridis')"
   ]
  },
  {
   "cell_type": "markdown",
   "metadata": {
    "papermill": {
     "duration": 0.059678,
     "end_time": "2020-11-29T14:37:41.916544",
     "exception": false,
     "start_time": "2020-11-29T14:37:41.856866",
     "status": "completed"
    },
    "tags": []
   },
   "source": [
    "`prior_question_elapsed_time` follows a skewed right distribution just like `timestamp`, but without lots of zeros. Top 5 most common values in `prior_question_elapsed_time` are 15000, 16000, 17000, 18000, and 19000 with total 22234917 occurences. All of the values are multipliers of 10, which suggests, data is stored as seconds and converted to milliseconds afterwards. Cardinality is low because of this reason.\n",
    "\n",
    "Statistical measures of this variable are not on a very large scale thus they can be analyzed as seconds. Mean of `prior_question_elapsed_time` is 13 seconds and median is 21.2 seconds. Difference between those two measures can be explained with the long right tail. The max value in `prior_question_elapsed_time` is exactly 5 minutes which is probably the total amount of time given to users for a single question. The min value in `prior_question_elapsed_time` is 0.0 and that is probably users randomly selecting answers. "
   ]
  },
  {
   "cell_type": "code",
   "execution_count": 24,
   "metadata": {
    "_kg_hide-input": true,
    "execution": {
     "iopub.execute_input": "2020-11-29T14:37:42.056127Z",
     "iopub.status.busy": "2020-11-29T14:37:42.049743Z",
     "iopub.status.idle": "2020-11-29T14:37:50.193529Z",
     "shell.execute_reply": "2020-11-29T14:37:50.192747Z"
    },
    "papermill": {
     "duration": 8.214108,
     "end_time": "2020-11-29T14:37:50.193653",
     "exception": false,
     "start_time": "2020-11-29T14:37:41.979545",
     "status": "completed"
    },
    "tags": []
   },
   "outputs": [
    {
     "name": "stdout",
     "output_type": "stream",
     "text": [
      "prior_question_elapsed_time\n",
      "---------------------------\n",
      "Train Mean: 13,005.0810546875 - Median: 21,000.0 - Std: 2.123e+04 - Var 4.506e+08\n",
      "Train Min: 0.0 - Max: 300,000.0 - Skew 4.823 - Kurt 45.15 \n"
     ]
    },
    {
     "data": {
      "image/png": "[encoded data removed]",
      "text/plain": [
       "<Figure size 1296x432 with 1 Axes>"
      ]
     },
     "metadata": {
      "needs_background": "light"
     },
     "output_type": "display_data"
    }
   ],
   "source": [
    "train_mean = df_train['prior_question_elapsed_time'].mean()\n",
    "train_median = df_train['prior_question_elapsed_time'].median()\n",
    "train_std = df_train['prior_question_elapsed_time'].std()\n",
    "train_min = df_train['prior_question_elapsed_time'].min()\n",
    "train_max = df_train['prior_question_elapsed_time'].max()\n",
    "train_skew = skew(df_train['prior_question_elapsed_time'].dropna())\n",
    "train_kurt = kurtosis(df_train['prior_question_elapsed_time'].dropna())\n",
    "train_var = np.var(df_train['prior_question_elapsed_time'])\n",
    "\n",
    "print(f'prior_question_elapsed_time\\n{\"-\" * 27}')\n",
    "print(f'Train Mean: {train_mean:,} - Median: {train_median:,} - Std: {train_std:.4} - Var {train_var:.4}')\n",
    "print(f'Train Min: {train_min:,} - Max: {train_max:,} - Skew {train_skew:.4} - Kurt {train_kurt:.4} ')\n",
    "\n",
    "figure = plt.figure(figsize=(18, 6))\n",
    "\n",
    "plt.hist(df_train['prior_question_elapsed_time'], bins=200)\n",
    "plt.xlabel('prior_question_elapsed_time', size=18, labelpad=15)\n",
    "plt.ylabel('')\n",
    "plt.tick_params(axis='x', labelsize=18, pad=15)\n",
    "plt.tick_params(axis='y', labelsize=18, pad=15)\n",
    "plt.title('prior_question_elapsed_time Histogram in Training Set', size=20, pad=15)\n",
    "\n",
    "plt.show()\n",
    "\n",
    "del train_mean, train_median, train_std, train_min, train_max, train_skew, train_kurt, train_var"
   ]
  },
  {
   "cell_type": "markdown",
   "metadata": {
    "papermill": {
     "duration": 0.059887,
     "end_time": "2020-11-29T14:37:50.313835",
     "exception": false,
     "start_time": "2020-11-29T14:37:50.253948",
     "status": "completed"
    },
    "tags": []
   },
   "source": [
    "### 6.3. Task Container ID\n",
    "\n",
    "`task_container_id` is the unique identifier of the batch of questions or lectures. It starts from 0 and it monotonically increases for every user exactly like `timestamp`. It is added for identifying multiple questions or lectures in different batches. `content_id` of questions in a batch can change but they have same `task_container_id`. This can be seen from the sample below."
   ]
  },
  {
   "cell_type": "code",
   "execution_count": 25,
   "metadata": {
    "_kg_hide-input": true,
    "execution": {
     "iopub.execute_input": "2020-11-29T14:37:50.444264Z",
     "iopub.status.busy": "2020-11-29T14:37:50.443299Z",
     "iopub.status.idle": "2020-11-29T14:38:07.040863Z",
     "shell.execute_reply": "2020-11-29T14:38:07.040064Z"
    },
    "papermill": {
     "duration": 16.666809,
     "end_time": "2020-11-29T14:38:07.041016",
     "exception": false,
     "start_time": "2020-11-29T14:37:50.374207",
     "status": "completed"
    },
    "tags": []
   },
   "outputs": [
    {
     "name": "stdout",
     "output_type": "stream",
     "text": [
      "There are 393,656 users in training set\n",
      "There are 396,417 0 task_container_id in training set\n",
      "390,829 users first task_container_id is 0\n",
      "111 users last task_container_id is 0\n"
     ]
    },
    {
     "data": {
      "text/html": [
       "<style  type=\"text/css\" >\n",
       "#T_7ebfe60c_3250_11eb_ae23_0242ac130202row0_col3,#T_7ebfe60c_3250_11eb_ae23_0242ac130202row8_col5,#T_7ebfe60c_3250_11eb_ae23_0242ac130202row9_col5,#T_7ebfe60c_3250_11eb_ae23_0242ac130202row10_col5,#T_7ebfe60c_3250_11eb_ae23_0242ac130202row11_col5{\n",
       "            background-color:  #fde725;\n",
       "            color:  #000000;\n",
       "        }#T_7ebfe60c_3250_11eb_ae23_0242ac130202row0_col5,#T_7ebfe60c_3250_11eb_ae23_0242ac130202row1_col5,#T_7ebfe60c_3250_11eb_ae23_0242ac130202row2_col5,#T_7ebfe60c_3250_11eb_ae23_0242ac130202row3_col5,#T_7ebfe60c_3250_11eb_ae23_0242ac130202row8_col3{\n",
       "            background-color:  #440154;\n",
       "            color:  #f1f1f1;\n",
       "        }#T_7ebfe60c_3250_11eb_ae23_0242ac130202row1_col3{\n",
       "            background-color:  #f8e621;\n",
       "            color:  #000000;\n",
       "        }#T_7ebfe60c_3250_11eb_ae23_0242ac130202row2_col3{\n",
       "            background-color:  #f6e620;\n",
       "            color:  #000000;\n",
       "        }#T_7ebfe60c_3250_11eb_ae23_0242ac130202row3_col3{\n",
       "            background-color:  #fbe723;\n",
       "            color:  #000000;\n",
       "        }#T_7ebfe60c_3250_11eb_ae23_0242ac130202row4_col3{\n",
       "            background-color:  #48186a;\n",
       "            color:  #f1f1f1;\n",
       "        }#T_7ebfe60c_3250_11eb_ae23_0242ac130202row4_col5,#T_7ebfe60c_3250_11eb_ae23_0242ac130202row5_col5,#T_7ebfe60c_3250_11eb_ae23_0242ac130202row6_col5,#T_7ebfe60c_3250_11eb_ae23_0242ac130202row7_col5{\n",
       "            background-color:  #21918c;\n",
       "            color:  #000000;\n",
       "        }#T_7ebfe60c_3250_11eb_ae23_0242ac130202row5_col3{\n",
       "            background-color:  #481a6c;\n",
       "            color:  #f1f1f1;\n",
       "        }#T_7ebfe60c_3250_11eb_ae23_0242ac130202row6_col3{\n",
       "            background-color:  #481467;\n",
       "            color:  #f1f1f1;\n",
       "        }#T_7ebfe60c_3250_11eb_ae23_0242ac130202row7_col3{\n",
       "            background-color:  #481668;\n",
       "            color:  #f1f1f1;\n",
       "        }#T_7ebfe60c_3250_11eb_ae23_0242ac130202row9_col3{\n",
       "            background-color:  #450559;\n",
       "            color:  #f1f1f1;\n",
       "        }#T_7ebfe60c_3250_11eb_ae23_0242ac130202row10_col3{\n",
       "            background-color:  #440256;\n",
       "            color:  #f1f1f1;\n",
       "        }#T_7ebfe60c_3250_11eb_ae23_0242ac130202row11_col3{\n",
       "            background-color:  #450457;\n",
       "            color:  #f1f1f1;\n",
       "        }</style><table id=\"T_7ebfe60c_3250_11eb_ae23_0242ac130202\" ><thead>    <tr>        <th class=\"blank level0\" ></th>        <th class=\"col_heading level0 col0\" >row_id</th>        <th class=\"col_heading level0 col1\" >timestamp</th>        <th class=\"col_heading level0 col2\" >user_id</th>        <th class=\"col_heading level0 col3\" >content_id</th>        <th class=\"col_heading level0 col4\" >content_type_id</th>        <th class=\"col_heading level0 col5\" >task_container_id</th>        <th class=\"col_heading level0 col6\" >user_answer</th>        <th class=\"col_heading level0 col7\" >answered_correctly</th>        <th class=\"col_heading level0 col8\" >prior_question_elapsed_time</th>        <th class=\"col_heading level0 col9\" >prior_question_had_explanation</th>    </tr></thead><tbody>\n",
       "                <tr>\n",
       "                        <th id=\"T_7ebfe60c_3250_11eb_ae23_0242ac130202level0_row0\" class=\"row_heading level0 row0\" >22522</th>\n",
       "                        <td id=\"T_7ebfe60c_3250_11eb_ae23_0242ac130202row0_col0\" class=\"data row0 col0\" >22522</td>\n",
       "                        <td id=\"T_7ebfe60c_3250_11eb_ae23_0242ac130202row0_col1\" class=\"data row0 col1\" >0</td>\n",
       "                        <td id=\"T_7ebfe60c_3250_11eb_ae23_0242ac130202row0_col2\" class=\"data row0 col2\" >368624</td>\n",
       "                        <td id=\"T_7ebfe60c_3250_11eb_ae23_0242ac130202row0_col3\" class=\"data row0 col3\" >6820</td>\n",
       "                        <td id=\"T_7ebfe60c_3250_11eb_ae23_0242ac130202row0_col4\" class=\"data row0 col4\" >0</td>\n",
       "                        <td id=\"T_7ebfe60c_3250_11eb_ae23_0242ac130202row0_col5\" class=\"data row0 col5\" >0</td>\n",
       "                        <td id=\"T_7ebfe60c_3250_11eb_ae23_0242ac130202row0_col6\" class=\"data row0 col6\" >2</td>\n",
       "                        <td id=\"T_7ebfe60c_3250_11eb_ae23_0242ac130202row0_col7\" class=\"data row0 col7\" >0</td>\n",
       "                        <td id=\"T_7ebfe60c_3250_11eb_ae23_0242ac130202row0_col8\" class=\"data row0 col8\" >47250.000000</td>\n",
       "                        <td id=\"T_7ebfe60c_3250_11eb_ae23_0242ac130202row0_col9\" class=\"data row0 col9\" >0</td>\n",
       "            </tr>\n",
       "            <tr>\n",
       "                        <th id=\"T_7ebfe60c_3250_11eb_ae23_0242ac130202level0_row1\" class=\"row_heading level0 row1\" >22523</th>\n",
       "                        <td id=\"T_7ebfe60c_3250_11eb_ae23_0242ac130202row1_col0\" class=\"data row1 col0\" >22523</td>\n",
       "                        <td id=\"T_7ebfe60c_3250_11eb_ae23_0242ac130202row1_col1\" class=\"data row1 col1\" >0</td>\n",
       "                        <td id=\"T_7ebfe60c_3250_11eb_ae23_0242ac130202row1_col2\" class=\"data row1 col2\" >368624</td>\n",
       "                        <td id=\"T_7ebfe60c_3250_11eb_ae23_0242ac130202row1_col3\" class=\"data row1 col3\" >6818</td>\n",
       "                        <td id=\"T_7ebfe60c_3250_11eb_ae23_0242ac130202row1_col4\" class=\"data row1 col4\" >0</td>\n",
       "                        <td id=\"T_7ebfe60c_3250_11eb_ae23_0242ac130202row1_col5\" class=\"data row1 col5\" >0</td>\n",
       "                        <td id=\"T_7ebfe60c_3250_11eb_ae23_0242ac130202row1_col6\" class=\"data row1 col6\" >3</td>\n",
       "                        <td id=\"T_7ebfe60c_3250_11eb_ae23_0242ac130202row1_col7\" class=\"data row1 col7\" >0</td>\n",
       "                        <td id=\"T_7ebfe60c_3250_11eb_ae23_0242ac130202row1_col8\" class=\"data row1 col8\" >47250.000000</td>\n",
       "                        <td id=\"T_7ebfe60c_3250_11eb_ae23_0242ac130202row1_col9\" class=\"data row1 col9\" >0</td>\n",
       "            </tr>\n",
       "            <tr>\n",
       "                        <th id=\"T_7ebfe60c_3250_11eb_ae23_0242ac130202level0_row2\" class=\"row_heading level0 row2\" >22524</th>\n",
       "                        <td id=\"T_7ebfe60c_3250_11eb_ae23_0242ac130202row2_col0\" class=\"data row2 col0\" >22524</td>\n",
       "                        <td id=\"T_7ebfe60c_3250_11eb_ae23_0242ac130202row2_col1\" class=\"data row2 col1\" >0</td>\n",
       "                        <td id=\"T_7ebfe60c_3250_11eb_ae23_0242ac130202row2_col2\" class=\"data row2 col2\" >368624</td>\n",
       "                        <td id=\"T_7ebfe60c_3250_11eb_ae23_0242ac130202row2_col3\" class=\"data row2 col3\" >6817</td>\n",
       "                        <td id=\"T_7ebfe60c_3250_11eb_ae23_0242ac130202row2_col4\" class=\"data row2 col4\" >0</td>\n",
       "                        <td id=\"T_7ebfe60c_3250_11eb_ae23_0242ac130202row2_col5\" class=\"data row2 col5\" >0</td>\n",
       "                        <td id=\"T_7ebfe60c_3250_11eb_ae23_0242ac130202row2_col6\" class=\"data row2 col6\" >1</td>\n",
       "                        <td id=\"T_7ebfe60c_3250_11eb_ae23_0242ac130202row2_col7\" class=\"data row2 col7\" >1</td>\n",
       "                        <td id=\"T_7ebfe60c_3250_11eb_ae23_0242ac130202row2_col8\" class=\"data row2 col8\" >47250.000000</td>\n",
       "                        <td id=\"T_7ebfe60c_3250_11eb_ae23_0242ac130202row2_col9\" class=\"data row2 col9\" >0</td>\n",
       "            </tr>\n",
       "            <tr>\n",
       "                        <th id=\"T_7ebfe60c_3250_11eb_ae23_0242ac130202level0_row3\" class=\"row_heading level0 row3\" >22525</th>\n",
       "                        <td id=\"T_7ebfe60c_3250_11eb_ae23_0242ac130202row3_col0\" class=\"data row3 col0\" >22525</td>\n",
       "                        <td id=\"T_7ebfe60c_3250_11eb_ae23_0242ac130202row3_col1\" class=\"data row3 col1\" >0</td>\n",
       "                        <td id=\"T_7ebfe60c_3250_11eb_ae23_0242ac130202row3_col2\" class=\"data row3 col2\" >368624</td>\n",
       "                        <td id=\"T_7ebfe60c_3250_11eb_ae23_0242ac130202row3_col3\" class=\"data row3 col3\" >6819</td>\n",
       "                        <td id=\"T_7ebfe60c_3250_11eb_ae23_0242ac130202row3_col4\" class=\"data row3 col4\" >0</td>\n",
       "                        <td id=\"T_7ebfe60c_3250_11eb_ae23_0242ac130202row3_col5\" class=\"data row3 col5\" >0</td>\n",
       "                        <td id=\"T_7ebfe60c_3250_11eb_ae23_0242ac130202row3_col6\" class=\"data row3 col6\" >2</td>\n",
       "                        <td id=\"T_7ebfe60c_3250_11eb_ae23_0242ac130202row3_col7\" class=\"data row3 col7\" >1</td>\n",
       "                        <td id=\"T_7ebfe60c_3250_11eb_ae23_0242ac130202row3_col8\" class=\"data row3 col8\" >47250.000000</td>\n",
       "                        <td id=\"T_7ebfe60c_3250_11eb_ae23_0242ac130202row3_col9\" class=\"data row3 col9\" >0</td>\n",
       "            </tr>\n",
       "            <tr>\n",
       "                        <th id=\"T_7ebfe60c_3250_11eb_ae23_0242ac130202level0_row4\" class=\"row_heading level0 row4\" >22526</th>\n",
       "                        <td id=\"T_7ebfe60c_3250_11eb_ae23_0242ac130202row4_col0\" class=\"data row4 col0\" >22526</td>\n",
       "                        <td id=\"T_7ebfe60c_3250_11eb_ae23_0242ac130202row4_col1\" class=\"data row4 col1\" >191445</td>\n",
       "                        <td id=\"T_7ebfe60c_3250_11eb_ae23_0242ac130202row4_col2\" class=\"data row4 col2\" >368624</td>\n",
       "                        <td id=\"T_7ebfe60c_3250_11eb_ae23_0242ac130202row4_col3\" class=\"data row4 col3\" >6611</td>\n",
       "                        <td id=\"T_7ebfe60c_3250_11eb_ae23_0242ac130202row4_col4\" class=\"data row4 col4\" >0</td>\n",
       "                        <td id=\"T_7ebfe60c_3250_11eb_ae23_0242ac130202row4_col5\" class=\"data row4 col5\" >1</td>\n",
       "                        <td id=\"T_7ebfe60c_3250_11eb_ae23_0242ac130202row4_col6\" class=\"data row4 col6\" >2</td>\n",
       "                        <td id=\"T_7ebfe60c_3250_11eb_ae23_0242ac130202row4_col7\" class=\"data row4 col7\" >0</td>\n",
       "                        <td id=\"T_7ebfe60c_3250_11eb_ae23_0242ac130202row4_col8\" class=\"data row4 col8\" >47250.000000</td>\n",
       "                        <td id=\"T_7ebfe60c_3250_11eb_ae23_0242ac130202row4_col9\" class=\"data row4 col9\" >0</td>\n",
       "            </tr>\n",
       "            <tr>\n",
       "                        <th id=\"T_7ebfe60c_3250_11eb_ae23_0242ac130202level0_row5\" class=\"row_heading level0 row5\" >22527</th>\n",
       "                        <td id=\"T_7ebfe60c_3250_11eb_ae23_0242ac130202row5_col0\" class=\"data row5 col0\" >22527</td>\n",
       "                        <td id=\"T_7ebfe60c_3250_11eb_ae23_0242ac130202row5_col1\" class=\"data row5 col1\" >191445</td>\n",
       "                        <td id=\"T_7ebfe60c_3250_11eb_ae23_0242ac130202row5_col2\" class=\"data row5 col2\" >368624</td>\n",
       "                        <td id=\"T_7ebfe60c_3250_11eb_ae23_0242ac130202row5_col3\" class=\"data row5 col3\" >6612</td>\n",
       "                        <td id=\"T_7ebfe60c_3250_11eb_ae23_0242ac130202row5_col4\" class=\"data row5 col4\" >0</td>\n",
       "                        <td id=\"T_7ebfe60c_3250_11eb_ae23_0242ac130202row5_col5\" class=\"data row5 col5\" >1</td>\n",
       "                        <td id=\"T_7ebfe60c_3250_11eb_ae23_0242ac130202row5_col6\" class=\"data row5 col6\" >0</td>\n",
       "                        <td id=\"T_7ebfe60c_3250_11eb_ae23_0242ac130202row5_col7\" class=\"data row5 col7\" >1</td>\n",
       "                        <td id=\"T_7ebfe60c_3250_11eb_ae23_0242ac130202row5_col8\" class=\"data row5 col8\" >47250.000000</td>\n",
       "                        <td id=\"T_7ebfe60c_3250_11eb_ae23_0242ac130202row5_col9\" class=\"data row5 col9\" >0</td>\n",
       "            </tr>\n",
       "            <tr>\n",
       "                        <th id=\"T_7ebfe60c_3250_11eb_ae23_0242ac130202level0_row6\" class=\"row_heading level0 row6\" >22528</th>\n",
       "                        <td id=\"T_7ebfe60c_3250_11eb_ae23_0242ac130202row6_col0\" class=\"data row6 col0\" >22528</td>\n",
       "                        <td id=\"T_7ebfe60c_3250_11eb_ae23_0242ac130202row6_col1\" class=\"data row6 col1\" >191445</td>\n",
       "                        <td id=\"T_7ebfe60c_3250_11eb_ae23_0242ac130202row6_col2\" class=\"data row6 col2\" >368624</td>\n",
       "                        <td id=\"T_7ebfe60c_3250_11eb_ae23_0242ac130202row6_col3\" class=\"data row6 col3\" >6609</td>\n",
       "                        <td id=\"T_7ebfe60c_3250_11eb_ae23_0242ac130202row6_col4\" class=\"data row6 col4\" >0</td>\n",
       "                        <td id=\"T_7ebfe60c_3250_11eb_ae23_0242ac130202row6_col5\" class=\"data row6 col5\" >1</td>\n",
       "                        <td id=\"T_7ebfe60c_3250_11eb_ae23_0242ac130202row6_col6\" class=\"data row6 col6\" >2</td>\n",
       "                        <td id=\"T_7ebfe60c_3250_11eb_ae23_0242ac130202row6_col7\" class=\"data row6 col7\" >1</td>\n",
       "                        <td id=\"T_7ebfe60c_3250_11eb_ae23_0242ac130202row6_col8\" class=\"data row6 col8\" >47250.000000</td>\n",
       "                        <td id=\"T_7ebfe60c_3250_11eb_ae23_0242ac130202row6_col9\" class=\"data row6 col9\" >0</td>\n",
       "            </tr>\n",
       "            <tr>\n",
       "                        <th id=\"T_7ebfe60c_3250_11eb_ae23_0242ac130202level0_row7\" class=\"row_heading level0 row7\" >22529</th>\n",
       "                        <td id=\"T_7ebfe60c_3250_11eb_ae23_0242ac130202row7_col0\" class=\"data row7 col0\" >22529</td>\n",
       "                        <td id=\"T_7ebfe60c_3250_11eb_ae23_0242ac130202row7_col1\" class=\"data row7 col1\" >191445</td>\n",
       "                        <td id=\"T_7ebfe60c_3250_11eb_ae23_0242ac130202row7_col2\" class=\"data row7 col2\" >368624</td>\n",
       "                        <td id=\"T_7ebfe60c_3250_11eb_ae23_0242ac130202row7_col3\" class=\"data row7 col3\" >6610</td>\n",
       "                        <td id=\"T_7ebfe60c_3250_11eb_ae23_0242ac130202row7_col4\" class=\"data row7 col4\" >0</td>\n",
       "                        <td id=\"T_7ebfe60c_3250_11eb_ae23_0242ac130202row7_col5\" class=\"data row7 col5\" >1</td>\n",
       "                        <td id=\"T_7ebfe60c_3250_11eb_ae23_0242ac130202row7_col6\" class=\"data row7 col6\" >1</td>\n",
       "                        <td id=\"T_7ebfe60c_3250_11eb_ae23_0242ac130202row7_col7\" class=\"data row7 col7\" >1</td>\n",
       "                        <td id=\"T_7ebfe60c_3250_11eb_ae23_0242ac130202row7_col8\" class=\"data row7 col8\" >47250.000000</td>\n",
       "                        <td id=\"T_7ebfe60c_3250_11eb_ae23_0242ac130202row7_col9\" class=\"data row7 col9\" >0</td>\n",
       "            </tr>\n",
       "            <tr>\n",
       "                        <th id=\"T_7ebfe60c_3250_11eb_ae23_0242ac130202level0_row8\" class=\"row_heading level0 row8\" >22530</th>\n",
       "                        <td id=\"T_7ebfe60c_3250_11eb_ae23_0242ac130202row8_col0\" class=\"data row8 col0\" >22530</td>\n",
       "                        <td id=\"T_7ebfe60c_3250_11eb_ae23_0242ac130202row8_col1\" class=\"data row8 col1\" >439194</td>\n",
       "                        <td id=\"T_7ebfe60c_3250_11eb_ae23_0242ac130202row8_col2\" class=\"data row8 col2\" >368624</td>\n",
       "                        <td id=\"T_7ebfe60c_3250_11eb_ae23_0242ac130202row8_col3\" class=\"data row8 col3\" >6597</td>\n",
       "                        <td id=\"T_7ebfe60c_3250_11eb_ae23_0242ac130202row8_col4\" class=\"data row8 col4\" >0</td>\n",
       "                        <td id=\"T_7ebfe60c_3250_11eb_ae23_0242ac130202row8_col5\" class=\"data row8 col5\" >2</td>\n",
       "                        <td id=\"T_7ebfe60c_3250_11eb_ae23_0242ac130202row8_col6\" class=\"data row8 col6\" >1</td>\n",
       "                        <td id=\"T_7ebfe60c_3250_11eb_ae23_0242ac130202row8_col7\" class=\"data row8 col7\" >0</td>\n",
       "                        <td id=\"T_7ebfe60c_3250_11eb_ae23_0242ac130202row8_col8\" class=\"data row8 col8\" >46250.000000</td>\n",
       "                        <td id=\"T_7ebfe60c_3250_11eb_ae23_0242ac130202row8_col9\" class=\"data row8 col9\" >0</td>\n",
       "            </tr>\n",
       "            <tr>\n",
       "                        <th id=\"T_7ebfe60c_3250_11eb_ae23_0242ac130202level0_row9\" class=\"row_heading level0 row9\" >22531</th>\n",
       "                        <td id=\"T_7ebfe60c_3250_11eb_ae23_0242ac130202row9_col0\" class=\"data row9 col0\" >22531</td>\n",
       "                        <td id=\"T_7ebfe60c_3250_11eb_ae23_0242ac130202row9_col1\" class=\"data row9 col1\" >439194</td>\n",
       "                        <td id=\"T_7ebfe60c_3250_11eb_ae23_0242ac130202row9_col2\" class=\"data row9 col2\" >368624</td>\n",
       "                        <td id=\"T_7ebfe60c_3250_11eb_ae23_0242ac130202row9_col3\" class=\"data row9 col3\" >6600</td>\n",
       "                        <td id=\"T_7ebfe60c_3250_11eb_ae23_0242ac130202row9_col4\" class=\"data row9 col4\" >0</td>\n",
       "                        <td id=\"T_7ebfe60c_3250_11eb_ae23_0242ac130202row9_col5\" class=\"data row9 col5\" >2</td>\n",
       "                        <td id=\"T_7ebfe60c_3250_11eb_ae23_0242ac130202row9_col6\" class=\"data row9 col6\" >2</td>\n",
       "                        <td id=\"T_7ebfe60c_3250_11eb_ae23_0242ac130202row9_col7\" class=\"data row9 col7\" >1</td>\n",
       "                        <td id=\"T_7ebfe60c_3250_11eb_ae23_0242ac130202row9_col8\" class=\"data row9 col8\" >46250.000000</td>\n",
       "                        <td id=\"T_7ebfe60c_3250_11eb_ae23_0242ac130202row9_col9\" class=\"data row9 col9\" >0</td>\n",
       "            </tr>\n",
       "            <tr>\n",
       "                        <th id=\"T_7ebfe60c_3250_11eb_ae23_0242ac130202level0_row10\" class=\"row_heading level0 row10\" >22532</th>\n",
       "                        <td id=\"T_7ebfe60c_3250_11eb_ae23_0242ac130202row10_col0\" class=\"data row10 col0\" >22532</td>\n",
       "                        <td id=\"T_7ebfe60c_3250_11eb_ae23_0242ac130202row10_col1\" class=\"data row10 col1\" >439194</td>\n",
       "                        <td id=\"T_7ebfe60c_3250_11eb_ae23_0242ac130202row10_col2\" class=\"data row10 col2\" >368624</td>\n",
       "                        <td id=\"T_7ebfe60c_3250_11eb_ae23_0242ac130202row10_col3\" class=\"data row10 col3\" >6598</td>\n",
       "                        <td id=\"T_7ebfe60c_3250_11eb_ae23_0242ac130202row10_col4\" class=\"data row10 col4\" >0</td>\n",
       "                        <td id=\"T_7ebfe60c_3250_11eb_ae23_0242ac130202row10_col5\" class=\"data row10 col5\" >2</td>\n",
       "                        <td id=\"T_7ebfe60c_3250_11eb_ae23_0242ac130202row10_col6\" class=\"data row10 col6\" >1</td>\n",
       "                        <td id=\"T_7ebfe60c_3250_11eb_ae23_0242ac130202row10_col7\" class=\"data row10 col7\" >0</td>\n",
       "                        <td id=\"T_7ebfe60c_3250_11eb_ae23_0242ac130202row10_col8\" class=\"data row10 col8\" >46250.000000</td>\n",
       "                        <td id=\"T_7ebfe60c_3250_11eb_ae23_0242ac130202row10_col9\" class=\"data row10 col9\" >0</td>\n",
       "            </tr>\n",
       "            <tr>\n",
       "                        <th id=\"T_7ebfe60c_3250_11eb_ae23_0242ac130202level0_row11\" class=\"row_heading level0 row11\" >22533</th>\n",
       "                        <td id=\"T_7ebfe60c_3250_11eb_ae23_0242ac130202row11_col0\" class=\"data row11 col0\" >22533</td>\n",
       "                        <td id=\"T_7ebfe60c_3250_11eb_ae23_0242ac130202row11_col1\" class=\"data row11 col1\" >439194</td>\n",
       "                        <td id=\"T_7ebfe60c_3250_11eb_ae23_0242ac130202row11_col2\" class=\"data row11 col2\" >368624</td>\n",
       "                        <td id=\"T_7ebfe60c_3250_11eb_ae23_0242ac130202row11_col3\" class=\"data row11 col3\" >6599</td>\n",
       "                        <td id=\"T_7ebfe60c_3250_11eb_ae23_0242ac130202row11_col4\" class=\"data row11 col4\" >0</td>\n",
       "                        <td id=\"T_7ebfe60c_3250_11eb_ae23_0242ac130202row11_col5\" class=\"data row11 col5\" >2</td>\n",
       "                        <td id=\"T_7ebfe60c_3250_11eb_ae23_0242ac130202row11_col6\" class=\"data row11 col6\" >3</td>\n",
       "                        <td id=\"T_7ebfe60c_3250_11eb_ae23_0242ac130202row11_col7\" class=\"data row11 col7\" >1</td>\n",
       "                        <td id=\"T_7ebfe60c_3250_11eb_ae23_0242ac130202row11_col8\" class=\"data row11 col8\" >46250.000000</td>\n",
       "                        <td id=\"T_7ebfe60c_3250_11eb_ae23_0242ac130202row11_col9\" class=\"data row11 col9\" >0</td>\n",
       "            </tr>\n",
       "    </tbody></table>"
      ],
      "text/plain": [
       "<pandas.io.formats.style.Styler at 0x7f87d7c43c90>"
      ]
     },
     "execution_count": 25,
     "metadata": {},
     "output_type": "execute_result"
    }
   ],
   "source": [
    "first_task_container_ids = df_train.groupby('user_id')['task_container_id'].first()\n",
    "last_task_container_ids = df_train.groupby('user_id')['task_container_id'].nth(-1)\n",
    "\n",
    "print(f'There are {df_train[\"user_id\"].nunique():,} users in training set')\n",
    "print(f'There are {df_train[df_train[\"timestamp\"] == 0].shape[0]:,} 0 task_container_id in training set')\n",
    "print(f'{first_task_container_ids[first_task_container_ids == 0].shape[0]:,} users first task_container_id is 0')\n",
    "print(f'{last_task_container_ids[last_task_container_ids == 0].shape[0]:,} users last task_container_id is 0')\n",
    "\n",
    "del first_task_container_ids, last_task_container_ids\n",
    "\n",
    "df_train[df_train['user_id'] == 368624].head(12).style.background_gradient(subset=['task_container_id', 'content_id'], cmap='viridis')"
   ]
  },
  {
   "cell_type": "markdown",
   "metadata": {
    "papermill": {
     "duration": 0.062422,
     "end_time": "2020-11-29T14:38:07.166783",
     "exception": false,
     "start_time": "2020-11-29T14:38:07.104361",
     "status": "completed"
    },
    "tags": []
   },
   "source": [
    "`task_container_id` has a skewed right distribution which is very similar to `timestamp` because both of those features start from 0 and monotonically increase for every user. Histograms of those two features are almost identical since both of them increase at the same timesteps.\n",
    "\n",
    "The max value in `task_container_id` is 9999 and the min value in `task_container_id` is 0. Those 10,000 task containers could be size of the entire program in chronological order or they could be arbitrary numbers."
   ]
  },
  {
   "cell_type": "code",
   "execution_count": 26,
   "metadata": {
    "_kg_hide-input": true,
    "execution": {
     "iopub.execute_input": "2020-11-29T14:38:07.307650Z",
     "iopub.status.busy": "2020-11-29T14:38:07.306723Z",
     "iopub.status.idle": "2020-11-29T14:38:15.758708Z",
     "shell.execute_reply": "2020-11-29T14:38:15.757751Z"
    },
    "papermill": {
     "duration": 8.52957,
     "end_time": "2020-11-29T14:38:15.758930",
     "exception": false,
     "start_time": "2020-11-29T14:38:07.229360",
     "status": "completed"
    },
    "tags": []
   },
   "outputs": [
    {
     "name": "stdout",
     "output_type": "stream",
     "text": [
      "task_container_id\n",
      "---------------------------\n",
      "Train Mean: 904.062365596114 - Median: 382.0 - Std: 1.358e+03 - Var 1.845e+06\n",
      "Train Min: 0 - Max: 9,999 - Skew 2.878 - Kurt 10.15 \n"
     ]
    },
    {
     "data": {
      "image/png": "[encoded data removed]",
      "text/plain": [
       "<Figure size 1296x432 with 1 Axes>"
      ]
     },
     "metadata": {
      "needs_background": "light"
     },
     "output_type": "display_data"
    }
   ],
   "source": [
    "train_mean = df_train['task_container_id'].mean()\n",
    "train_median = df_train['task_container_id'].median()\n",
    "train_std = df_train['task_container_id'].std()\n",
    "train_min = df_train['task_container_id'].min()\n",
    "train_max = df_train['task_container_id'].max()\n",
    "train_skew = skew(df_train['task_container_id'].dropna())\n",
    "train_kurt = kurtosis(df_train['task_container_id'].dropna())\n",
    "train_var = np.var(df_train['task_container_id'])\n",
    "\n",
    "print(f'task_container_id\\n{\"-\" * 27}')\n",
    "print(f'Train Mean: {train_mean:,} - Median: {train_median:,} - Std: {train_std:.4} - Var {train_var:.4}')\n",
    "print(f'Train Min: {train_min:,} - Max: {train_max:,} - Skew {train_skew:.4} - Kurt {train_kurt:.4} ')\n",
    "\n",
    "figure = plt.figure(figsize=(18, 6))\n",
    "\n",
    "plt.hist(df_train['task_container_id'], bins=200)\n",
    "plt.xlabel('task_container_id', size=18, labelpad=15)\n",
    "plt.ylabel('')\n",
    "plt.tick_params(axis='x', labelsize=18, pad=15)\n",
    "plt.tick_params(axis='y', labelsize=18, pad=15)\n",
    "plt.title('task_container_id Histogram in Training Set', size=20, pad=15)\n",
    "\n",
    "plt.show()\n",
    "\n",
    "del train_mean, train_median, train_std, train_min, train_max, train_skew, train_kurt, train_var"
   ]
  }
 ],
 "metadata": {
  "kernelspec": {
   "display_name": "Python 3",
   "language": "python",
   "name": "python3"
  },
  "language_info": {
   "codemirror_mode": {
    "name": "ipython",
    "version": 3
   },
   "file_extension": ".py",
   "mimetype": "text/x-python",
   "name": "python",
   "nbconvert_exporter": "python",
   "pygments_lexer": "ipython3",
   "version": "3.7.6"
  },
  "papermill": {
   "duration": 219.515827,
   "end_time": "2020-11-29T14:38:15.958136",
   "environment_variables": {},
   "exception": null,
   "input_path": "__notebook__.ipynb",
   "output_path": "__notebook__.ipynb",
   "parameters": {},
   "start_time": "2020-11-29T14:34:36.442309",
   "version": "2.1.0"
  }
 },
 "nbformat": 4,
 "nbformat_minor": 4
}
