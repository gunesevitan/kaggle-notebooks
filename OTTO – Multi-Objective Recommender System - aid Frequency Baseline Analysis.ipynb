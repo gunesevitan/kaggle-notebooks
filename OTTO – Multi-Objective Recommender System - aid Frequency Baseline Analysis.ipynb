{
 "cells": [
  {
   "cell_type": "markdown",
   "id": "a5239543",
   "metadata": {
    "papermill": {
     "duration": 0.004039,
     "end_time": "2022-11-08T12:41:24.007028",
     "exception": false,
     "start_time": "2022-11-08T12:41:24.002989",
     "status": "completed"
    },
    "tags": []
   },
   "source": [
    "## 1. Setup"
   ]
  },
  {
   "cell_type": "code",
   "execution_count": 1,
   "id": "7b9e9ea6",
   "metadata": {
    "_cell_guid": "b1076dfc-b9ad-4769-8c92-a6c4dae69d19",
    "_uuid": "8f2839f25d086af736a60e9eeb907d3b93b6e0e5",
    "execution": {
     "iopub.execute_input": "2022-11-08T12:41:24.015371Z",
     "iopub.status.busy": "2022-11-08T12:41:24.014914Z",
     "iopub.status.idle": "2022-11-08T12:41:24.025257Z",
     "shell.execute_reply": "2022-11-08T12:41:24.024304Z"
    },
    "papermill": {
     "duration": 0.0175,
     "end_time": "2022-11-08T12:41:24.027750",
     "exception": false,
     "start_time": "2022-11-08T12:41:24.010250",
     "status": "completed"
    },
    "tags": []
   },
   "outputs": [],
   "source": [
    "import pathlib\n",
    "from tqdm import tqdm\n",
    "import pandas as pd"
   ]
  },
  {
   "cell_type": "code",
   "execution_count": 2,
   "id": "3ac7e32d",
   "metadata": {
    "execution": {
     "iopub.execute_input": "2022-11-08T12:41:24.034796Z",
     "iopub.status.busy": "2022-11-08T12:41:24.034468Z",
     "iopub.status.idle": "2022-11-08T12:41:58.022309Z",
     "shell.execute_reply": "2022-11-08T12:41:58.021103Z"
    },
    "papermill": {
     "duration": 33.998046,
     "end_time": "2022-11-08T12:41:58.028771",
     "exception": false,
     "start_time": "2022-11-08T12:41:24.030725",
     "status": "completed"
    },
    "tags": []
   },
   "outputs": [
    {
     "name": "stdout",
     "output_type": "stream",
     "text": [
      "Training Shape: (216716096, 4) - Memory Usage: 3513.50 MB\n",
      "Test Shape: (6928123, 4) - Memory Usage: 112.32 MB\n"
     ]
    }
   ],
   "source": [
    "competition_dataset_directory = pathlib.Path('../input/otto-recommender-system')\n",
    "pickled_dataset_directory = pathlib.Path('../input/otto-multi-objective-recommender-system-pickle')\n",
    "\n",
    "df_train = pd.read_pickle(pickled_dataset_directory / 'train.pkl')\n",
    "df_test = pd.read_pickle(pickled_dataset_directory / 'test.pkl')\n",
    "\n",
    "print(f'Training Shape: {df_train.shape} - Memory Usage: {df_train.memory_usage().sum() / 1024 ** 2:.2f} MB')\n",
    "print(f'Test Shape: {df_test.shape} - Memory Usage: {df_test.memory_usage().sum() / 1024 ** 2:.2f} MB')"
   ]
  },
  {
   "cell_type": "markdown",
   "id": "35991cf4",
   "metadata": {
    "papermill": {
     "duration": 0.002617,
     "end_time": "2022-11-08T12:41:58.035048",
     "exception": false,
     "start_time": "2022-11-08T12:41:58.032431",
     "status": "completed"
    },
    "tags": []
   },
   "source": [
    "## 2. Dataset Statistics\n",
    "\n",
    "Top 20 most frequent aids are extracted from training, test and training + test sets for every event at once and separately. Extracted aids will be used for filling predictions with less than 20 unique aids. "
   ]
  },
  {
   "cell_type": "code",
   "execution_count": 3,
   "id": "3824c382",
   "metadata": {
    "execution": {
     "iopub.execute_input": "2022-11-08T12:41:58.042951Z",
     "iopub.status.busy": "2022-11-08T12:41:58.042093Z",
     "iopub.status.idle": "2022-11-08T12:42:51.393012Z",
     "shell.execute_reply": "2022-11-08T12:42:51.391964Z"
    },
    "papermill": {
     "duration": 53.35793,
     "end_time": "2022-11-08T12:42:51.395843",
     "exception": false,
     "start_time": "2022-11-08T12:41:58.037913",
     "status": "completed"
    },
    "tags": []
   },
   "outputs": [],
   "source": [
    "df_train_aid_counts = df_train.groupby('aid')[['aid']].count()\n",
    "df_test_aid_counts = df_test.groupby('aid')[['aid']].count()\n",
    "\n",
    "df_train_aid_counts = df_train_aid_counts.rename(columns={'aid': 'count'}).reset_index()\n",
    "df_test_aid_counts = df_test_aid_counts.rename(columns={'aid': 'count'}).reset_index()\n",
    "df_all_aid_counts = pd.concat((df_train_aid_counts, df_test_aid_counts), axis=0, ignore_index=True).reset_index(drop=True)\n",
    "df_all_aid_counts = df_all_aid_counts.groupby('aid')['count'].sum().reset_index()\n",
    "\n",
    "df_train_aid_counts.sort_values(by='count', ascending=False, inplace=True)\n",
    "df_test_aid_counts.sort_values(by='count', ascending=False, inplace=True)\n",
    "df_all_aid_counts.sort_values(by='count', ascending=False, inplace=True)\n",
    "\n",
    "train_20_most_frequent_aids = df_train_aid_counts.set_index('aid').head(20).to_dict()['count']\n",
    "test_20_most_frequent_aids = df_test_aid_counts.set_index('aid').head(20).to_dict()['count']\n",
    "all_20_most_frequent_aids = df_all_aid_counts.set_index('aid').head(20).to_dict()['count']\n",
    "del df_train_aid_counts, df_test_aid_counts, df_all_aid_counts\n",
    "\n",
    "df_train_aids_by_types = df_train.groupby(['type', 'aid'])[['aid']].count()\n",
    "df_test_aids_by_types = df_test.groupby(['type', 'aid'])[['aid']].count()\n",
    "df_train_click_aid_counts = df_train_aids_by_types.loc[0].rename(columns={'aid': 'count'}).reset_index()\n",
    "df_train_cart_aid_counts = df_train_aids_by_types.loc[1].rename(columns={'aid': 'count'}).reset_index()\n",
    "df_train_order_aid_counts = df_train_aids_by_types.loc[2].rename(columns={'aid': 'count'}).reset_index()\n",
    "df_test_click_aid_counts = df_test_aids_by_types.loc[0].rename(columns={'aid': 'count'}).reset_index()\n",
    "df_test_cart_aid_counts = df_test_aids_by_types.loc[1].rename(columns={'aid': 'count'}).reset_index()\n",
    "df_test_order_aid_counts = df_test_aids_by_types.loc[2].rename(columns={'aid': 'count'}).reset_index()\n",
    "del df_train_aids_by_types, df_test_aids_by_types\n",
    "df_all_click_aid_counts = pd.concat((df_train_click_aid_counts, df_test_click_aid_counts), axis=0, ignore_index=True).reset_index(drop=True)\n",
    "df_all_click_aid_counts = df_all_click_aid_counts.groupby('aid')['count'].sum().reset_index()\n",
    "df_all_cart_aid_counts = pd.concat((df_train_cart_aid_counts, df_test_cart_aid_counts), axis=0, ignore_index=True).reset_index(drop=True)\n",
    "df_all_cart_aid_counts = df_all_cart_aid_counts.groupby('aid')['count'].sum().reset_index()\n",
    "df_all_order_aid_counts = pd.concat((df_train_order_aid_counts, df_test_order_aid_counts), axis=0, ignore_index=True).reset_index(drop=True)\n",
    "df_all_order_aid_counts = df_all_order_aid_counts.groupby('aid')['count'].sum().reset_index()\n",
    "\n",
    "df_train_click_aid_counts.sort_values(by='count', ascending=False, inplace=True)\n",
    "df_test_click_aid_counts.sort_values(by='count', ascending=False, inplace=True)\n",
    "df_all_click_aid_counts.sort_values(by='count', ascending=False, inplace=True)\n",
    "\n",
    "df_train_cart_aid_counts.sort_values(by='count', ascending=False, inplace=True)\n",
    "df_test_cart_aid_counts.sort_values(by='count', ascending=False, inplace=True)\n",
    "df_all_cart_aid_counts.sort_values(by='count', ascending=False, inplace=True)\n",
    "\n",
    "df_train_order_aid_counts.sort_values(by='count', ascending=False, inplace=True)\n",
    "df_test_order_aid_counts.sort_values(by='count', ascending=False, inplace=True)\n",
    "df_all_order_aid_counts.sort_values(by='count', ascending=False, inplace=True)\n",
    "\n",
    "train_20_most_frequent_click_aids = df_train_click_aid_counts.set_index('aid').head(20).to_dict()['count']\n",
    "test_20_most_frequent_click_aids = df_test_click_aid_counts.set_index('aid').head(20).to_dict()['count']\n",
    "all_20_most_frequent_click_aids = df_all_click_aid_counts.set_index('aid').head(20).to_dict()['count']\n",
    "del df_train_click_aid_counts, df_test_click_aid_counts, df_all_click_aid_counts\n",
    "\n",
    "train_20_most_frequent_cart_aids = df_train_cart_aid_counts.set_index('aid').head(20).to_dict()['count']\n",
    "test_20_most_frequent_cart_aids = df_test_cart_aid_counts.set_index('aid').head(20).to_dict()['count']\n",
    "all_20_most_frequent_cart_aids = df_all_cart_aid_counts.set_index('aid').head(20).to_dict()['count']\n",
    "del df_train_cart_aid_counts, df_test_cart_aid_counts, df_all_cart_aid_counts\n",
    "\n",
    "train_20_most_frequent_order_aids = df_train_order_aid_counts.set_index('aid').head(20).to_dict()['count']\n",
    "test_20_most_frequent_order_aids = df_test_order_aid_counts.set_index('aid').head(20).to_dict()['count']\n",
    "all_20_most_frequent_order_aids = df_all_order_aid_counts.set_index('aid').head(20).to_dict()['count']\n",
    "del df_train_order_aid_counts, df_test_order_aid_counts, df_all_order_aid_counts"
   ]
  },
  {
   "cell_type": "markdown",
   "id": "39aabca1",
   "metadata": {
    "papermill": {
     "duration": 0.002819,
     "end_time": "2022-11-08T12:42:51.402013",
     "exception": false,
     "start_time": "2022-11-08T12:42:51.399194",
     "status": "completed"
    },
    "tags": []
   },
   "source": [
    "## 3. aid Frequency Baseline\n",
    "\n",
    "[@Tawara](https://www.kaggle.com/ttahara) shared aid frequency baseline in [this](https://www.kaggle.com/code/ttahara/otto-mors-aid-frequency-baseline) notebook. However, his implementation doesn't predict 20 aids if number of unique aids is less than 20 in a session.\n",
    "\n",
    "Aim of this notebook is comparing different ways of filling empty predictions and improve frequency baseline little bit further.\n",
    "\n",
    "* top 20 most frequent aids per session **-> 0.482** (Tawara's baseline)\n",
    "* top 20 most frequent aids per session concatenated with top x (number of aids left to predict) most frequent aids in training set **-> 0.484**\n",
    "* top 20 most frequent aids per session concatenated with top x (number of aids left to predict) most frequent aids in training + test set **-> 0.484**\n",
    "* top 20 most frequent aids per session concatenated with top x (number of aids left to predict) most frequent aids per event type in training set **-> 0.484**\n",
    "* top 20 most frequent aids per session concatenated with top x (number of aids left to predict) most frequent aids per event type in training + test set **-> 0.484**\n",
    "\n",
    "There wasn't much improvement after concatenation. All of the concatenation types scored 0.484 on public leaderboard however \"most frequent aids per event type in training + test set\" yields the largest boost compared to others."
   ]
  },
  {
   "cell_type": "code",
   "execution_count": 4,
   "id": "19711e64",
   "metadata": {
    "execution": {
     "iopub.execute_input": "2022-11-08T12:42:51.409600Z",
     "iopub.status.busy": "2022-11-08T12:42:51.409177Z",
     "iopub.status.idle": "2022-11-08T12:43:50.953359Z",
     "shell.execute_reply": "2022-11-08T12:43:50.952130Z"
    },
    "papermill": {
     "duration": 59.552518,
     "end_time": "2022-11-08T12:43:50.957482",
     "exception": false,
     "start_time": "2022-11-08T12:42:51.404964",
     "status": "completed"
    },
    "tags": []
   },
   "outputs": [
    {
     "name": "stderr",
     "output_type": "stream",
     "text": [
      "100%|██████████| 1671803/1671803 [00:38<00:00, 43033.78it/s]\n"
     ]
    }
   ],
   "source": [
    "submission = []\n",
    "\n",
    "df_test_session_aid_frequencies = df_test.groupby(['session', 'aid'])['aid'].count()\n",
    "# Sort values inside groups\n",
    "df_test_session_aid_frequencies = df_test_session_aid_frequencies.sort_values(ascending=False).sort_index(level='session', sort_remaining=False)\n",
    "df_test_session_aid_frequencies = df_test_session_aid_frequencies.rename('count').reset_index()\n",
    "# Create a dictionary of session id keys and list of top 20 most frequent aid values\n",
    "df_test_session_aid_frequencies = df_test_session_aid_frequencies.groupby('session')['aid'].agg(lambda x: list(x)[:20]).to_dict()\n",
    "\n",
    "for session_id, aids in tqdm(df_test_session_aid_frequencies.items()):\n",
    "\n",
    "    for event_type in ['click', 'cart', 'order']:\n",
    "        \n",
    "        predictions = aids.copy()\n",
    "        \n",
    "        if event_type == 'click':\n",
    "            predictions += list(all_20_most_frequent_click_aids.keys())[:20 - len(aids)]\n",
    "        elif event_type == 'cart':\n",
    "            predictions += list(all_20_most_frequent_cart_aids.keys())[:20 - len(aids)]\n",
    "        elif event_type == 'order':\n",
    "            predictions += list(all_20_most_frequent_order_aids.keys())[:20 - len(aids)]\n",
    "        \n",
    "        predictions = ' '.join([str(aid) for aid in predictions])\n",
    "        submission.append({\n",
    "            'session_type': f'{session_id}_{event_type}s',\n",
    "            'labels': predictions\n",
    "        })\n"
   ]
  },
  {
   "cell_type": "code",
   "execution_count": 5,
   "id": "535ebb7a",
   "metadata": {
    "execution": {
     "iopub.execute_input": "2022-11-08T12:43:51.015056Z",
     "iopub.status.busy": "2022-11-08T12:43:51.014571Z",
     "iopub.status.idle": "2022-11-08T12:43:55.039029Z",
     "shell.execute_reply": "2022-11-08T12:43:55.037699Z"
    },
    "papermill": {
     "duration": 4.056989,
     "end_time": "2022-11-08T12:43:55.041597",
     "exception": false,
     "start_time": "2022-11-08T12:43:50.984608",
     "status": "completed"
    },
    "tags": []
   },
   "outputs": [
    {
     "data": {
      "text/html": [
       "<div>\n",
       "<style scoped>\n",
       "    .dataframe tbody tr th:only-of-type {\n",
       "        vertical-align: middle;\n",
       "    }\n",
       "\n",
       "    .dataframe tbody tr th {\n",
       "        vertical-align: top;\n",
       "    }\n",
       "\n",
       "    .dataframe thead th {\n",
       "        text-align: right;\n",
       "    }\n",
       "</style>\n",
       "<table border=\"1\" class=\"dataframe\">\n",
       "  <thead>\n",
       "    <tr style=\"text-align: right;\">\n",
       "      <th></th>\n",
       "      <th>session_type</th>\n",
       "      <th>labels</th>\n",
       "    </tr>\n",
       "  </thead>\n",
       "  <tbody>\n",
       "    <tr>\n",
       "      <th>0</th>\n",
       "      <td>12899779_clicks</td>\n",
       "      <td>59625 1460571 108125 485256 29735 1733943 1849...</td>\n",
       "    </tr>\n",
       "    <tr>\n",
       "      <th>1</th>\n",
       "      <td>12899779_carts</td>\n",
       "      <td>59625 485256 152547 33343 166037 1733943 23148...</td>\n",
       "    </tr>\n",
       "    <tr>\n",
       "      <th>2</th>\n",
       "      <td>12899779_orders</td>\n",
       "      <td>59625 231487 166037 1733943 1445562 1022566 80...</td>\n",
       "    </tr>\n",
       "    <tr>\n",
       "      <th>3</th>\n",
       "      <td>12899780_clicks</td>\n",
       "      <td>1142000 736515 973453 582732 1460571 108125 48...</td>\n",
       "    </tr>\n",
       "    <tr>\n",
       "      <th>4</th>\n",
       "      <td>12899780_carts</td>\n",
       "      <td>1142000 736515 973453 582732 485256 152547 333...</td>\n",
       "    </tr>\n",
       "    <tr>\n",
       "      <th>...</th>\n",
       "      <td>...</td>\n",
       "      <td>...</td>\n",
       "    </tr>\n",
       "    <tr>\n",
       "      <th>5015404</th>\n",
       "      <td>14571580_carts</td>\n",
       "      <td>202353 485256 152547 33343 166037 1733943 2314...</td>\n",
       "    </tr>\n",
       "    <tr>\n",
       "      <th>5015405</th>\n",
       "      <td>14571580_orders</td>\n",
       "      <td>202353 231487 166037 1733943 1445562 1022566 8...</td>\n",
       "    </tr>\n",
       "    <tr>\n",
       "      <th>5015406</th>\n",
       "      <td>14571581_clicks</td>\n",
       "      <td>1100210 1460571 108125 485256 29735 1733943 18...</td>\n",
       "    </tr>\n",
       "    <tr>\n",
       "      <th>5015407</th>\n",
       "      <td>14571581_carts</td>\n",
       "      <td>1100210 485256 152547 33343 166037 1733943 231...</td>\n",
       "    </tr>\n",
       "    <tr>\n",
       "      <th>5015408</th>\n",
       "      <td>14571581_orders</td>\n",
       "      <td>1100210 231487 166037 1733943 1445562 1022566 ...</td>\n",
       "    </tr>\n",
       "  </tbody>\n",
       "</table>\n",
       "<p>5015409 rows × 2 columns</p>\n",
       "</div>"
      ],
      "text/plain": [
       "            session_type                                             labels\n",
       "0        12899779_clicks  59625 1460571 108125 485256 29735 1733943 1849...\n",
       "1         12899779_carts  59625 485256 152547 33343 166037 1733943 23148...\n",
       "2        12899779_orders  59625 231487 166037 1733943 1445562 1022566 80...\n",
       "3        12899780_clicks  1142000 736515 973453 582732 1460571 108125 48...\n",
       "4         12899780_carts  1142000 736515 973453 582732 485256 152547 333...\n",
       "...                  ...                                                ...\n",
       "5015404   14571580_carts  202353 485256 152547 33343 166037 1733943 2314...\n",
       "5015405  14571580_orders  202353 231487 166037 1733943 1445562 1022566 8...\n",
       "5015406  14571581_clicks  1100210 1460571 108125 485256 29735 1733943 18...\n",
       "5015407   14571581_carts  1100210 485256 152547 33343 166037 1733943 231...\n",
       "5015408  14571581_orders  1100210 231487 166037 1733943 1445562 1022566 ...\n",
       "\n",
       "[5015409 rows x 2 columns]"
      ]
     },
     "execution_count": 5,
     "metadata": {},
     "output_type": "execute_result"
    }
   ],
   "source": [
    "df_submission = pd.DataFrame(submission)\n",
    "df_submission"
   ]
  },
  {
   "cell_type": "code",
   "execution_count": 6,
   "id": "e48ba963",
   "metadata": {
    "execution": {
     "iopub.execute_input": "2022-11-08T12:43:55.095820Z",
     "iopub.status.busy": "2022-11-08T12:43:55.095383Z",
     "iopub.status.idle": "2022-11-08T12:44:14.651909Z",
     "shell.execute_reply": "2022-11-08T12:44:14.650869Z"
    },
    "papermill": {
     "duration": 19.586803,
     "end_time": "2022-11-08T12:44:14.654754",
     "exception": false,
     "start_time": "2022-11-08T12:43:55.067951",
     "status": "completed"
    },
    "tags": []
   },
   "outputs": [],
   "source": [
    "df_submission.to_csv('submission.csv', index=False)"
   ]
  }
 ],
 "metadata": {
  "kernelspec": {
   "display_name": "Python 3",
   "language": "python",
   "name": "python3"
  },
  "language_info": {
   "codemirror_mode": {
    "name": "ipython",
    "version": 3
   },
   "file_extension": ".py",
   "mimetype": "text/x-python",
   "name": "python",
   "nbconvert_exporter": "python",
   "pygments_lexer": "ipython3",
   "version": "3.7.12"
  },
  "papermill": {
   "default_parameters": {},
   "duration": 183.012372,
   "end_time": "2022-11-08T12:44:17.301798",
   "environment_variables": {},
   "exception": null,
   "input_path": "__notebook__.ipynb",
   "output_path": "__notebook__.ipynb",
   "parameters": {},
   "start_time": "2022-11-08T12:41:14.289426",
   "version": "2.3.4"
  }
 },
 "nbformat": 4,
 "nbformat_minor": 5
}
